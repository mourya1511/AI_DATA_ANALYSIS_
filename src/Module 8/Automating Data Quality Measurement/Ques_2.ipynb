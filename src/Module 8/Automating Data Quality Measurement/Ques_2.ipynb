{
 "cells": [
  {
   "cell_type": "markdown",
   "metadata": {},
   "source": [
    "### Task 1: Validate Data with a Custom Expectation in Great Expectations\n",
    "**Description**: Create a custom expectation and validate data with Great Expectations.\n",
    "\n",
    "**Load a sample DataFrame**\n",
    "\n",
    "data = {\n",
    "'age': [25, 30, 35, 40, 45],\n",
    "'income': [50000, 60000, 75000, None, 100000]\n",
    "}"
   ]
  },
  {
   "cell_type": "code",
   "execution_count": 9,
   "metadata": {},
   "outputs": [
    {
     "ename": "AttributeError",
     "evalue": "module 'great_expectations' has no attribute 'dataset'",
     "output_type": "error",
     "traceback": [
      "\u001b[0;31m---------------------------------------------------------------------------\u001b[0m",
      "\u001b[0;31mAttributeError\u001b[0m                            Traceback (most recent call last)",
      "Cell \u001b[0;32mIn[9], line 62\u001b[0m\n\u001b[1;32m     59\u001b[0m df \u001b[38;5;241m=\u001b[39m validate_input_data(df)\n\u001b[1;32m     61\u001b[0m \u001b[38;5;66;03m# Apply custom expectation and validation\u001b[39;00m\n\u001b[0;32m---> 62\u001b[0m ge_df \u001b[38;5;241m=\u001b[39m \u001b[43mcreate_custom_expectation\u001b[49m\u001b[43m(\u001b[49m\u001b[43mdf\u001b[49m\u001b[43m)\u001b[49m\n\u001b[1;32m     63\u001b[0m validation_result \u001b[38;5;241m=\u001b[39m ge_df\u001b[38;5;241m.\u001b[39mexpect_no_nulls_in_column(\u001b[38;5;124m\"\u001b[39m\u001b[38;5;124mincome\u001b[39m\u001b[38;5;124m\"\u001b[39m)\n\u001b[1;32m     65\u001b[0m \u001b[38;5;66;03m# Trigger alert system\u001b[39;00m\n",
      "Cell \u001b[0;32mIn[9], line 16\u001b[0m, in \u001b[0;36mcreate_custom_expectation\u001b[0;34m(df)\u001b[0m\n\u001b[1;32m     13\u001b[0m     \u001b[38;5;28;01mreturn\u001b[39;00m {\u001b[38;5;124m\"\u001b[39m\u001b[38;5;124msuccess\u001b[39m\u001b[38;5;124m\"\u001b[39m: success, \u001b[38;5;124m\"\u001b[39m\u001b[38;5;124mresult\u001b[39m\u001b[38;5;124m\"\u001b[39m: \u001b[38;5;124mf\u001b[39m\u001b[38;5;124m\"\u001b[39m\u001b[38;5;132;01m{\u001b[39;00mnulls\u001b[38;5;132;01m}\u001b[39;00m\u001b[38;5;124m missing values in \u001b[39m\u001b[38;5;124m'\u001b[39m\u001b[38;5;132;01m{\u001b[39;00mcolumn_name\u001b[38;5;132;01m}\u001b[39;00m\u001b[38;5;124m'\u001b[39m\u001b[38;5;124m\"\u001b[39m \u001b[38;5;28;01mif\u001b[39;00m \u001b[38;5;129;01mnot\u001b[39;00m success \u001b[38;5;28;01melse\u001b[39;00m \u001b[38;5;124m\"\u001b[39m\u001b[38;5;124mData is clean.\u001b[39m\u001b[38;5;124m\"\u001b[39m}\n\u001b[1;32m     15\u001b[0m \u001b[38;5;66;03m# Add the custom expectation to the DataFrame\u001b[39;00m\n\u001b[0;32m---> 16\u001b[0m \u001b[43mge\u001b[49m\u001b[38;5;241;43m.\u001b[39;49m\u001b[43mdataset\u001b[49m\u001b[38;5;241m.\u001b[39mPandasDataset\u001b[38;5;241m.\u001b[39mexpect_no_nulls_in_column \u001b[38;5;241m=\u001b[39m expect_no_nulls_in_column\n\u001b[1;32m     17\u001b[0m \u001b[38;5;28;01mreturn\u001b[39;00m ge\u001b[38;5;241m.\u001b[39mdataset\u001b[38;5;241m.\u001b[39mPandasDataset(df)\n",
      "\u001b[0;31mAttributeError\u001b[0m: module 'great_expectations' has no attribute 'dataset'"
     ]
    }
   ],
   "source": [
    "import pandas as pd\n",
    "import great_expectations as ge\n",
    "from datetime import datetime\n",
    "import time\n",
    "\n",
    "# Task 1: Custom Expectation\n",
    "def create_custom_expectation(df):\n",
    "    \"\"\"Create a custom expectation that checks for missing values in a specific column.\"\"\"\n",
    "    def expect_no_nulls_in_column(self, column_name):\n",
    "        \"\"\"Expect no null values in the specified column.\"\"\"\n",
    "        nulls = self[column_name].isnull().sum()\n",
    "        success = nulls == 0\n",
    "        return {\"success\": success, \"result\": f\"{nulls} missing values in '{column_name}'\" if not success else \"Data is clean.\"}\n",
    "\n",
    "    # Add the custom expectation to the DataFrame\n",
    "    ge.dataset.PandasDataset.expect_no_nulls_in_column = expect_no_nulls_in_column\n",
    "    return ge.dataset.PandasDataset(df)\n",
    "\n",
    "# Task 2: Basic Alert System\n",
    "def alert_system(validation_result):\n",
    "    \"\"\"Simple alert system that triggers when data quality drops.\"\"\"\n",
    "    if not validation_result[\"success\"]:\n",
    "        print(f\"ALERT: {validation_result['result']} at {datetime.now()}\")\n",
    "    else:\n",
    "        print(f\"Data Quality Check Passed: {validation_result['result']} at {datetime.now()}\")\n",
    "\n",
    "# Task 3: Real-time Data Quality Monitoring\n",
    "def real_time_monitoring(df, interval=5):\n",
    "    \"\"\"Simulate real-time monitoring of data quality.\"\"\"\n",
    "    while True:\n",
    "        print(f\"\\nChecking data quality at {datetime.now()}...\")\n",
    "        \n",
    "        # Revalidate data\n",
    "        ge_df = create_custom_expectation(df)\n",
    "        validation_result = ge_df.expect_no_nulls_in_column(\"income\")\n",
    "        \n",
    "        # Trigger the alert system\n",
    "        alert_system(validation_result)\n",
    "        \n",
    "        time.sleep(interval)\n",
    "\n",
    "# Task 4: Input Validation and Error Handling\n",
    "def validate_input_data(df):\n",
    "    \"\"\"Ensure the DataFrame has the expected columns and types.\"\"\"\n",
    "    required_columns = ['age', 'income']\n",
    "    for column in required_columns:\n",
    "        if column not in df.columns:\n",
    "            raise ValueError(f\"Missing required column: {column}\")\n",
    "        if df[column].dtype not in [float, int]:\n",
    "            raise TypeError(f\"Column {column} must be of type int or float.\")\n",
    "    return df\n",
    "\n",
    "# Main code to run the program\n",
    "data = {'age': [25, 30, 35, 40, 45], 'income': [50000, 60000, 75000, None, 100000]}\n",
    "df = pd.DataFrame(data)\n",
    "\n",
    "try:\n",
    "    # Validate input data\n",
    "    df = validate_input_data(df)\n",
    "\n",
    "    # Apply custom expectation and validation\n",
    "    ge_df = create_custom_expectation(df)\n",
    "    validation_result = ge_df.expect_no_nulls_in_column(\"income\")\n",
    "\n",
    "    # Trigger alert system\n",
    "    alert_system(validation_result)\n",
    "\n",
    "    # Start real-time monitoring (optional, for testing simulation purposes)\n",
    "    # real_time_monitoring(df, interval=5)\n",
    "\n",
    "except (ValueError, TypeError) as e:\n",
    "    print(f\"Error: {e}\")"
   ]
  },
  {
   "cell_type": "markdown",
   "metadata": {},
   "source": [
    "### Task 2: Implement a Basic Alert System for Data Quality Drops\n",
    "**Description**: Set up a basic alert system that triggers when data quality drops."
   ]
  },
  {
   "cell_type": "markdown",
   "metadata": {},
   "source": [
    "### Task 3: Real-time Data Quality Monitoring with Python and Great Expectations\n",
    "**Description**: Implement a system that monitors data quality in real-time."
   ]
  }
 ],
 "metadata": {
  "kernelspec": {
   "display_name": "Python 3",
   "language": "python",
   "name": "python3"
  },
  "language_info": {
   "codemirror_mode": {
    "name": "ipython",
    "version": 3
   },
   "file_extension": ".py",
   "mimetype": "text/x-python",
   "name": "python",
   "nbconvert_exporter": "python",
   "pygments_lexer": "ipython3",
   "version": "3.10.12"
  }
 },
 "nbformat": 4,
 "nbformat_minor": 2
}
