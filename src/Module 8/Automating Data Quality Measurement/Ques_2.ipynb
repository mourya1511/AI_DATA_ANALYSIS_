{
 "cells": [
  {
   "cell_type": "markdown",
   "metadata": {},
   "source": [
    "### Task 1: Validate Data with a Custom Expectation in Great Expectations\n",
    "**Description**: Create a custom expectation and validate data with Great Expectations.\n",
    "\n",
    "**Load a sample DataFrame**\n",
    "\n",
    "data = {\n",
    "'age': [25, 30, 35, 40, 45],\n",
    "'income': [50000, 60000, 75000, None, 100000]\n",
    "}"
   ]
  },
  {
   "cell_type": "code",
   "execution_count": 7,
   "metadata": {},
   "outputs": [
    {
     "ename": "AttributeError",
     "evalue": "module 'great_expectations' has no attribute 'dataset'",
     "output_type": "error",
     "traceback": [
      "\u001b[0;31m---------------------------------------------------------------------------\u001b[0m",
      "\u001b[0;31mAttributeError\u001b[0m                            Traceback (most recent call last)",
      "Cell \u001b[0;32mIn[7], line 12\u001b[0m\n\u001b[1;32m      9\u001b[0m df \u001b[38;5;241m=\u001b[39m pd\u001b[38;5;241m.\u001b[39mDataFrame(data)\n\u001b[1;32m     11\u001b[0m \u001b[38;5;66;03m# Load data into a Great Expectations DataFrame\u001b[39;00m\n\u001b[0;32m---> 12\u001b[0m ge_df \u001b[38;5;241m=\u001b[39m \u001b[43mge\u001b[49m\u001b[38;5;241;43m.\u001b[39;49m\u001b[43mdataset\u001b[49m\u001b[38;5;241m.\u001b[39mPandasDataset(df)\n\u001b[1;32m     14\u001b[0m \u001b[38;5;66;03m# Custom Expectation: Check that the income column has no missing values\u001b[39;00m\n\u001b[1;32m     15\u001b[0m \u001b[38;5;28;01mdef\u001b[39;00m\u001b[38;5;250m \u001b[39m\u001b[38;5;21mexpect_no_nulls_in_column\u001b[39m(\u001b[38;5;28mself\u001b[39m, column_name):\n",
      "\u001b[0;31mAttributeError\u001b[0m: module 'great_expectations' has no attribute 'dataset'"
     ]
    }
   ],
   "source": [
    "import pandas as pd\n",
    "import great_expectations as ge\n",
    "from datetime import datetime\n",
    "\n",
    "# Task 1: Load Data and Create Custom Expectation\n",
    "\n",
    "# Sample data\n",
    "data = {'age': [25, 30, 35, 40, 45], 'income': [50000, 60000, 75000, None, 100000]}\n",
    "df = pd.DataFrame(data)\n",
    "\n",
    "# Load data into a Great Expectations DataFrame\n",
    "ge_df = ge.dataset.PandasDataset(df)\n",
    "\n",
    "# Custom Expectation: Check that the income column has no missing values\n",
    "def expect_no_nulls_in_column(self, column_name):\n",
    "    \"\"\"Custom Expectation to check for nulls in a specified column.\"\"\"\n",
    "    nulls = self[column_name].isnull().sum()\n",
    "    success = nulls == 0\n",
    "    if not success:\n",
    "        result = f\"Data Quality Issue: {nulls} missing values in '{column_name}' column.\"\n",
    "    else:\n",
    "        result = f\"Data is clean for '{column_name}' column.\"\n",
    "    return {\n",
    "        \"success\": success,\n",
    "        \"result\": result\n",
    "    }\n",
    "\n",
    "# Add the custom expectation to the dataset\n",
    "ge.dataset.PandasDataset.expect_no_nulls_in_column = expect_no_nulls_in_column\n",
    "\n",
    "# Validate the data using the custom expectation\n",
    "validation_result = ge_df.expect_no_nulls_in_column(\"income\")\n",
    "print(validation_result['result'])\n",
    "\n",
    "# Task 2: Implement a Basic Alert System for Data Quality Drops\n",
    "\n",
    "# Function to simulate an alert system\n",
    "def alert_system(validation_result):\n",
    "    if not validation_result['success']:\n",
    "        # In a real-world scenario, this could send an email or text message\n",
    "        print(f\"ALERT: {validation_result['result']} at {datetime.now()}\")\n",
    "    else:\n",
    "        print(f\"Data Quality Check Passed: {validation_result['result']} at {datetime.now()}\")\n",
    "\n",
    "# Trigger alert system\n",
    "alert_system(validation_result)\n",
    "\n",
    "# Task 3: Real-time Data Quality Monitoring (Simulated)\n",
    "\n",
    "# Simulate monitoring with periodic checks on the data\n",
    "import time\n",
    "\n",
    "def real_time_monitoring(df, interval=5):\n",
    "    \"\"\"Simulate real-time monitoring of the data for changes.\"\"\"\n",
    "    while True:\n",
    "        print(f\"\\nChecking data quality at {datetime.now()}...\")\n",
    "        \n",
    "        # Revalidate data\n",
    "        ge_df = ge.dataset.PandasDataset(df)\n",
    "        validation_result = ge_df.expect_no_nulls_in_column(\"income\")\n",
    "        \n",
    "        # Trigger alert system based on validation result\n",
    "        alert_system(validation_result)\n",
    "        \n",
    "        # Simulate waiting time for next data check (in seconds)\n",
    "        time.sleep(interval)\n",
    "\n",
    "# For real-time monitoring, this would run indefinitely. You can stop with Ctrl+C.\n",
    "# Start the real-time monitoring (simulating it for 15 seconds for demonstration)\n",
    "# real_time_monitoring(df, interval=5)"
   ]
  },
  {
   "cell_type": "markdown",
   "metadata": {},
   "source": [
    "### Task 2: Implement a Basic Alert System for Data Quality Drops\n",
    "**Description**: Set up a basic alert system that triggers when data quality drops."
   ]
  },
  {
   "cell_type": "markdown",
   "metadata": {},
   "source": [
    "### Task 3: Real-time Data Quality Monitoring with Python and Great Expectations\n",
    "**Description**: Implement a system that monitors data quality in real-time."
   ]
  }
 ],
 "metadata": {
  "kernelspec": {
   "display_name": "Python 3",
   "language": "python",
   "name": "python3"
  },
  "language_info": {
   "codemirror_mode": {
    "name": "ipython",
    "version": 3
   },
   "file_extension": ".py",
   "mimetype": "text/x-python",
   "name": "python",
   "nbconvert_exporter": "python",
   "pygments_lexer": "ipython3",
   "version": "3.10.12"
  }
 },
 "nbformat": 4,
 "nbformat_minor": 2
}
