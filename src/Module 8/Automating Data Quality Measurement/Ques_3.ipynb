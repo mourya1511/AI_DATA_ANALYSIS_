{
 "cells": [
  {
   "cell_type": "markdown",
   "metadata": {},
   "source": [
    "## Using AI for Anomalies Detection in Data Quality\n",
    "**Description**: Implement an AI-based approach to detect anomalies in data quality.\n",
    "\n",
    "**Steps**:\n",
    "1. Use an Anomaly Detection Algorithm:\n",
    "    - Use sklearn's Isolation Forest for anomaly detection.\n",
    "\n",
    "**Example data:**\n",
    "\n",
    "data = np.array([[25, 50000], [30, 60000], [35, 75000], [40, None], [45, 100000]])\n",
    "\n",
    "2. Integrate with Great Expectations:\n",
    "    - Generate alerts if anomalies are detected:"
   ]
  },
  {
   "cell_type": "code",
   "execution_count": 1,
   "metadata": {},
   "outputs": [
    {
     "name": "stdout",
     "output_type": "stream",
     "text": [
      "Detected Anomalies:\n",
      "    Age    Income  Anomaly Anomaly_Label\n",
      "0  25.0   50000.0        1        Normal\n",
      "1  30.0   60000.0        1        Normal\n",
      "2  35.0   75000.0        1        Normal\n",
      "3  40.0   67500.0        1        Normal\n",
      "4  45.0  100000.0       -1       Anomaly\n",
      "ALERT: Data quality issues detected due to anomalies.\n"
     ]
    }
   ],
   "source": [
    "import numpy as np\n",
    "import pandas as pd\n",
    "from sklearn.ensemble import IsolationForest\n",
    "from sklearn.impute import SimpleImputer\n",
    "\n",
    "# Example data with a missing value (None as object)\n",
    "data = np.array([[25, 50000], [30, 60000], [35, 75000], [40, None], [45, 100000]])\n",
    "\n",
    "# Convert to DataFrame\n",
    "df = pd.DataFrame(data, columns=[\"Age\", \"Income\"])\n",
    "\n",
    "# Ensure numeric types (very important!)\n",
    "for col in df.columns:\n",
    "    df[col] = pd.to_numeric(df[col], errors='coerce')  # Convert to numeric, set invalids as NaN\n",
    "\n",
    "# Drop rows that are fully NaN (optional, depending on strategy)\n",
    "df.dropna(how='all', inplace=True)\n",
    "\n",
    "# Check if DataFrame is empty after cleaning\n",
    "if df.empty:\n",
    "    raise ValueError(\"DataFrame is empty after cleaning. No valid numeric data to process.\")\n",
    "\n",
    "# Impute missing values using median\n",
    "imputer = SimpleImputer(strategy=\"median\")\n",
    "df_imputed = pd.DataFrame(imputer.fit_transform(df), columns=df.columns)\n",
    "\n",
    "# Check again: if imputation returns empty (e.g. all columns were dropped)\n",
    "if df_imputed.empty:\n",
    "    raise ValueError(\"Imputed DataFrame is empty. Check input data.\")\n",
    "\n",
    "# Isolation Forest for anomaly detection\n",
    "clf = IsolationForest(n_estimators=100, contamination=0.2, random_state=42)\n",
    "df_imputed[\"Anomaly\"] = clf.fit_predict(df_imputed)\n",
    "\n",
    "# Map output to labels for clarity\n",
    "df_imputed[\"Anomaly_Label\"] = df_imputed[\"Anomaly\"].map({1: \"Normal\", -1: \"Anomaly\"})\n",
    "\n",
    "# Show results\n",
    "print(\"Detected Anomalies:\")\n",
    "print(df_imputed)\n",
    "\n",
    "# Alert if any anomalies are found\n",
    "if (df_imputed[\"Anomaly_Label\"] == \"Anomaly\").any():\n",
    "    print(\"ALERT: Data quality issues detected due to anomalies.\")\n",
    "else:\n",
    "    print(\"Data quality is good.\")"
   ]
  }
 ],
 "metadata": {
  "kernelspec": {
   "display_name": "Python 3",
   "language": "python",
   "name": "python3"
  },
  "language_info": {
   "codemirror_mode": {
    "name": "ipython",
    "version": 3
   },
   "file_extension": ".py",
   "mimetype": "text/x-python",
   "name": "python",
   "nbconvert_exporter": "python",
   "pygments_lexer": "ipython3",
   "version": "3.10.12"
  }
 },
 "nbformat": 4,
 "nbformat_minor": 2
}
