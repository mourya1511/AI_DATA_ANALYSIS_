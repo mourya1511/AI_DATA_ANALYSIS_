{
 "cells": [
  {
   "cell_type": "markdown",
   "metadata": {},
   "source": [
    "## Using AI for Anomalies Detection in Data Quality\n",
    "**Description**: Implement an AI-based approach to detect anomalies in data quality.\n",
    "\n",
    "**Steps**:\n",
    "1. Use an Anomaly Detection Algorithm:\n",
    "    - Use sklearn's Isolation Forest for anomaly detection.\n",
    "\n",
    "**Example data:**\n",
    "\n",
    "data = np.array([[25, 50000], [30, 60000], [35, 75000], [40, None], [45, 100000]])\n",
    "\n",
    "2. Integrate with Great Expectations:\n",
    "    - Generate alerts if anomalies are detected:"
   ]
  },
  {
   "cell_type": "code",
   "execution_count": 2,
   "metadata": {},
   "outputs": [
    {
     "name": "stdout",
     "output_type": "stream",
     "text": [
      "Detected Anomalies:\n",
      "  Age    Income  Anomaly\n",
      "0  25   50000.0        1\n",
      "1  30   60000.0        1\n",
      "2  35   75000.0        1\n",
      "3  40   67500.0        1\n",
      "4  45  100000.0       -1\n",
      "ALERT: Data quality issues detected due to anomalies.\n"
     ]
    }
   ],
   "source": [
    "import numpy as np\n",
    "import pandas as pd\n",
    "from sklearn.ensemble import IsolationForest\n",
    "\n",
    "# Example data with missing values\n",
    "data = np.array([[25, 50000], [30, 60000], [35, 75000], [40, None], [45, 100000]])\n",
    "\n",
    "# Convert to DataFrame for easier manipulation\n",
    "df = pd.DataFrame(data, columns=[\"Age\", \"Income\"])\n",
    "\n",
    "# Handle missing values (simple imputation)\n",
    "df[\"Income\"].fillna(df[\"Income\"].median(), inplace=True)\n",
    "\n",
    "# Initialize IsolationForest for anomaly detection\n",
    "clf = IsolationForest(n_estimators=100, contamination=0.2)\n",
    "\n",
    "# Fit the model\n",
    "clf.fit(df)\n",
    "\n",
    "# Predict anomalies (1 = normal, -1 = anomaly)\n",
    "df[\"Anomaly\"] = clf.predict(df)\n",
    "\n",
    "# Print results\n",
    "print(\"Detected Anomalies:\")\n",
    "print(df)\n",
    "\n",
    "# Trigger alert if anomalies are detected\n",
    "if df[\"Anomaly\"].eq(-1).any():  # If any anomaly is detected\n",
    "    print(\"ALERT: Data quality issues detected due to anomalies.\")\n",
    "else:\n",
    "    print(\"Data quality is good.\")"
   ]
  }
 ],
 "metadata": {
  "kernelspec": {
   "display_name": "Python 3",
   "language": "python",
   "name": "python3"
  },
  "language_info": {
   "codemirror_mode": {
    "name": "ipython",
    "version": 3
   },
   "file_extension": ".py",
   "mimetype": "text/x-python",
   "name": "python",
   "nbconvert_exporter": "python",
   "pygments_lexer": "ipython3",
   "version": "3.10.12"
  }
 },
 "nbformat": 4,
 "nbformat_minor": 2
}
