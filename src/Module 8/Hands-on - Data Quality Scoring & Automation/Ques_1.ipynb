{
 "cells": [
  {
   "cell_type": "markdown",
   "metadata": {},
   "source": [
    "### Task 1: Understanding and Defining Data Quality Metrics\n",
    "**Description**: Learn how to define basic data quality metrics such as completeness, validity, and uniqueness for a simple dataset.\n",
    "\n",
    "**Steps**:\n",
    "1. Dataset: Use a CSV with columns like Name , Email , Age .\n",
    "2. Metric Definitions:\n",
    "    - Completeness: Percentage of non-null values.\n",
    "    - Validity: % of email fields containing @ .\n",
    "    - Uniqueness: Count distinct entries in the Email column."
   ]
  },
  {
   "cell_type": "code",
   "execution_count": 1,
   "metadata": {},
   "outputs": [
    {
     "ename": "ModuleNotFoundError",
     "evalue": "No module named 'great_expectations'",
     "output_type": "error",
     "traceback": [
      "\u001b[0;31m---------------------------------------------------------------------------\u001b[0m",
      "\u001b[0;31mModuleNotFoundError\u001b[0m                       Traceback (most recent call last)",
      "Cell \u001b[0;32mIn[1], line 3\u001b[0m\n\u001b[1;32m      1\u001b[0m \u001b[38;5;66;03m# Write your code from here\u001b[39;00m\n\u001b[1;32m      2\u001b[0m \u001b[38;5;28;01mimport\u001b[39;00m\u001b[38;5;250m \u001b[39m\u001b[38;5;21;01mpandas\u001b[39;00m\u001b[38;5;250m \u001b[39m\u001b[38;5;28;01mas\u001b[39;00m\u001b[38;5;250m \u001b[39m\u001b[38;5;21;01mpd\u001b[39;00m\n\u001b[0;32m----> 3\u001b[0m \u001b[38;5;28;01mimport\u001b[39;00m\u001b[38;5;250m \u001b[39m\u001b[38;5;21;01mgreat_expectations\u001b[39;00m\u001b[38;5;250m \u001b[39m\u001b[38;5;28;01mas\u001b[39;00m\u001b[38;5;250m \u001b[39m\u001b[38;5;21;01mge\u001b[39;00m\n\u001b[1;32m      4\u001b[0m \u001b[38;5;28;01mfrom\u001b[39;00m\u001b[38;5;250m \u001b[39m\u001b[38;5;21;01mgreat_expectations\u001b[39;00m\u001b[38;5;21;01m.\u001b[39;00m\u001b[38;5;21;01mcore\u001b[39;00m\u001b[38;5;21;01m.\u001b[39;00m\u001b[38;5;21;01mbatch\u001b[39;00m\u001b[38;5;250m \u001b[39m\u001b[38;5;28;01mimport\u001b[39;00m BatchRequest\n\u001b[1;32m      6\u001b[0m \u001b[38;5;66;03m# Sample dataset (Task 1)\u001b[39;00m\n",
      "\u001b[0;31mModuleNotFoundError\u001b[0m: No module named 'great_expectations'"
     ]
    }
   ],
   "source": [
    "# Write your code from here\n",
    "import pandas as pd\n",
    "import great_expectations as ge\n",
    "from great_expectations.core.batch import BatchRequest\n",
    "\n",
    "# Sample dataset (Task 1)\n",
    "data = {\n",
    "    \"Name\": [\"Alice\", \"Bob\", None, \"Dave\", \"Eve\", \"Alice\"],\n",
    "    \"Email\": [\"alice@example.com\", \"bob@example\", \"carol@example.com\", \"dave@example.com\", \"eve@example.com\", \"alice@example.com\"],\n",
    "    \"Age\": [30, 25, 22, None, 28, 30]\n",
    "}\n",
    "\n",
    "df = pd.DataFrame(data)\n",
    "\n",
    "# Convert to Great Expectations dataframe\n",
    "ge_df = ge.from_pandas(df)\n",
    "\n",
    "# Task 1: Data Quality Metrics\n",
    "\n",
    "# Completeness: % non-null per column\n",
    "completeness = df.notnull().mean() * 100\n",
    "\n",
    "# Validity: % emails containing '@'\n",
    "valid_emails = df['Email'].dropna().apply(lambda x: '@' in x)\n",
    "validity = valid_emails.mean() * 100\n",
    "\n",
    "# Uniqueness: count distinct emails\n",
    "uniqueness = df['Email'].nunique()\n",
    "\n",
    "print(\"=== Data Quality Metrics ===\")\n",
    "print(f\"Completeness (%) per column:\\n{completeness}\\n\")\n",
    "print(f\"Validity (%) of Email addresses: {validity:.2f}%\")\n",
    "print(f\"Number of unique Email addresses: {uniqueness}\")\n",
    "\n",
    "# Task 2: Calculate Overall Data Quality Score (simple average of three metrics)\n",
    "# We'll take average completeness across columns, plus validity and uniqueness normalized\n",
    "\n",
    "avg_completeness = completeness.mean()\n",
    "# Normalize uniqueness by dividing by total rows (to get % unique)\n",
    "uniqueness_pct = uniqueness / len(df) * 100\n",
    "\n",
    "quality_score = (avg_completeness + validity + uniqueness_pct) / 3\n",
    "\n",
    "print(f\"\\nOverall Data Quality Score: {quality_score:.2f}%\")\n",
    "\n",
    "# Task 3: Create Great Expectations Suite for Completeness\n",
    "suite = ge_df.get_expectation_suite(expectation_suite_name=\"data_quality_suite\", overwrite_existing=True)\n",
    "\n",
    "# Expect completeness: no nulls in Name, Email, Age\n",
    "ge_df.expect_column_values_to_not_be_null(\"Name\")\n",
    "ge_df.expect_column_values_to_not_be_null(\"Email\")\n",
    "ge_df.expect_column_values_to_not_be_null(\"Age\")\n",
    "\n",
    "# Save suite\n",
    "suite.save_expectation_suite()\n",
    "\n",
    "# Task 4: Run validation and generate HTML report\n",
    "results = ge_df.validate(expectation_suite=suite)\n",
    "\n",
    "# Save validation result to HTML report\n",
    "from great_expectations.render.renderer import ValidationResultsPageRenderer\n",
    "from great_expectations.render.view import DefaultJinjaPageView\n",
    "from great_expectations.render.util import RenderedAtomicContent\n",
    "\n",
    "renderer = ValidationResultsPageRenderer()\n",
    "resource = renderer.render(validation_result_suite=results)\n",
    "view = DefaultJinjaPageView()\n",
    "html_report = view.render(resource=resource)\n",
    "\n",
    "with open(\"validation_report.html\", \"w\") as f:\n",
    "    f.write(html_report)\n",
    "\n",
    "print(\"\\nValidation report saved as validation_report.html\")\n",
    "\n",
    "# Task 5 & 6: Automate data quality score and trigger cleaning if below threshold\n",
    "\n",
    "THRESHOLD = 80  # example threshold\n",
    "\n",
    "def clean_data(df):\n",
    "    print(\"\\nData quality below threshold. Running cleaning script...\")\n",
    "    # Simple cleaning: drop rows with nulls or invalid emails (missing '@')\n",
    "    cleaned_df = df.dropna(subset=[\"Name\", \"Email\", \"Age\"])\n",
    "    cleaned_df = cleaned_df[cleaned_df[\"Email\"].str.contains(\"@\")]\n",
    "    return cleaned_df\n",
    "\n",
    "if quality_score < THRESHOLD:\n",
    "    df = clean_data(df)\n",
    "    print(\"Cleaned Data:\")\n",
    "    print(df)\n",
    "else:\n",
    "    print(\"\\nData quality is good. No cleaning needed.\")\n"
   ]
  },
  {
   "cell_type": "markdown",
   "metadata": {},
   "source": [
    "### Task 2: Calculating Data Quality Score\n",
    "**Description**: Aggregate multiple metrics to calculate an overall data quality score.\n",
    "\n",
    "**Steps**:\n",
    "1. Formula: Simple average of all metrics defined in Task 1."
   ]
  },
  {
   "cell_type": "code",
   "execution_count": null,
   "metadata": {},
   "outputs": [],
   "source": [
    "# Write your code from here"
   ]
  },
  {
   "cell_type": "markdown",
   "metadata": {},
   "source": [
    "### Task 3: Creating Expectations for a CSV\n",
    "**Description**: Develop basic data quality expectations using Great Expectations.\n",
    "\n",
    "**Steps**:\n",
    "1. Expectation Suite\n",
    "2. Define Expectations for Completeness"
   ]
  },
  {
   "cell_type": "code",
   "execution_count": null,
   "metadata": {},
   "outputs": [],
   "source": [
    "# Write your code from here"
   ]
  },
  {
   "cell_type": "markdown",
   "metadata": {},
   "source": [
    "### Task 4: Running and Validating Expectations\n",
    "**Description**: Run the created expectations and generate an output report.\n",
    "\n",
    "**Steps**:\n",
    "1. Validate\n",
    "2. Generate HTML Report"
   ]
  },
  {
   "cell_type": "code",
   "execution_count": null,
   "metadata": {},
   "outputs": [],
   "source": [
    "# Write your code from here\n"
   ]
  },
  {
   "cell_type": "markdown",
   "metadata": {},
   "source": [
    "### Task 5: Automating Data Quality Score Calculation\n",
    "**Description**: Automate the data quality score via a script that integrates with Great\n",
    "Expectations."
   ]
  },
  {
   "cell_type": "code",
   "execution_count": null,
   "metadata": {},
   "outputs": [],
   "source": [
    "# Write your code from here\n"
   ]
  },
  {
   "cell_type": "markdown",
   "metadata": {},
   "source": [
    "### Task 6: Leveraging Data Quality Metrics for Automated Data Cleaning\n",
    "**Description**: Implement a system where if data quality metrics fall below a threshold,\n",
    "automated data cleaning scripts are triggered.\n",
    "\n",
    "**Steps**:\n",
    "1. Define Cleaning Logic\n",
    "2. Integrate with Great Expectations:\n",
    "    - Use an action within the Great Expectations action list that only triggers if quality score is below a threshold, automating the cleaning."
   ]
  },
  {
   "cell_type": "code",
   "execution_count": null,
   "metadata": {},
   "outputs": [],
   "source": [
    "# Write your code from here\n"
   ]
  }
 ],
 "metadata": {
  "kernelspec": {
   "display_name": "Python 3",
   "language": "python",
   "name": "python3"
  },
  "language_info": {
   "codemirror_mode": {
    "name": "ipython",
    "version": 3
   },
   "file_extension": ".py",
   "mimetype": "text/x-python",
   "name": "python",
   "nbconvert_exporter": "python",
   "pygments_lexer": "ipython3",
   "version": "3.10.12"
  }
 },
 "nbformat": 4,
 "nbformat_minor": 2
}
