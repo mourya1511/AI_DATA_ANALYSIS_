{
 "cells": [
  {
   "cell_type": "markdown",
   "metadata": {},
   "source": [
    "## Calculate Data Quality Score\n",
    "**Introduction**: In this activity, you will calculate data quality scores for datasets using different metrics. You will explore examples where you assess completeness, accuracy, and consistency.\n",
    "\n",
    "### Task 1: Completeness Score\n",
    "1. Objective: Determine the percentage of non-missing values in a dataset.\n",
    "2. Steps:\n",
    "    - Load a sample dataset using Pandas.\n",
    "    - Identify the columns with missing values.\n",
    "    - Calculate the completeness score as the ratio of non-missing values to total values.\n",
    "    - E.g., a dataset with customer information."
   ]
  },
  {
   "cell_type": "code",
   "execution_count": 1,
   "metadata": {},
   "outputs": [
    {
     "name": "stdout",
     "output_type": "stream",
     "text": [
      "Task 1: Completeness Score\n",
      "Columns with missing values: ['Name', 'Email', 'Age']\n",
      "Completeness (%) per column:\n",
      "CustomerID    100.0\n",
      "Name           80.0\n",
      "Email          80.0\n",
      "Phone         100.0\n",
      "Age            80.0\n",
      "dtype: float64\n",
      "Overall Completeness Score: 88.00%\n",
      "\n",
      "Task 2: Accuracy Score\n",
      "Accuracy for Name: 80.00%\n",
      "Accuracy for Email: 80.00%\n",
      "Overall Accuracy Score: 80.00%\n",
      "\n",
      "Task 3: Consistency Score\n",
      "Consistency Score for Phone format: 80.00%\n",
      "Inconsistent phone entries: 1 out of 5\n"
     ]
    }
   ],
   "source": [
    "import pandas as pd\n",
    "import re\n",
    "\n",
    "# ----------------------------\n",
    "# Sample datasets for the tasks\n",
    "# ----------------------------\n",
    "\n",
    "# Main dataset (Task 1 & 3)\n",
    "main_data = {\n",
    "    'CustomerID': [101, 102, 103, 104, 105],\n",
    "    'Name': ['Alice', 'Bob', None, 'Dave', 'Eve'],\n",
    "    'Email': ['alice@example.com', None, 'carol@example.com', 'dave@example.com', 'eve@example.com'],\n",
    "    'Phone': ['123-456-7890', '987-654-3210', '1234567890', '555-555-5555', '111-222-3333'],\n",
    "    'Age': [30, 25, 22, None, 28]\n",
    "}\n",
    "\n",
    "# Reference dataset (Task 2)\n",
    "reference_data = {\n",
    "    'CustomerID': [101, 102, 103, 104, 105],\n",
    "    'Name': ['Alice', 'Bob', 'Carol', 'Dave', 'Eve'],\n",
    "    'Email': ['alice@example.com', 'bob@example.com', 'carol@example.com', 'dave@example.com', 'eve@example.com']\n",
    "}\n",
    "\n",
    "# Create DataFrames\n",
    "df_main = pd.DataFrame(main_data)\n",
    "df_ref = pd.DataFrame(reference_data)\n",
    "\n",
    "# ----------------------------\n",
    "# Task 1: Completeness Score\n",
    "# ----------------------------\n",
    "\n",
    "print(\"Task 1: Completeness Score\")\n",
    "\n",
    "missing_cols = df_main.columns[df_main.isnull().any()].tolist()\n",
    "print(\"Columns with missing values:\", missing_cols)\n",
    "\n",
    "completeness_per_col = df_main.notnull().mean() * 100\n",
    "print(\"Completeness (%) per column:\")\n",
    "print(completeness_per_col)\n",
    "\n",
    "overall_completeness = completeness_per_col.mean()\n",
    "print(f\"Overall Completeness Score: {overall_completeness:.2f}%\\n\")\n",
    "\n",
    "# ----------------------------\n",
    "# Task 2: Accuracy Score\n",
    "# ----------------------------\n",
    "\n",
    "print(\"Task 2: Accuracy Score\")\n",
    "\n",
    "# We will check accuracy on 'Name' and 'Email' columns by matching values for same CustomerID\n",
    "\n",
    "# Merge datasets on CustomerID for comparison\n",
    "merged = pd.merge(df_main, df_ref, on='CustomerID', suffixes=('_main', '_ref'))\n",
    "\n",
    "# Function to calculate accuracy for a column\n",
    "def accuracy(col_main, col_ref):\n",
    "    correct = (merged[col_main] == merged[col_ref]).sum()\n",
    "    total = len(merged)\n",
    "    return (correct / total) * 100\n",
    "\n",
    "accuracy_name = accuracy('Name_main', 'Name_ref')\n",
    "accuracy_email = accuracy('Email_main', 'Email_ref')\n",
    "\n",
    "print(f\"Accuracy for Name: {accuracy_name:.2f}%\")\n",
    "print(f\"Accuracy for Email: {accuracy_email:.2f}%\")\n",
    "\n",
    "overall_accuracy = (accuracy_name + accuracy_email) / 2\n",
    "print(f\"Overall Accuracy Score: {overall_accuracy:.2f}%\\n\")\n",
    "\n",
    "# ----------------------------\n",
    "# Task 3: Consistency Score\n",
    "# ----------------------------\n",
    "\n",
    "print(\"Task 3: Consistency Score\")\n",
    "\n",
    "# Rule: Phone number should follow pattern xxx-xxx-xxxx\n",
    "pattern = re.compile(r'^\\d{3}-\\d{3}-\\d{4}$')\n",
    "\n",
    "def is_phone_consistent(phone):\n",
    "    if pd.isnull(phone):\n",
    "        return False\n",
    "    return bool(pattern.match(phone))\n",
    "\n",
    "consistency_flags = df_main['Phone'].apply(is_phone_consistent)\n",
    "consistency_score = consistency_flags.mean() * 100\n",
    "\n",
    "print(f\"Consistency Score for Phone format: {consistency_score:.2f}%\")\n",
    "\n",
    "# For completeness, also show how many phone numbers are inconsistent\n",
    "print(f\"Inconsistent phone entries: {len(df_main) - consistency_flags.sum()} out of {len(df_main)}\")\n"
   ]
  },
  {
   "cell_type": "markdown",
   "metadata": {},
   "source": [
    "### Task 2: Accuracy Score\n",
    "\n",
    "1. Objective: Measure the accuracy of a dataset by comparing it against a reference dataset.\n",
    "2. Steps:\n",
    "    - Load the main dataset and a reference dataset.\n",
    "    - Select key columns for accuracy check.\n",
    "    - Match values from both datasets and calculate the accuracy percentage.\n",
    "    - E.g., along existing dataset with sales information."
   ]
  },
  {
   "cell_type": "code",
   "execution_count": null,
   "metadata": {},
   "outputs": [],
   "source": [
    "# Write your code from here\n"
   ]
  },
  {
   "cell_type": "markdown",
   "metadata": {},
   "source": [
    "### Task 3: Consistency Score\n",
    "\n",
    "1. Objective: Evaluate the consistency within a dataset for specific columns.\n",
    "2. Steps:\n",
    "    - Choose a column expected to have consistent values.\n",
    "    - Use statistical or rule-based checks to identify inconsistencies.\n",
    "    - Calculate the consistency score by the ratio of consistent to total entries.\n",
    "    - E.g., validating phone number formats in a contact list."
   ]
  },
  {
   "cell_type": "code",
   "execution_count": null,
   "metadata": {},
   "outputs": [],
   "source": [
    "# Write your code from here\n"
   ]
  }
 ],
 "metadata": {
  "kernelspec": {
   "display_name": "Python 3",
   "language": "python",
   "name": "python3"
  },
  "language_info": {
   "codemirror_mode": {
    "name": "ipython",
    "version": 3
   },
   "file_extension": ".py",
   "mimetype": "text/x-python",
   "name": "python",
   "nbconvert_exporter": "python",
   "pygments_lexer": "ipython3",
   "version": "3.10.12"
  }
 },
 "nbformat": 4,
 "nbformat_minor": 2
}
