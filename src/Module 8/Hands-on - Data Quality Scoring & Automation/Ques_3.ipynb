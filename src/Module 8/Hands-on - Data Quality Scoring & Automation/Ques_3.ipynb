{
 "cells": [
  {
   "cell_type": "markdown",
   "metadata": {},
   "source": [
    "## Automate Data Quality Checks with Great Expectations\n",
    "**Introduction**: In this activity, you will learn how to automate data quality checks using the Great Expectations framework. This includes setting up expectations and generating validation reports.\n",
    "\n",
    "### Task 1: Setup and Initial Expectations\n",
    "\n",
    "1. Objective: Set up Great Expectations and create initial expectations for a dataset.\n",
    "2. Steps:\n",
    "    - Install Great Expectations using pip.\n",
    "    - Initialize a data context.\n",
    "    - Create basic expectations on a sample dataset.\n",
    "    - Eg., Implement a basic setup and expectation for column presence and type."
   ]
  },
  {
   "cell_type": "code",
   "execution_count": 2,
   "metadata": {},
   "outputs": [
    {
     "ename": "ModuleNotFoundError",
     "evalue": "No module named 'great_expectations'",
     "output_type": "error",
     "traceback": [
      "\u001b[0;31m---------------------------------------------------------------------------\u001b[0m",
      "\u001b[0;31mModuleNotFoundError\u001b[0m                       Traceback (most recent call last)",
      "Cell \u001b[0;32mIn[2], line 3\u001b[0m\n\u001b[1;32m      1\u001b[0m \u001b[38;5;66;03m# Write your code from here\u001b[39;00m\n\u001b[0;32m----> 3\u001b[0m \u001b[38;5;28;01mimport\u001b[39;00m\u001b[38;5;250m \u001b[39m\u001b[38;5;21;01mgreat_expectations\u001b[39;00m\u001b[38;5;250m \u001b[39m\u001b[38;5;28;01mas\u001b[39;00m\u001b[38;5;250m \u001b[39m\u001b[38;5;21;01mge\u001b[39;00m\n\u001b[1;32m      4\u001b[0m \u001b[38;5;28;01mfrom\u001b[39;00m\u001b[38;5;250m \u001b[39m\u001b[38;5;21;01mgreat_expectations\u001b[39;00m\u001b[38;5;21;01m.\u001b[39;00m\u001b[38;5;21;01mcore\u001b[39;00m\u001b[38;5;21;01m.\u001b[39;00m\u001b[38;5;21;01mbatch\u001b[39;00m\u001b[38;5;250m \u001b[39m\u001b[38;5;28;01mimport\u001b[39;00m BatchRequest\n\u001b[1;32m      5\u001b[0m \u001b[38;5;28;01mimport\u001b[39;00m\u001b[38;5;250m \u001b[39m\u001b[38;5;21;01mpandas\u001b[39;00m\u001b[38;5;250m \u001b[39m\u001b[38;5;28;01mas\u001b[39;00m\u001b[38;5;250m \u001b[39m\u001b[38;5;21;01mpd\u001b[39;00m\n",
      "\u001b[0;31mModuleNotFoundError\u001b[0m: No module named 'great_expectations'"
     ]
    }
   ],
   "source": [
    "# Write your code from here\n",
    "\n",
    "import great_expectations as ge\n",
    "from great_expectations.core.batch import BatchRequest\n",
    "import pandas as pd\n",
    "import schedule\n",
    "import time\n",
    "\n",
    "# --------------------------------\n",
    "# Prepare sample data as DataFrame\n",
    "# --------------------------------\n",
    "\n",
    "data = {\n",
    "    \"CustomerID\": [101, 102, 103, 104, 105],\n",
    "    \"Name\": [\"Alice\", \"Bob\", \"Carol\", \"Dave\", \"Eve\"],\n",
    "    \"Email\": [\"alice@example.com\", \"bob@example.com\", None, \"dave@example.com\", \"eve@example.com\"],\n",
    "    \"Age\": [30, 25, 22, 40, 28]\n",
    "}\n",
    "\n",
    "df = pd.DataFrame(data)\n",
    "\n",
    "# --------------------------------\n",
    "# Task 1: Setup Great Expectations\n",
    "# --------------------------------\n",
    "\n",
    "# Initialize Data Context in-memory (using SimpleNamespace as temp root dir)\n",
    "from great_expectations.data_context import BaseDataContext\n",
    "from great_expectations.data_context.types.base import (\n",
    "    DataContextConfig,\n",
    "    FilesystemStoreBackendDefaults,\n",
    ")\n",
    "\n",
    "# Configure context to run in-memory without CLI initialization\n",
    "data_context_config = DataContextConfig(\n",
    "    store_backend_defaults=FilesystemStoreBackendDefaults(root_directory=\"./great_expectations\"),\n",
    "    anonymous_usage_statistics={\"enabled\": False}\n",
    ")\n",
    "context = BaseDataContext(project_config=data_context_config)\n",
    "\n",
    "# Create a GE dataset from pandas dataframe\n",
    "ge_df = ge.from_pandas(df)\n",
    "\n",
    "# Create Expectation Suite\n",
    "expectation_suite_name = \"customer_data_suite\"\n",
    "if not context.list_expectation_suites():\n",
    "    context.create_expectation_suite(expectation_suite_name, overwrite_existing=True)\n",
    "\n",
    "suite = context.get_expectation_suite(expectation_suite_name)\n",
    "\n",
    "# Add basic expectations for column presence and types\n",
    "ge_df.expect_table_columns_to_match_ordered_list(column_list=[\"CustomerID\", \"Name\", \"Email\", \"Age\"])\n",
    "ge_df.expect_column_values_to_not_be_null(\"CustomerID\")\n",
    "ge_df.expect_column_values_to_be_of_type(\"CustomerID\", \"int64\")\n",
    "ge_df.expect_column_values_to_not_be_null(\"Name\")\n",
    "ge_df.expect_column_values_to_be_of_type(\"Name\", \"object\")\n",
    "ge_df.expect_column_values_to_be_unique(\"CustomerID\")\n",
    "\n",
    "# Save the expectation suite to context\n",
    "ge_df.save_expectation_suite(expectation_suite_name)\n",
    "\n",
    "print(f\"Expectation suite '{expectation_suite_name}' created with basic expectations.\\n\")\n",
    "\n",
    "# --------------------------------\n",
    "# Task 2: Validate Dataset and Generate Report\n",
    "# --------------------------------\n",
    "\n",
    "# Create batch from pandas dataframe\n",
    "batch = ge_df.get_batch()\n",
    "\n",
    "# Validate data against the suite\n",
    "results = ge_df.validate(expectation_suite=suite, result_format=\"SUMMARY\")\n",
    "\n",
    "print(\"Validation Results Summary:\")\n",
    "print(results['statistics'])\n",
    "\n",
    "# Generate a simple HTML report (saved locally)\n",
    "html_report_path = \"./validation_report.html\"\n",
    "ge_df.save_expectation_suite(expectation_suite_name)\n",
    "results.render(renderer_type=\"renderer.jupyter_notebook\").to_html(html_report_path)\n",
    "print(f\"HTML validation report generated at: {html_report_path}\\n\")\n",
    "\n",
    "# --------------------------------\n",
    "# Task 3: Advanced Expectations & Scheduling\n",
    "# --------------------------------\n",
    "\n",
    "# Add advanced expectation: CustomerID uniqueness (already added above)\n",
    "\n",
    "# Define function to run validation (for scheduling)\n",
    "def run_validation():\n",
    "    print(\"\\nRunning scheduled validation...\")\n",
    "    batch = ge_df.get_batch()\n",
    "    results = ge_df.validate(expectation_suite=suite)\n",
    "    if results[\"success\"]:\n",
    "        print(\"Validation successful!\")\n",
    "    else:\n",
    "        print(\"Validation failed. Check expectations.\")\n",
    "    # Here you could extend to save/send report, alert, etc.\n",
    "\n",
    "# Schedule daily validation check (simulate by running once here)\n",
    "schedule.every().day.at(\"10:00\").do(run_validation)\n",
    "\n",
    "# Simulate scheduler running for 5 seconds (runs scheduled jobs)\n",
    "print(\"Simulating scheduled validation (runs once for demo)...\")\n",
    "schedule.run_all()\n",
    "time.sleep(5)\n",
    "\n",
    "print(\"Great Expectations automation demo complete.\")"
   ]
  },
  {
   "cell_type": "markdown",
   "metadata": {},
   "source": [
    "### Task 2: Validate Datasets and Generate Reports\n",
    "\n",
    "1. Objective: Validate a dataset against defined expectations and generate a report.\n",
    "2. Steps:\n",
    "    - Execute the validation process on the dataset.\n",
    "    - Review the validation results and generate a report.\n",
    "    - Eg., Validate completeness and consistency expectations, and view the results.\n"
   ]
  },
  {
   "cell_type": "code",
   "execution_count": 1,
   "metadata": {},
   "outputs": [
    {
     "ename": "SyntaxError",
     "evalue": "invalid syntax (540874044.py, line 2)",
     "output_type": "error",
     "traceback": [
      "\u001b[0;36m  Cell \u001b[0;32mIn[1], line 2\u001b[0;36m\u001b[0m\n\u001b[0;31m    pip install great_expectations schedule\u001b[0m\n\u001b[0m        ^\u001b[0m\n\u001b[0;31mSyntaxError\u001b[0m\u001b[0;31m:\u001b[0m invalid syntax\n"
     ]
    }
   ],
   "source": [
    "# Write your code from here\n",
    "pip install great_expectations schedule\n"
   ]
  },
  {
   "cell_type": "markdown",
   "metadata": {},
   "source": [
    "### Task 3: Advanced Expectations and Scheduling\n",
    "\n",
    "1. Objective: Create advanced expectations for conditional checks and automate the validation.\n",
    "2. Steps:\n",
    "    - Define advanced expectations based on complex conditions.\n",
    "    - Use scheduling tools to automate periodic checks.\n",
    "    - E.g., an expectation that customer IDs must be unique and schedule a daily check."
   ]
  },
  {
   "cell_type": "code",
   "execution_count": null,
   "metadata": {},
   "outputs": [],
   "source": [
    "# Write your code from here"
   ]
  }
 ],
 "metadata": {
  "kernelspec": {
   "display_name": "Python 3",
   "language": "python",
   "name": "python3"
  },
  "language_info": {
   "codemirror_mode": {
    "name": "ipython",
    "version": 3
   },
   "file_extension": ".py",
   "mimetype": "text/x-python",
   "name": "python",
   "nbconvert_exporter": "python",
   "pygments_lexer": "ipython3",
   "version": "3.10.12"
  }
 },
 "nbformat": 4,
 "nbformat_minor": 2
}
