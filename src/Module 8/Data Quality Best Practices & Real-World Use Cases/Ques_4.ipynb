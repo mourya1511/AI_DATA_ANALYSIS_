{
 "cells": [
  {
   "cell_type": "markdown",
   "metadata": {},
   "source": [
    "### Healthcare – Patient Data Accuracy\n",
    "\n",
    "**Task 1**: Patient Record Accuracy Assessment\n",
    "\n",
    "**Objective**: Achieve high accuracy in patient records.\n",
    "\n",
    "**Steps**:\n",
    "1. Examine a sample patient dataset for common inaccuracies.\n",
    "2. Identify at least three common issues, such as medication errors or misdiagnoses.\n",
    "3. Propose validation measures to ensure data accuracy at the point of entry."
   ]
  },
  {
   "cell_type": "code",
   "execution_count": 1,
   "metadata": {},
   "outputs": [
    {
     "name": "stdout",
     "output_type": "stream",
     "text": [
      "Invalid ages:\n",
      "   PatientID   Name  Age  Medication DiagnosisCode AdmissionDate\n",
      "1        102    Bob  135  UnknownMed           E11    2025-01-01\n",
      "3        104  Diana   -5   Metformin          None    2023-03-20\n",
      "\n",
      "Invalid medications:\n",
      "   PatientID     Name  Age  Medication DiagnosisCode AdmissionDate\n",
      "1        102      Bob  135  UnknownMed           E11    2025-01-01\n",
      "2        103  Charlie   45        None           Z99    2022-12-15\n",
      "\n",
      "Invalid diagnosis codes:\n",
      "   PatientID     Name  Age Medication DiagnosisCode AdmissionDate\n",
      "2        103  Charlie   45       None           Z99    2022-12-15\n",
      "3        104    Diana   -5  Metformin          None    2023-03-20\n",
      "\n",
      "Invalid admission dates (future):\n",
      "Empty DataFrame\n",
      "Columns: [PatientID, Name, Age, Medication, DiagnosisCode, AdmissionDate]\n",
      "Index: []\n"
     ]
    }
   ],
   "source": [
    "# Write your code from here\n",
    "\n",
    "import pandas as pd\n",
    "import numpy as np\n",
    "from datetime import datetime\n",
    "\n",
    "class PatientDataValidator:\n",
    "    def __init__(self, df: pd.DataFrame):\n",
    "        self.df = df.copy()\n",
    "        self.required_columns = [\"PatientID\", \"Name\", \"Age\", \"Medication\", \"DiagnosisCode\", \"AdmissionDate\"]\n",
    "        missing_cols = [col for col in self.required_columns if col not in self.df.columns]\n",
    "        if missing_cols:\n",
    "            raise ValueError(f\"Missing required columns: {missing_cols}\")\n",
    "\n",
    "    def validate_age(self, min_age=0, max_age=120):\n",
    "        \"\"\"Check for implausible ages.\"\"\"\n",
    "        invalid_ages = self.df[(self.df[\"Age\"] < min_age) | (self.df[\"Age\"] > max_age) | (self.df[\"Age\"].isna())]\n",
    "        return invalid_ages\n",
    "\n",
    "    def validate_medications(self, allowed_medications=None):\n",
    "        \"\"\"Detect missing or invalid medications.\"\"\"\n",
    "        if allowed_medications is None:\n",
    "            # Simulated allowed meds list\n",
    "            allowed_medications = [\"Aspirin\", \"Metformin\", \"Lisinopril\", \"Atorvastatin\", \"Albuterol\"]\n",
    "        invalid_meds = self.df[~self.df[\"Medication\"].isin(allowed_medications) | self.df[\"Medication\"].isna()]\n",
    "        return invalid_meds\n",
    "\n",
    "    def validate_diagnosis_codes(self, allowed_codes=None):\n",
    "        \"\"\"Check diagnosis codes validity.\"\"\"\n",
    "        if allowed_codes is None:\n",
    "            allowed_codes = [\"I10\", \"E11\", \"J45\", \"M54\", \"F41\"]  # Simulated ICD codes\n",
    "        invalid_diag = self.df[~self.df[\"DiagnosisCode\"].isin(allowed_codes) | self.df[\"DiagnosisCode\"].isna()]\n",
    "        return invalid_diag\n",
    "\n",
    "    def validate_admission_dates(self):\n",
    "        \"\"\"Check for future admission dates.\"\"\"\n",
    "        now = datetime.now()\n",
    "        invalid_dates = self.df[self.df[\"AdmissionDate\"] > now]\n",
    "        return invalid_dates\n",
    "\n",
    "# --- Simulate sample patient data ---\n",
    "\n",
    "data = {\n",
    "    \"PatientID\": [101, 102, 103, 104, 105],\n",
    "    \"Name\": [\"Alice\", \"Bob\", \"Charlie\", \"Diana\", \"Evan\"],\n",
    "    \"Age\": [29, 135, 45, -5, 38],  # Includes implausible ages\n",
    "    \"Medication\": [\"Aspirin\", \"UnknownMed\", None, \"Metformin\", \"Atorvastatin\"],  # Invalid and missing meds\n",
    "    \"DiagnosisCode\": [\"I10\", \"E11\", \"Z99\", None, \"M54\"],  # Invalid and missing diagnosis codes\n",
    "    \"AdmissionDate\": [datetime(2023, 4, 10), datetime(2025, 1, 1), datetime(2022, 12, 15), datetime(2023, 3, 20), datetime(2023, 6, 1)]\n",
    "}\n",
    "\n",
    "df_patients = pd.DataFrame(data)\n",
    "\n",
    "# --- Run validations ---\n",
    "\n",
    "validator = PatientDataValidator(df_patients)\n",
    "\n",
    "print(\"Invalid ages:\")\n",
    "print(validator.validate_age())\n",
    "\n",
    "print(\"\\nInvalid medications:\")\n",
    "print(validator.validate_medications())\n",
    "\n",
    "print(\"\\nInvalid diagnosis codes:\")\n",
    "print(validator.validate_diagnosis_codes())\n",
    "\n",
    "print(\"\\nInvalid admission dates (future):\")\n",
    "print(validator.validate_admission_dates())"
   ]
  },
  {
   "cell_type": "markdown",
   "metadata": {},
   "source": [
    "**Task 2**: Implement Healthcare Data Quality Checks\n",
    "\n",
    "**Objective**: Maintain accurate health records within a healthcare system.\n",
    "\n",
    "**Steps**:\n",
    "1. Develop a validation workflow for patient data.\n",
    "2. Use appropriate software to automate checks for common errors."
   ]
  },
  {
   "cell_type": "code",
   "execution_count": null,
   "metadata": {},
   "outputs": [],
   "source": [
    "# Write your code from here\n"
   ]
  }
 ],
 "metadata": {
  "kernelspec": {
   "display_name": "Python 3",
   "language": "python",
   "name": "python3"
  },
  "language_info": {
   "codemirror_mode": {
    "name": "ipython",
    "version": 3
   },
   "file_extension": ".py",
   "mimetype": "text/x-python",
   "name": "python",
   "nbconvert_exporter": "python",
   "pygments_lexer": "ipython3",
   "version": "3.10.12"
  }
 },
 "nbformat": 4,
 "nbformat_minor": 2
}
