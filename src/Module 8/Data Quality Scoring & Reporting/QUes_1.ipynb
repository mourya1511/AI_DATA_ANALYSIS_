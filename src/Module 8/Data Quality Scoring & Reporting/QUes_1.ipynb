{
 "cells": [
  {
   "cell_type": "markdown",
   "metadata": {},
   "source": [
    "## Read Data from CSV and Calculate DQI\n",
    "\n",
    "**Description**: Read data from a CSV file, identify errors as missing values, and calculate the DQI."
   ]
  },
  {
   "cell_type": "code",
   "execution_count": 1,
   "metadata": {},
   "outputs": [
    {
     "name": "stdout",
     "output_type": "stream",
     "text": [
      "Data Quality Index (DQI): Error: The specified file was not found.%\n"
     ]
    }
   ],
   "source": [
    "# Write your code from here\n",
    "import pandas as pd\n",
    "\n",
    "# Function to calculate the Data Quality Index (DQI)\n",
    "def calculate_dqi(csv_file_path):\n",
    "    # Read the CSV file into a DataFrame\n",
    "    try:\n",
    "        data = pd.read_csv(csv_file_path)\n",
    "    except FileNotFoundError:\n",
    "        return \"Error: The specified file was not found.\"\n",
    "    \n",
    "    # Calculate the total number of values\n",
    "    total_values = data.size  # total number of elements in the DataFrame\n",
    "    \n",
    "    # Calculate the number of missing (NaN) values\n",
    "    missing_values = data.isnull().sum().sum()  # sum of NaN values across the entire DataFrame\n",
    "    \n",
    "    # Calculate DQI\n",
    "    if total_values == 0:\n",
    "        return \"Error: No data available in the file.\"\n",
    "    \n",
    "    dqi = 100 - (missing_values / total_values * 100)\n",
    "    \n",
    "    return dqi\n",
    "\n",
    "# Example usage\n",
    "csv_file_path = 'data.csv'  # Path to your CSV file\n",
    "dqi = calculate_dqi(csv_file_path)\n",
    "print(f\"Data Quality Index (DQI): {dqi}%\")"
   ]
  },
  {
   "cell_type": "markdown",
   "metadata": {},
   "source": [
    "### Visualize Basic DQI with Bar Plot\n",
    "\n",
    "**Description**: Create a bar plot for DQI and errors in a dataset."
   ]
  },
  {
   "cell_type": "code",
   "execution_count": 2,
   "metadata": {},
   "outputs": [
    {
     "ename": "ValueError",
     "evalue": "too many values to unpack (expected 3)",
     "output_type": "error",
     "traceback": [
      "\u001b[0;31m---------------------------------------------------------------------------\u001b[0m",
      "\u001b[0;31mValueError\u001b[0m                                Traceback (most recent call last)",
      "Cell \u001b[0;32mIn[2], line 57\u001b[0m\n\u001b[1;32m     55\u001b[0m \u001b[38;5;66;03m# Example usage\u001b[39;00m\n\u001b[1;32m     56\u001b[0m csv_file_path \u001b[38;5;241m=\u001b[39m \u001b[38;5;124m'\u001b[39m\u001b[38;5;124mdata.csv\u001b[39m\u001b[38;5;124m'\u001b[39m  \u001b[38;5;66;03m# Path to your CSV file\u001b[39;00m\n\u001b[0;32m---> 57\u001b[0m \u001b[43mvisualize_dqi_and_errors\u001b[49m\u001b[43m(\u001b[49m\u001b[43mcsv_file_path\u001b[49m\u001b[43m)\u001b[49m\n",
      "Cell \u001b[0;32mIn[2], line 30\u001b[0m, in \u001b[0;36mvisualize_dqi_and_errors\u001b[0;34m(csv_file_path)\u001b[0m\n\u001b[1;32m     29\u001b[0m \u001b[38;5;28;01mdef\u001b[39;00m\u001b[38;5;250m \u001b[39m\u001b[38;5;21mvisualize_dqi_and_errors\u001b[39m(csv_file_path):\n\u001b[0;32m---> 30\u001b[0m     dqi, missing_values, total_values \u001b[38;5;241m=\u001b[39m calculate_dqi(csv_file_path)\n\u001b[1;32m     32\u001b[0m     \u001b[38;5;28;01mif\u001b[39;00m \u001b[38;5;28misinstance\u001b[39m(dqi, \u001b[38;5;28mstr\u001b[39m):  \u001b[38;5;66;03m# If an error message was returned\u001b[39;00m\n\u001b[1;32m     33\u001b[0m         \u001b[38;5;28mprint\u001b[39m(dqi)\n",
      "\u001b[0;31mValueError\u001b[0m: too many values to unpack (expected 3)"
     ]
    }
   ],
   "source": [
    "# Write your code from here\n",
    "\n",
    "import pandas as pd\n",
    "import matplotlib.pyplot as plt\n",
    "\n",
    "# Function to calculate the Data Quality Index (DQI)\n",
    "def calculate_dqi(csv_file_path):\n",
    "    try:\n",
    "        # Read the CSV file into a DataFrame\n",
    "        data = pd.read_csv(csv_file_path)\n",
    "    except FileNotFoundError:\n",
    "        return \"Error: The specified file was not found.\"\n",
    "    \n",
    "    # Calculate the total number of values\n",
    "    total_values = data.size  # total number of elements in the DataFrame\n",
    "    \n",
    "    # Calculate the number of missing (NaN) values\n",
    "    missing_values = data.isnull().sum().sum()  # sum of NaN values across the entire DataFrame\n",
    "    \n",
    "    # Calculate DQI\n",
    "    if total_values == 0:\n",
    "        return \"Error: No data available in the file.\"\n",
    "    \n",
    "    dqi = 100 - (missing_values / total_values * 100)\n",
    "    \n",
    "    return dqi, missing_values, total_values\n",
    "\n",
    "# Function to visualize DQI and errors\n",
    "def visualize_dqi_and_errors(csv_file_path):\n",
    "    dqi, missing_values, total_values = calculate_dqi(csv_file_path)\n",
    "    \n",
    "    if isinstance(dqi, str):  # If an error message was returned\n",
    "        print(dqi)\n",
    "        return\n",
    "    \n",
    "    # Create the bar plot\n",
    "    fig, ax = plt.subplots(figsize=(8, 6))\n",
    "    \n",
    "    # Data for the plot\n",
    "    labels = ['Data Quality Index (DQI)', 'Missing Values']\n",
    "    values = [dqi, missing_values]\n",
    "    \n",
    "    ax.bar(labels, values, color=['green', 'red'])\n",
    "    \n",
    "    # Adding labels and title\n",
    "    ax.set_ylabel('Percentage / Count')\n",
    "    ax.set_title('Data Quality Index and Missing Values')\n",
    "    \n",
    "    # Display the DQI percentage on the plot\n",
    "    ax.text(0, dqi + 5, f'{dqi:.2f}%', ha='center', color='black')\n",
    "    ax.text(1, missing_values + 5, f'{missing_values}', ha='center', color='black')\n",
    "    \n",
    "    plt.show()\n",
    "\n",
    "# Example usage\n",
    "csv_file_path = 'data.csv'  # Path to your CSV file\n",
    "visualize_dqi_and_errors(csv_file_path)"
   ]
  }
 ],
 "metadata": {
  "kernelspec": {
   "display_name": "Python 3",
   "language": "python",
   "name": "python3"
  },
  "language_info": {
   "codemirror_mode": {
    "name": "ipython",
    "version": 3
   },
   "file_extension": ".py",
   "mimetype": "text/x-python",
   "name": "python",
   "nbconvert_exporter": "python",
   "pygments_lexer": "ipython3",
   "version": "3.10.12"
  }
 },
 "nbformat": 4,
 "nbformat_minor": 2
}
