{
 "cells": [
  {
   "cell_type": "code",
   "execution_count": 2,
   "metadata": {},
   "outputs": [
    {
     "name": "stdout",
     "output_type": "stream",
     "text": [
      "   feature1  feature2  feature3\n",
      "0         1       5.0        10\n",
      "1         2       4.0        20\n",
      "2         3       3.0        30\n",
      "3         4       2.0        40\n",
      "4         5       1.0        50\n"
     ]
    }
   ],
   "source": [
    "import pandas as pd\n",
    "from sklearn.linear_model import LinearRegression\n",
    "from sklearn.model_selection import train_test_split\n",
    "\n",
    "# Sample dataframe\n",
    "data = {\n",
    "    'feature1': [1, 2, 3, 4, 5],\n",
    "    'feature2': [5, 4, 3, 2, None],  # Missing value in feature2\n",
    "    'feature3': [10, 20, 30, 40, 50]\n",
    "}\n",
    "\n",
    "df = pd.DataFrame(data)\n",
    "\n",
    "# Split the data into rows with and without missing values in feature2\n",
    "train_df = df.dropna(subset=['feature2'])\n",
    "test_df = df[df['feature2'].isnull()]\n",
    "\n",
    "# Train a model to predict 'feature2' based on other features\n",
    "X_train = train_df[['feature1', 'feature3']]  # Features\n",
    "y_train = train_df['feature2']  # Target\n",
    "\n",
    "# Train a linear regression model\n",
    "model = LinearRegression()\n",
    "model.fit(X_train, y_train)\n",
    "\n",
    "# Prepare the test set (rows where 'feature2' is missing)\n",
    "X_test = test_df[['feature1', 'feature3']]\n",
    "\n",
    "# Predict the missing values\n",
    "predicted_values = model.predict(X_test)\n",
    "\n",
    "# Impute the missing values with the predicted values\n",
    "df.loc[df['feature2'].isnull(), 'feature2'] = predicted_values\n",
    "\n",
    "print(df)"
   ]
  }
 ],
 "metadata": {
  "kernelspec": {
   "display_name": "Python 3",
   "language": "python",
   "name": "python3"
  },
  "language_info": {
   "codemirror_mode": {
    "name": "ipython",
    "version": 3
   },
   "file_extension": ".py",
   "mimetype": "text/x-python",
   "name": "python",
   "nbconvert_exporter": "python",
   "pygments_lexer": "ipython3",
   "version": "3.10.12"
  }
 },
 "nbformat": 4,
 "nbformat_minor": 2
}
