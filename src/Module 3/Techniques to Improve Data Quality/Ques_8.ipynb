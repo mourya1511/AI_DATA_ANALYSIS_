{
 "cells": [
  {
   "cell_type": "code",
   "execution_count": 3,
   "metadata": {},
   "outputs": [
    {
     "ename": "AttributeError",
     "evalue": "module 'great_expectations' has no attribute 'from_pandas'",
     "output_type": "error",
     "traceback": [
      "\u001b[0;31m---------------------------------------------------------------------------\u001b[0m",
      "\u001b[0;31mAttributeError\u001b[0m                            Traceback (most recent call last)",
      "Cell \u001b[0;32mIn[3], line 12\u001b[0m\n\u001b[1;32m      9\u001b[0m df \u001b[38;5;241m=\u001b[39m pd\u001b[38;5;241m.\u001b[39mDataFrame(data)\n\u001b[1;32m     11\u001b[0m \u001b[38;5;66;03m# Create a Great Expectations DataFrame\u001b[39;00m\n\u001b[0;32m---> 12\u001b[0m ge_df \u001b[38;5;241m=\u001b[39m \u001b[43mge\u001b[49m\u001b[38;5;241;43m.\u001b[39;49m\u001b[43mfrom_pandas\u001b[49m(df)\n\u001b[1;32m     14\u001b[0m \u001b[38;5;66;03m# Check for missing values in the 'Price' column\u001b[39;00m\n\u001b[1;32m     15\u001b[0m result \u001b[38;5;241m=\u001b[39m ge_df\u001b[38;5;241m.\u001b[39mexpect_column_values_to_not_be_null(column\u001b[38;5;241m=\u001b[39m\u001b[38;5;124m\"\u001b[39m\u001b[38;5;124mPrice\u001b[39m\u001b[38;5;124m\"\u001b[39m)\n",
      "\u001b[0;31mAttributeError\u001b[0m: module 'great_expectations' has no attribute 'from_pandas'"
     ]
    }
   ],
   "source": [
    "import pandas as pd\n",
    "import great_expectations as ge\n",
    "\n",
    "# Sample DataFrame with missing values in the 'Price' column\n",
    "data = {\n",
    "    'ProductID': [1, 2, 3, 4, 5],\n",
    "    'Price': [10.5, 20.0, None, 35.0, None]\n",
    "}\n",
    "df = pd.DataFrame(data)\n",
    "\n",
    "# Create a Great Expectations DataFrame\n",
    "ge_df = ge.from_pandas(df)\n",
    "\n",
    "# Check for missing values in the 'Price' column\n",
    "result = ge_df.expect_column_values_to_not_be_null(column=\"Price\")\n",
    "\n",
    "# Print the result\n",
    "print(\"Expectation result for missing values in 'Price' column:\")\n",
    "print(result)"
   ]
  },
  {
   "cell_type": "code",
   "execution_count": 13,
   "metadata": {},
   "outputs": [
    {
     "name": "stderr",
     "output_type": "stream",
     "text": [
      "/home/vscode/.local/lib/python3.10/site-packages/great_expectations/expectations/expectation.py:1453: UserWarning: `result_format` configured at the Validator-level will not be persisted. Please add the configuration to your Checkpoint config or checkpoint_run() method instead.\n",
      "  warnings.warn(\n",
      "Calculating Metrics: 100%|██████████| 6/6 [00:00<00:00, 733.42it/s] \n"
     ]
    },
    {
     "ename": "DataContextRequiredError",
     "evalue": "This action requires an active data context. Please call `great_expectations.get_context()` first, then try your action again.",
     "output_type": "error",
     "traceback": [
      "\u001b[0;31m---------------------------------------------------------------------------\u001b[0m",
      "\u001b[0;31mDataContextRequiredError\u001b[0m                  Traceback (most recent call last)",
      "Cell \u001b[0;32mIn[13], line 34\u001b[0m\n\u001b[1;32m     30\u001b[0m validator \u001b[38;5;241m=\u001b[39m Validator(execution_engine\u001b[38;5;241m=\u001b[39mexecution_engine, batches\u001b[38;5;241m=\u001b[39m[batch\n\u001b[1;32m     31\u001b[0m                                                                  ])\n\u001b[1;32m     33\u001b[0m \u001b[38;5;66;03m# Run the expectation to check for missing values in the 'Price' column\u001b[39;00m\n\u001b[0;32m---> 34\u001b[0m result \u001b[38;5;241m=\u001b[39m \u001b[43mvalidator\u001b[49m\u001b[38;5;241;43m.\u001b[39;49m\u001b[43mexpect_column_values_to_not_be_null\u001b[49m\u001b[43m(\u001b[49m\u001b[43mcolumn\u001b[49m\u001b[38;5;241;43m=\u001b[39;49m\u001b[38;5;124;43m\"\u001b[39;49m\u001b[38;5;124;43mPrice\u001b[39;49m\u001b[38;5;124;43m\"\u001b[39;49m\u001b[43m)\u001b[49m\n\u001b[1;32m     36\u001b[0m \u001b[38;5;66;03m# Print the result\u001b[39;00m\n\u001b[1;32m     37\u001b[0m \u001b[38;5;28mprint\u001b[39m(\u001b[38;5;124m\"\u001b[39m\u001b[38;5;124mExpectation result for missing values in \u001b[39m\u001b[38;5;124m'\u001b[39m\u001b[38;5;124mPrice\u001b[39m\u001b[38;5;124m'\u001b[39m\u001b[38;5;124m column:\u001b[39m\u001b[38;5;124m\"\u001b[39m)\n",
      "File \u001b[0;32m~/.local/lib/python3.10/site-packages/great_expectations/validator/validator.py:550\u001b[0m, in \u001b[0;36mValidator.validate_expectation.<locals>.inst_expectation\u001b[0;34m(*args, **kwargs)\u001b[0m\n\u001b[1;32m    547\u001b[0m     \u001b[38;5;28;01melse\u001b[39;00m:\n\u001b[1;32m    548\u001b[0m         \u001b[38;5;28;01mraise\u001b[39;00m err  \u001b[38;5;66;03m# noqa: TRY201 # FIXME CoP\u001b[39;00m\n\u001b[0;32m--> 550\u001b[0m \u001b[38;5;28;01mif\u001b[39;00m \u001b[38;5;28;43mself\u001b[39;49m\u001b[38;5;241;43m.\u001b[39;49m\u001b[43m_include_rendered_content\u001b[49m:\n\u001b[1;32m    551\u001b[0m     validation_result\u001b[38;5;241m.\u001b[39mrender()\n\u001b[1;32m    553\u001b[0m \u001b[38;5;28;01mreturn\u001b[39;00m validation_result\n",
      "File \u001b[0;32m~/.local/lib/python3.10/site-packages/great_expectations/validator/validator.py:190\u001b[0m, in \u001b[0;36mValidator._include_rendered_content\u001b[0;34m(self)\u001b[0m\n\u001b[1;32m    188\u001b[0m \u001b[38;5;129m@property\u001b[39m\n\u001b[1;32m    189\u001b[0m \u001b[38;5;28;01mdef\u001b[39;00m\u001b[38;5;250m \u001b[39m\u001b[38;5;21m_include_rendered_content\u001b[39m(\u001b[38;5;28mself\u001b[39m) \u001b[38;5;241m-\u001b[39m\u001b[38;5;241m>\u001b[39m \u001b[38;5;28mbool\u001b[39m:\n\u001b[0;32m--> 190\u001b[0m     \u001b[38;5;28;01mreturn\u001b[39;00m \u001b[43mproject_manager\u001b[49m\u001b[38;5;241;43m.\u001b[39;49m\u001b[43mis_using_cloud\u001b[49m\u001b[43m(\u001b[49m\u001b[43m)\u001b[49m\n",
      "File \u001b[0;32m~/.local/lib/python3.10/site-packages/great_expectations/data_context/data_context/context_factory.py:127\u001b[0m, in \u001b[0;36mProjectManager.is_using_cloud\u001b[0;34m(self)\u001b[0m\n\u001b[1;32m    124\u001b[0m \u001b[38;5;28;01mdef\u001b[39;00m\u001b[38;5;250m \u001b[39m\u001b[38;5;21mis_using_cloud\u001b[39m(\u001b[38;5;28mself\u001b[39m) \u001b[38;5;241m-\u001b[39m\u001b[38;5;241m>\u001b[39m \u001b[38;5;28mbool\u001b[39m:\n\u001b[1;32m    125\u001b[0m     \u001b[38;5;28;01mfrom\u001b[39;00m\u001b[38;5;250m \u001b[39m\u001b[38;5;21;01mgreat_expectations\u001b[39;00m\u001b[38;5;21;01m.\u001b[39;00m\u001b[38;5;21;01mdata_context\u001b[39;00m\u001b[38;5;250m \u001b[39m\u001b[38;5;28;01mimport\u001b[39;00m CloudDataContext\n\u001b[0;32m--> 127\u001b[0m     \u001b[38;5;28;01mreturn\u001b[39;00m \u001b[38;5;28misinstance\u001b[39m(\u001b[38;5;28;43mself\u001b[39;49m\u001b[38;5;241;43m.\u001b[39;49m\u001b[43m_project\u001b[49m, CloudDataContext)\n",
      "File \u001b[0;32m~/.local/lib/python3.10/site-packages/great_expectations/data_context/data_context/context_factory.py:97\u001b[0m, in \u001b[0;36mProjectManager._project\u001b[0;34m(self)\u001b[0m\n\u001b[1;32m     94\u001b[0m \u001b[38;5;129m@property\u001b[39m\n\u001b[1;32m     95\u001b[0m \u001b[38;5;28;01mdef\u001b[39;00m\u001b[38;5;250m \u001b[39m\u001b[38;5;21m_project\u001b[39m(\u001b[38;5;28mself\u001b[39m) \u001b[38;5;241m-\u001b[39m\u001b[38;5;241m>\u001b[39m AbstractDataContext:\n\u001b[1;32m     96\u001b[0m     \u001b[38;5;28;01mif\u001b[39;00m \u001b[38;5;129;01mnot\u001b[39;00m \u001b[38;5;28mself\u001b[39m\u001b[38;5;241m.\u001b[39m__project:\n\u001b[0;32m---> 97\u001b[0m         \u001b[38;5;28;01mraise\u001b[39;00m DataContextRequiredError()\n\u001b[1;32m     98\u001b[0m     \u001b[38;5;28;01mreturn\u001b[39;00m \u001b[38;5;28mself\u001b[39m\u001b[38;5;241m.\u001b[39m__project\n",
      "\u001b[0;31mDataContextRequiredError\u001b[0m: This action requires an active data context. Please call `great_expectations.get_context()` first, then try your action again."
     ]
    }
   ],
   "source": [
    "\n",
    "import pandas as pd\n",
    "from great_expectations.core.batch import RuntimeBatchRequest\n",
    "from great_expectations.validator.validator import Validator\n",
    "from great_expectations.execution_engine import PandasExecutionEngine\n",
    "\n",
    "\n",
    "# Sample DataFrame with missing values in the 'Price' column\n",
    "data = {\n",
    "    'ProductID': [1, 2, 3, 4, 5],\n",
    "    'Price': [10.5, 20.0, None, 35.0, None]\n",
    "}\n",
    "df = pd.DataFrame(data)\n",
    "\n",
    "# Create a PandasExecutionEngine\n",
    "execution_engine = PandasExecutionEngine()\n",
    "\n",
    "# Create a RuntimeBatchRequest\n",
    "batch_request = RuntimeBatchRequest(\n",
    "    datasource_name=\"my_datasource\",\n",
    "    data_connector_name=\"runtime_data_connector\",\n",
    "    data_asset_name=\"test_asset\",\n",
    "    runtime_parameters={\"batch_data\": df},\n",
    "    batch_identifiers={\"batch_id\": \"001\"}\n",
    ")\n",
    "\n",
    "# Create a Batch object\n",
    "batch = Batch(data=df)\n",
    "\n",
    "\n",
    "validator = Validator(execution_engine=execution_engine, batches=[batch\n",
    "                                                                 ])\n",
    "\n",
    "# Run the expectation to check for missing values in the 'Price' column\n",
    "result = validator.expect_column_values_to_not_be_null(column=\"Price\")\n",
    "\n",
    "# Print the result\n",
    "print(\"Expectation result for missing values in 'Price' column:\")\n",
    "print(result)"
   ]
  },
  {
   "cell_type": "code",
   "execution_count": 21,
   "metadata": {},
   "outputs": [
    {
     "ename": "NameError",
     "evalue": "name 'BaseDataContext' is not defined",
     "output_type": "error",
     "traceback": [
      "\u001b[0;31m---------------------------------------------------------------------------\u001b[0m",
      "\u001b[0;31mNameError\u001b[0m                                 Traceback (most recent call last)",
      "Cell \u001b[0;32mIn[21], line 60\u001b[0m\n\u001b[1;32m     17\u001b[0m config \u001b[38;5;241m=\u001b[39m {\n\u001b[1;32m     18\u001b[0m     \u001b[38;5;124m\"\u001b[39m\u001b[38;5;124mdatasources\u001b[39m\u001b[38;5;124m\"\u001b[39m: {\n\u001b[1;32m     19\u001b[0m         \u001b[38;5;124m\"\u001b[39m\u001b[38;5;124mmy_datasource\u001b[39m\u001b[38;5;124m\"\u001b[39m: {\n\u001b[0;32m   (...)\u001b[0m\n\u001b[1;32m     56\u001b[0m     }\n\u001b[1;32m     57\u001b[0m }\n\u001b[1;32m     59\u001b[0m \u001b[38;5;66;03m# Instantiate the DataContext\u001b[39;00m\n\u001b[0;32m---> 60\u001b[0m context \u001b[38;5;241m=\u001b[39m \u001b[43mBaseDataContext\u001b[49m(project_config\u001b[38;5;241m=\u001b[39mconfig) \u001b[38;5;66;03m# type: ignore\u001b[39;00m\n\u001b[1;32m     62\u001b[0m \u001b[38;5;66;03m# Create a RuntimeBatchRequest\u001b[39;00m\n\u001b[1;32m     63\u001b[0m batch_request \u001b[38;5;241m=\u001b[39m RuntimeBatchRequest(\n\u001b[1;32m     64\u001b[0m     datasource_name\u001b[38;5;241m=\u001b[39m\u001b[38;5;124m\"\u001b[39m\u001b[38;5;124mmy_datasource\u001b[39m\u001b[38;5;124m\"\u001b[39m,\n\u001b[1;32m     65\u001b[0m     data_connector_name\u001b[38;5;241m=\u001b[39m\u001b[38;5;124m\"\u001b[39m\u001b[38;5;124mruntime_data_connector\u001b[39m\u001b[38;5;124m\"\u001b[39m,\n\u001b[0;32m   (...)\u001b[0m\n\u001b[1;32m     68\u001b[0m     batch_identifiers\u001b[38;5;241m=\u001b[39m{\u001b[38;5;124m\"\u001b[39m\u001b[38;5;124mbatch_id\u001b[39m\u001b[38;5;124m\"\u001b[39m: \u001b[38;5;124m\"\u001b[39m\u001b[38;5;124m001\u001b[39m\u001b[38;5;124m\"\u001b[39m}\n\u001b[1;32m     69\u001b[0m )\n",
      "\u001b[0;31mNameError\u001b[0m: name 'BaseDataContext' is not defined"
     ]
    }
   ],
   "source": [
    "from matplotlib.style import context\n",
    "import pandas as pd\n",
    "import great_expectations as ge\n",
    "\n",
    "from great_expectations.core.batch import Batch, RuntimeBatchRequest\n",
    "from great_expectations.execution_engine import PandasExecutionEngine\n",
    "from great_expectations.validator.validator import Validator\n",
    "\n",
    "# Sample DataFrame with missing values\n",
    "data = {\n",
    "    'ProductID': [1, 2, 3, 4, 5],\n",
    "    'Price': [10.5, 20.0, None, 35.0, None]\n",
    "}\n",
    "df = pd.DataFrame(data)\n",
    "\n",
    "# Create a basic configuration for the DataContext\n",
    "config = {\n",
    "    \"datasources\": {\n",
    "        \"my_datasource\": {\n",
    "            \"execution_engine\": {\n",
    "                \"class_name\": \"PandasExecutionEngine\"\n",
    "            },\n",
    "            \"data_connectors\": {\n",
    "                \"runtime_data_connector\": {\n",
    "                    \"class_name\": \"RuntimeDataConnector\",\n",
    "                    \"batch_identifiers\": [\"batch_id\"]\n",
    "                }\n",
    "            }\n",
    "        }\n",
    "    },\n",
    "    \"expectations_store_name\": \"expectations_store\",\n",
    "    \"validations_store_name\": \"validations_store\",\n",
    "    \"evaluation_parameter_store_name\": \"evaluation_parameter_store\",\n",
    "    \"stores\": {\n",
    "        \"expectations_store\": {\n",
    "            \"class_name\": \"ExpectationsStore\"\n",
    "        },\n",
    "        \"validations_store\": {\n",
    "            \"class_name\": \"ValidationsStore\"\n",
    "        },\n",
    "        \"evaluation_parameter_store\": {\n",
    "            \"class_name\": \"EvaluationParameterStore\"\n",
    "        }\n",
    "    },\n",
    "    \"data_docs_sites\": {\n",
    "        \"local_site\": {\n",
    "            \"class_name\": \"SiteBuilder\",\n",
    "            \"show_how_to_buttons\": False,\n",
    "            \"store_backend\": {\n",
    "                \"class_name\": \"InMemoryStoreBackend\"\n",
    "            }\n",
    "        }\n",
    "    },\n",
    "    \"anonymous_usage_statistics\": {\n",
    "        \"enabled\": False\n",
    "    }\n",
    "}\n",
    "\n",
    "# Instantiate the DataContext\n",
    "context = BaseDataContext(project_config=config) # type: ignore\n",
    "\n",
    "# Create a RuntimeBatchRequest\n",
    "batch_request = RuntimeBatchRequest(\n",
    "    datasource_name=\"my_datasource\",\n",
    "    data_connector_name=\"runtime_data_connector\",\n",
    "    data_asset_name=\"my_data_asset\",\n",
    "    runtime_parameters={\"batch_data\": df},\n",
    "    batch_identifiers={\"batch_id\": \"001\"}\n",
    ")\n",
    "\n",
    "# Get the batch\n",
    "#batch = context.get_batch(batch_request=batch_request)\n",
    "\n",
    "# Create a Validator\n",
    "validator = Validator(execution_engine=batch.data.execution_engine, batches=[batch])\n",
    "\n",
    "# Check for missing values in the 'Price' column\n",
    "result = validator.expect_column_values_to_not_be_null(column=\"Price\")\n",
    "\n",
    "# Display the result\n",
    "print(\"Expectation result for missing values in 'Price' column:\")\n",
    "print(result)"
   ]
  }
 ],
 "metadata": {
  "kernelspec": {
   "display_name": "Python 3",
   "language": "python",
   "name": "python3"
  },
  "language_info": {
   "codemirror_mode": {
    "name": "ipython",
    "version": 3
   },
   "file_extension": ".py",
   "mimetype": "text/x-python",
   "name": "python",
   "nbconvert_exporter": "python",
   "pygments_lexer": "ipython3",
   "version": "3.10.12"
  }
 },
 "nbformat": 4,
 "nbformat_minor": 2
}
