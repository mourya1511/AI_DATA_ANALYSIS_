{
 "cells": [
  {
   "cell_type": "code",
   "execution_count": 3,
   "metadata": {},
   "outputs": [
    {
     "ename": "AttributeError",
     "evalue": "module 'great_expectations' has no attribute 'from_pandas'",
     "output_type": "error",
     "traceback": [
      "\u001b[0;31m---------------------------------------------------------------------------\u001b[0m",
      "\u001b[0;31mAttributeError\u001b[0m                            Traceback (most recent call last)",
      "Cell \u001b[0;32mIn[3], line 12\u001b[0m\n\u001b[1;32m      9\u001b[0m df \u001b[38;5;241m=\u001b[39m pd\u001b[38;5;241m.\u001b[39mDataFrame(data)\n\u001b[1;32m     11\u001b[0m \u001b[38;5;66;03m# Create a Great Expectations DataFrame\u001b[39;00m\n\u001b[0;32m---> 12\u001b[0m ge_df \u001b[38;5;241m=\u001b[39m \u001b[43mge\u001b[49m\u001b[38;5;241;43m.\u001b[39;49m\u001b[43mfrom_pandas\u001b[49m(df)\n\u001b[1;32m     14\u001b[0m \u001b[38;5;66;03m# Check for missing values in the 'Price' column\u001b[39;00m\n\u001b[1;32m     15\u001b[0m result \u001b[38;5;241m=\u001b[39m ge_df\u001b[38;5;241m.\u001b[39mexpect_column_values_to_not_be_null(column\u001b[38;5;241m=\u001b[39m\u001b[38;5;124m\"\u001b[39m\u001b[38;5;124mPrice\u001b[39m\u001b[38;5;124m\"\u001b[39m)\n",
      "\u001b[0;31mAttributeError\u001b[0m: module 'great_expectations' has no attribute 'from_pandas'"
     ]
    }
   ],
   "source": [
    "import pandas as pd\n",
    "import great_expectations as ge\n",
    "\n",
    "# Sample DataFrame with missing values in the 'Price' column\n",
    "data = {\n",
    "    'ProductID': [1, 2, 3, 4, 5],\n",
    "    'Price': [10.5, 20.0, None, 35.0, None]\n",
    "}\n",
    "df = pd.DataFrame(data)\n",
    "\n",
    "# Create a Great Expectations DataFrame\n",
    "ge_df = ge.from_pandas(df)\n",
    "\n",
    "# Check for missing values in the 'Price' column\n",
    "result = ge_df.expect_column_values_to_not_be_null(column=\"Price\")\n",
    "\n",
    "# Print the result\n",
    "print(\"Expectation result for missing values in 'Price' column:\")\n",
    "print(result)"
   ]
  }
 ],
 "metadata": {
  "kernelspec": {
   "display_name": "Python 3",
   "language": "python",
   "name": "python3"
  },
  "language_info": {
   "codemirror_mode": {
    "name": "ipython",
    "version": 3
   },
   "file_extension": ".py",
   "mimetype": "text/x-python",
   "name": "python",
   "nbconvert_exporter": "python",
   "pygments_lexer": "ipython3",
   "version": "3.10.12"
  }
 },
 "nbformat": 4,
 "nbformat_minor": 2
}
