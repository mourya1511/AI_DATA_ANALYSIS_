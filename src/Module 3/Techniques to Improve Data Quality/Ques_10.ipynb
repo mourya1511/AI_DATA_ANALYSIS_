{
 "cells": [
  {
   "cell_type": "code",
   "execution_count": 1,
   "metadata": {},
   "outputs": [
    {
     "name": "stdout",
     "output_type": "stream",
     "text": [
      "Original DataFrame with possible duplicates:\n",
      "   ProductID  Price  Category  Description  Cluster\n",
      "0          1   10.5         0            2        0\n",
      "1          2   20.0         1            0        1\n",
      "2          3   10.5         0            2        0\n",
      "3          4   35.0         2            1        1\n",
      "4          5   10.5         0            2        0\n",
      "5          6   20.0         1            0        1\n",
      "\n",
      "Deduplicated DataFrame:\n",
      "   ProductID  Price  Category  Description  Cluster\n",
      "0          1   10.5         0            2        0\n",
      "1          2   20.0         1            0        1\n"
     ]
    }
   ],
   "source": [
    "# Question: Advanced Deduplication Using Machine Learning\n",
    "# Description: Implement ML-based deduplication based on feature similarity.\n",
    "\n",
    "\n",
    "import pandas as pd\n",
    "from sklearn.preprocessing import StandardScaler\n",
    "from sklearn.cluster import KMeans\n",
    "from sklearn.metrics.pairwise import cosine_similarity\n",
    "import numpy as np\n",
    "\n",
    "# Sample DataFrame with potential duplicates\n",
    "data = {\n",
    "    'ProductID': [1, 2, 3, 4, 5, 6],\n",
    "    'Price': [10.5, 20.0, 10.5, 35.0, 10.5, 20.0],\n",
    "    'Category': ['A', 'B', 'A', 'C', 'A', 'B'],\n",
    "    'Description': ['Red product', 'Blue product', 'Red product', 'Green product', 'Red product', 'Blue product']\n",
    "}\n",
    "\n",
    "df = pd.DataFrame(data)\n",
    "\n",
    "# Step 1: Preprocessing\n",
    "# Convert categorical data to numerical using Label Encoding or One-Hot Encoding\n",
    "df['Category'] = df['Category'].astype('category').cat.codes\n",
    "df['Description'] = df['Description'].astype('category').cat.codes\n",
    "\n",
    "# Normalize the data (important for distance-based models like KMeans)\n",
    "scaler = StandardScaler()\n",
    "df_scaled = scaler.fit_transform(df[['Price', 'Category', 'Description']])\n",
    "\n",
    "# Step 2: Compute similarity (Cosine Similarity)\n",
    "similarity_matrix = cosine_similarity(df_scaled)\n",
    "\n",
    "# Step 3: Apply Clustering Algorithm (e.g., KMeans)\n",
    "kmeans = KMeans(n_clusters=2, random_state=42)\n",
    "df['Cluster'] = kmeans.fit_predict(df_scaled)\n",
    "\n",
    "# Step 4: Deduplicate based on the clustering\n",
    "# Group by the cluster and remove duplicates in each cluster based on feature similarity\n",
    "df_dedup = df.drop_duplicates(subset=['Cluster'], keep='first')\n",
    "\n",
    "# Step 5: Show the deduplicated DataFrame\n",
    "print(\"Original DataFrame with possible duplicates:\")\n",
    "print(df)\n",
    "print(\"\\nDeduplicated DataFrame:\")\n",
    "print(df_dedup)"
   ]
  }
 ],
 "metadata": {
  "kernelspec": {
   "display_name": "Python 3",
   "language": "python",
   "name": "python3"
  },
  "language_info": {
   "codemirror_mode": {
    "name": "ipython",
    "version": 3
   },
   "file_extension": ".py",
   "mimetype": "text/x-python",
   "name": "python",
   "nbconvert_exporter": "python",
   "pygments_lexer": "ipython3",
   "version": "3.10.12"
  }
 },
 "nbformat": 4,
 "nbformat_minor": 2
}
