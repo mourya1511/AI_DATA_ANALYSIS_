{
 "cells": [
  {
   "cell_type": "code",
   "execution_count": 1,
   "metadata": {},
   "outputs": [
    {
     "name": "stdout",
     "output_type": "stream",
     "text": [
      "      Name  Age  Salary\n",
      "0    Alice   25   50000\n",
      "1      Bob   30   60000\n",
      "2  Charlie   35   70000\n",
      "3    David   40   80000\n",
      "4      Eva   45   90000\n"
     ]
    }
   ],
   "source": [
    "# Task 1: Load a CSV Dataset\n",
    "# Description: Load a CSV file into a Pandas DataFrame and print the first five rows to understand the structure of the dataset.\n",
    "\n",
    "\n",
    "\n",
    "import pandas as pd\n",
    "\n",
    "# Create a sample dataset (a dictionary of data)\n",
    "data = {\n",
    "    'Name': ['Alice', 'Bob', 'Charlie', 'David', 'Eva'],\n",
    "    'Age': [25, 30, 35, 40, 45],\n",
    "    'Salary': [50000, 60000, 70000, 80000, 90000]\n",
    "}\n",
    "\n",
    "# Load the data into a Pandas DataFrame\n",
    "df = pd.DataFrame(data)\n",
    "\n",
    "# Print the first five rows of the DataFrame\n",
    "print(df.head())"
   ]
  },
  {
   "cell_type": "code",
   "execution_count": 2,
   "metadata": {},
   "outputs": [
    {
     "name": "stdout",
     "output_type": "stream",
     "text": [
      "Columns with missing values:\n",
      "Name      1\n",
      "Age       1\n",
      "Salary    1\n",
      "dtype: int64\n"
     ]
    }
   ],
   "source": [
    "# Task 2: Check for Missing Values\n",
    "# Description: Identify and list the columns with missing values and the number of missing values in each.\n",
    "import pandas as pd\n",
    "\n",
    "# Sample data (you can replace this with your own DataFrame)\n",
    "data = {\n",
    "    'Name': ['Alice', 'Bob', 'Charlie', 'David', None],\n",
    "    'Age': [25, 30, 35, None, 45],\n",
    "    'Salary': [50000, 60000, None, 80000, 90000]\n",
    "}\n",
    "\n",
    "# Load the data into a Pandas DataFrame\n",
    "df = pd.DataFrame(data)\n",
    "\n",
    "# Check for missing values and count them\n",
    "missing_values = df.isnull().sum()\n",
    "\n",
    "# List columns with missing values and the number of missing values\n",
    "print(\"Columns with missing values:\")\n",
    "print(missing_values[missing_values > 0])\n"
   ]
  },
  {
   "cell_type": "code",
   "execution_count": 3,
   "metadata": {},
   "outputs": [
    {
     "data": {
      "image/png": "[encoded data removed]",
      "text/plain": [
       "<Figure size 800x600 with 1 Axes>"
      ]
     },
     "metadata": {},
     "output_type": "display_data"
    }
   ],
   "source": [
    "# Task 3: Visualize Missing Data\n",
    "# Description: Use a heatmap to visualize the missing values in the dataset.\n",
    "\n",
    "import pandas as pd\n",
    "import seaborn as sns\n",
    "import matplotlib.pyplot as plt\n",
    "\n",
    "# Sample data (you can replace this with your own DataFrame)\n",
    "data = {\n",
    "    'Name': ['Alice', 'Bob', 'Charlie', 'David', None],\n",
    "    'Age': [25, 30, 35, None, 45],\n",
    "    'Salary': [50000, 60000, None, 80000, 90000]\n",
    "}\n",
    "\n",
    "# Load the data into a Pandas DataFrame\n",
    "df = pd.DataFrame(data)\n",
    "\n",
    "# Plotting the heatmap to visualize missing values\n",
    "plt.figure(figsize=(8, 6))\n",
    "sns.heatmap(df.isnull(), cmap='viridis', cbar=False, yticklabels=False, xticklabels=True)\n",
    "plt.title(\"Missing Data Heatmap\")\n",
    "plt.show()\n",
    "\n"
   ]
  },
  {
   "cell_type": "code",
   "execution_count": 4,
   "metadata": {},
   "outputs": [
    {
     "name": "stdout",
     "output_type": "stream",
     "text": [
      "      Name   Age   Salary\n",
      "0    Alice  25.0  50000.0\n",
      "1      Bob  30.0  60000.0\n",
      "2  Charlie  35.0      NaN\n",
      "3    David   NaN  80000.0\n",
      "4     None  45.0      NaN\n"
     ]
    }
   ],
   "source": [
    "# Task 4: Remove Columns with Many Missing Values\n",
    "# Description: Drop columns that have more than 50% missing values.\n",
    "\n",
    "import pandas as pd\n",
    "\n",
    "# Sample data (you can replace this with your own DataFrame)\n",
    "data = {\n",
    "    'Name': ['Alice', 'Bob', 'Charlie', 'David', None],\n",
    "    'Age': [25, 30, 35, None, 45],\n",
    "    'Salary': [50000, 60000, None, 80000, None],\n",
    "    'City': [None, None, None, None, None]\n",
    "}\n",
    "\n",
    "# Load the data into a Pandas DataFrame\n",
    "df = pd.DataFrame(data)\n",
    "\n",
    "# Calculate the threshold for 50% missing values\n",
    "threshold = 0.5\n",
    "\n",
    "# Drop columns where the percentage of missing values is greater than 50%\n",
    "df_cleaned = df.dropna(axis=1, thresh=int((1-threshold) * len(df)))\n",
    "\n",
    "# Print the cleaned DataFrame\n",
    "print(df_cleaned)\n"
   ]
  },
  {
   "cell_type": "code",
   "execution_count": 5,
   "metadata": {},
   "outputs": [
    {
     "name": "stdout",
     "output_type": "stream",
     "text": [
      "Duplicate rows:\n",
      "    Name  Age  Salary\n",
      "3  Alice   25   50000\n"
     ]
    }
   ],
   "source": [
    "# Task 5: Identify Duplicate Rows\n",
    "# Description: Check for and display any duplicate rows in the dataset.\n",
    "\n",
    "\n",
    "import pandas as pd\n",
    "\n",
    "# Sample data (you can replace this with your own DataFrame)\n",
    "data = {\n",
    "    'Name': ['Alice', 'Bob', 'Charlie', 'Alice', 'Eva'],\n",
    "    'Age': [25, 30, 35, 25, 45],\n",
    "    'Salary': [50000, 60000, 70000, 50000, 90000]\n",
    "}\n",
    "\n",
    "# Load the data into a Pandas DataFrame\n",
    "df = pd.DataFrame(data)\n",
    "\n",
    "# Check for duplicate rows\n",
    "duplicates = df[df.duplicated()]\n",
    "\n",
    "# Display the duplicate rows\n",
    "print(\"Duplicate rows:\")\n",
    "print(duplicates)"
   ]
  },
  {
   "cell_type": "code",
   "execution_count": 6,
   "metadata": {},
   "outputs": [
    {
     "name": "stdout",
     "output_type": "stream",
     "text": [
      "DataFrame after removing duplicate rows:\n",
      "      Name  Age  Salary\n",
      "0    Alice   25   50000\n",
      "1      Bob   30   60000\n",
      "2  Charlie   35   70000\n",
      "4      Eva   45   90000\n"
     ]
    }
   ],
   "source": [
    "# Task 6: Remove Duplicate Rows\n",
    "# Description: Remove duplicate rows from the dataset and verify that they have been removed.\n",
    "import pandas as pd\n",
    "\n",
    "# Sample data (you can replace this with your own DataFrame)\n",
    "data = {\n",
    "    'Name': ['Alice', 'Bob', 'Charlie', 'Alice', 'Eva'],\n",
    "    'Age': [25, 30, 35, 25, 45],\n",
    "    'Salary': [50000, 60000, 70000, 50000, 90000]\n",
    "}\n",
    "\n",
    "# Load the data into a Pandas DataFrame\n",
    "df = pd.DataFrame(data)\n",
    "\n",
    "# Remove duplicate rows\n",
    "df_no_duplicates = df.drop_duplicates()\n",
    "\n",
    "# Print the DataFrame after removing duplicates\n",
    "print(\"DataFrame after removing duplicate rows:\")\n",
    "print(df_no_duplicates)\n",
    "\n"
   ]
  },
  {
   "cell_type": "code",
   "execution_count": 7,
   "metadata": {},
   "outputs": [
    {
     "name": "stdout",
     "output_type": "stream",
     "text": [
      "Original DataFrame with cleaned columns:\n",
      "      Name         City Name_cleaned City_cleaned\n",
      "0    Alice     New York        alice     new york\n",
      "1      bob     new york          bob     new york\n",
      "2  Charlie  Los Angeles      charlie  los angeles\n",
      "3   alice   Los angeles        alice  los angeles\n",
      "4     Eva     New York           eva     new york\n"
     ]
    }
   ],
   "source": [
    "# Task 7: Check Data Inconsistencies\n",
    "# Description: Identify inconsistencies in categorical columns, such as differing text cases or trailing spaces.\n",
    "\n",
    "import pandas as pd\n",
    "\n",
    "# Sample data (you can replace this with your own DataFrame)\n",
    "data = {\n",
    "    'Name': ['Alice', 'bob', 'Charlie', 'alice ', ' Eva '],\n",
    "    'City': ['New York', 'new york', 'Los Angeles', 'Los angeles', 'New York ']\n",
    "}\n",
    "\n",
    "# Load the data into a Pandas DataFrame\n",
    "df = pd.DataFrame(data)\n",
    "\n",
    "# Check for inconsistencies in the 'Name' column (case and spaces)\n",
    "df['Name_cleaned'] = df['Name'].str.strip().str.lower()\n",
    "\n",
    "# Check for inconsistencies in the 'City' column (case and spaces)\n",
    "df['City_cleaned'] = df['City'].str.strip().str.lower()\n",
    "\n",
    "# Display the original and cleaned columns\n",
    "print(\"Original DataFrame with cleaned columns:\")\n",
    "print(df)\n"
   ]
  },
  {
   "cell_type": "code",
   "execution_count": 8,
   "metadata": {},
   "outputs": [
    {
     "name": "stdout",
     "output_type": "stream",
     "text": [
      "Data Quality Summary:\n",
      "Total Records:\n",
      "5\n",
      "\n",
      "Duplicate Rows:\n",
      "1\n",
      "\n",
      "Columns with Missing Values:\n",
      "Salary    1\n",
      "dtype: int64\n",
      "\n"
     ]
    }
   ],
   "source": [
    "# Task 8: Get Summary of Data Quality\n",
    "# Description: Generate a summary of data quality including total records, number of duplicate rows, and columns with missing values.\n",
    "\n",
    "import pandas as pd\n",
    "\n",
    "# Sample data (you can replace this with your own DataFrame)\n",
    "data = {\n",
    "    'Name': ['Alice', 'Bob', 'Charlie', 'Alice', 'Eva'],\n",
    "    'Age': [25, 30, 35, 25, 45],\n",
    "    'Salary': [50000, 60000, 70000, 50000, None]\n",
    "}\n",
    "\n",
    "# Load the data into a Pandas DataFrame\n",
    "df = pd.DataFrame(data)\n",
    "\n",
    "# Total number of records\n",
    "total_records = len(df)\n",
    "\n",
    "# Number of duplicate rows\n",
    "duplicate_rows = df.duplicated().sum()\n",
    "\n",
    "# Columns with missing values\n",
    "missing_values = df.isnull().sum()\n",
    "\n",
    "# Summary of data quality\n",
    "data_quality_summary = {\n",
    "    'Total Records': total_records,\n",
    "    'Duplicate Rows': duplicate_rows,\n",
    "    'Columns with Missing Values': missing_values[missing_values > 0]\n",
    "}\n",
    "\n",
    "# Display the data quality summary\n",
    "print(\"Data Quality Summary:\")\n",
    "for key, value in data_quality_summary.items():\n",
    "    print(f\"{key}:\")\n",
    "    print(value)\n",
    "    print()\n"
   ]
  },
  {
   "cell_type": "code",
   "execution_count": 9,
   "metadata": {},
   "outputs": [
    {
     "name": "stdout",
     "output_type": "stream",
     "text": [
      "Data Quality Report:\n",
      "--------------------------------------------------\n",
      "\n",
      "Missing Values Summary:\n",
      "Name      0\n",
      "Age       0\n",
      "Salary    1\n",
      "City      0\n",
      "dtype: int64\n",
      "--------------------------------------------------\n",
      "\n",
      "Basic Statistics for Numerical Columns:\n",
      "           Age        Salary\n",
      "count   5.0000      4.000000\n",
      "mean   32.0000  57500.000000\n",
      "std     8.3666   9574.271078\n",
      "min    25.0000  50000.000000\n",
      "25%    25.0000  50000.000000\n",
      "50%    30.0000  55000.000000\n",
      "75%    35.0000  62500.000000\n",
      "max    45.0000  70000.000000\n",
      "--------------------------------------------------\n",
      "\n",
      "Categorical Columns Distribution:\n",
      "\n",
      "Distribution for 'Name':\n",
      "Name\n",
      "Alice      2\n",
      "Bob        1\n",
      "Charlie    1\n",
      "Eva        1\n",
      "Name: count, dtype: int64\n",
      "--------------------------------------------------\n",
      "\n",
      "Distribution for 'City':\n",
      "City\n",
      "New York       2\n",
      "new york       1\n",
      "Los Angeles    1\n",
      "Los angeles    1\n",
      "Name: count, dtype: int64\n",
      "--------------------------------------------------\n"
     ]
    }
   ],
   "source": [
    "# Task 9: Generate a Data Quality Report\n",
    "# Description: Create a comprehensive data quality report that includes not only missing values but also basic statistics for numerical columns and the distribution of categorical columns.\n",
    "\n",
    "import pandas as pd\n",
    "\n",
    "# Sample data (you can replace this with your own DataFrame)\n",
    "data = {\n",
    "    'Name': ['Alice', 'Bob', 'Charlie', 'Alice', 'Eva'],\n",
    "    'Age': [25, 30, 35, 25, 45],\n",
    "    'Salary': [50000, 60000, 70000, 50000, None],\n",
    "    'City': ['New York', 'new york', 'Los Angeles', 'Los angeles', 'New York']\n",
    "}\n",
    "\n",
    "# Load the data into a Pandas DataFrame\n",
    "df = pd.DataFrame(data)\n",
    "\n",
    "# 1. Missing Values Summary\n",
    "missing_values = df.isnull().sum()\n",
    "\n",
    "# 2. Basic Statistics for Numerical Columns\n",
    "numerical_stats = df.describe()\n",
    "\n",
    "# 3. Distribution of Categorical Columns\n",
    "categorical_columns = df.select_dtypes(include=['object']).columns\n",
    "categorical_distribution = {col: df[col].value_counts() for col in categorical_columns}\n",
    "\n",
    "# 4. Generate the Data Quality Report\n",
    "data_quality_report = {\n",
    "    'Missing Values Summary': missing_values,\n",
    "    'Basic Statistics for Numerical Columns': numerical_stats,\n",
    "    'Categorical Columns Distribution': categorical_distribution\n",
    "}\n",
    "\n",
    "# Print the data quality report\n",
    "print(\"Data Quality Report:\")\n",
    "print(\"-\" * 50)\n",
    "\n",
    "# Display Missing Values Summary\n",
    "print(\"\\nMissing Values Summary:\")\n",
    "print(missing_values)\n",
    "print(\"-\" * 50)\n",
    "\n",
    "# Display Basic Statistics for Numerical Columns\n",
    "print(\"\\nBasic Statistics for Numerical Columns:\")\n",
    "print(numerical_stats)\n",
    "print(\"-\" * 50)\n",
    "\n",
    "# Display Categorical Columns Distribution\n",
    "print(\"\\nCategorical Columns Distribution:\")\n",
    "for col, dist in categorical_distribution.items():\n",
    "    print(f\"\\nDistribution for '{col}':\")\n",
    "    print(dist)\n",
    "    print(\"-\" * 50)\n"
   ]
  },
  {
   "cell_type": "code",
   "execution_count": 10,
   "metadata": {},
   "outputs": [
    {
     "name": "stdout",
     "output_type": "stream",
     "text": [
      "DataFrame after advanced imputation:\n",
      "      Name    Age   Salary         City\n",
      "0    Alice  25.00  50000.0     New York\n",
      "1      Bob  30.00  60000.0     new york\n",
      "2  Charlie  31.25  70000.0  Los Angeles\n",
      "3    Alice  25.00  67500.0  Los angeles\n",
      "4    Alice  45.00  90000.0     New York\n"
     ]
    }
   ],
   "source": [
    "# Task 10: Advanced Data Imputation\n",
    "# Description: Perform advanced data imputation by replacing missing values in numerical columns with the mean and categorical columns with the mode.\n",
    "\n",
    "\n",
    "\n",
    "import pandas as pd\n",
    "\n",
    "# Sample data (you can replace this with your own DataFrame)\n",
    "data = {\n",
    "    'Name': ['Alice', 'Bob', 'Charlie', 'Alice', None],\n",
    "    'Age': [25, 30, None, 25, 45],\n",
    "    'Salary': [50000, 60000, 70000, None, 90000],\n",
    "    'City': ['New York', 'new york', 'Los Angeles', 'Los angeles', 'New York']\n",
    "}\n",
    "\n",
    "# Load the data into a Pandas DataFrame\n",
    "df = pd.DataFrame(data)\n",
    "\n",
    "# 1. Impute missing values in numerical columns with the mean\n",
    "numerical_columns = df.select_dtypes(include=['float64', 'int64']).columns\n",
    "for col in numerical_columns:\n",
    "    df[col].fillna(df[col].mean(), inplace=True)\n",
    "\n",
    "# 2. Impute missing values in categorical columns with the mode\n",
    "categorical_columns = df.select_dtypes(include=['object']).columns\n",
    "for col in categorical_columns:\n",
    "    df[col].fillna(df[col].mode()[0], inplace=True)\n",
    "\n",
    "# Display the DataFrame after imputation\n",
    "print(\"DataFrame after advanced imputation:\")\n",
    "print(df)"
   ]
  }
 ],
 "metadata": {
  "kernelspec": {
   "display_name": "Python 3",
   "language": "python",
   "name": "python3"
  },
  "language_info": {
   "codemirror_mode": {
    "name": "ipython",
    "version": 3
   },
   "file_extension": ".py",
   "mimetype": "text/x-python",
   "name": "python",
   "nbconvert_exporter": "python",
   "pygments_lexer": "ipython3",
   "version": "3.10.12"
  }
 },
 "nbformat": 4,
 "nbformat_minor": 2
}
