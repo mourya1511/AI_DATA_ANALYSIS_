{
 "cells": [
  {
   "cell_type": "code",
   "execution_count": 1,
   "metadata": {},
   "outputs": [
    {
     "name": "stdout",
     "output_type": "stream",
     "text": [
      "❌ File not found. Please check the file path.\n"
     ]
    }
   ],
   "source": [
    "# Part 1: Load a Dataset & Check Missing Values\n",
    "\n",
    "# Task 1: Customer Dataset\n",
    "# - Load a custom CSV file named customer_data.csv .\n",
    "# - Find any missing values in specific columns like 'Email' and 'Phone'.\n",
    "\n",
    "\n",
    "\n",
    "\n",
    "\n",
    "\n",
    "# Part 2: Identify Duplicates & Inconsistencies\n",
    "\n",
    "# Task 2: Duplicate Emails in Customer Dataset\n",
    "# - Identify duplicate emails which might indicate duplicate customer records.\n",
    "\n",
    "\n",
    "\n",
    "\n",
    "\n",
    "\n",
    "\n",
    "# Part 3: Generate a Data Quality Report\n",
    "\n",
    "# Task 3: Customer Dataset Report\n",
    "# - Summarize the data quality with missing values, duplicates, and inconsistencies for customer_data.csv .\n",
    "\n",
    "import pandas as pd\n",
    "\n",
    "def load_customer_data(filepath):\n",
    "    \"\"\"Load the customer dataset from a CSV file.\"\"\"\n",
    "    try:\n",
    "        df = pd.read_csv(filepath)\n",
    "        print(\"✅ Dataset loaded successfully.\")\n",
    "        return df\n",
    "    except FileNotFoundError:\n",
    "        print(\"❌ File not found. Please check the file path.\")\n",
    "        return None\n",
    "\n",
    "def check_missing_columns(df, columns):\n",
    "    \"\"\"Check for missing values in specific columns.\"\"\"\n",
    "    missing = df[columns].isnull().sum()\n",
    "    return missing\n",
    "\n",
    "def find_duplicate_emails(df):\n",
    "    \"\"\"Identify duplicate emails.\"\"\"\n",
    "    if 'Email' in df.columns:\n",
    "        duplicates = df[df.duplicated(subset='Email', keep=False)]\n",
    "        return duplicates\n",
    "    else:\n",
    "        return \"⚠️ 'Email' column not found in dataset.\"\n",
    "\n",
    "def generate_customer_data_quality_report(df):\n",
    "    \"\"\"Generate a basic data quality report.\"\"\"\n",
    "    print(\"\\n📋 --- Customer Data Quality Report ---\")\n",
    "\n",
    "    # Missing values in Email and Phone\n",
    "    missing = check_missing_columns(df, ['Email', 'Phone'])\n",
    "    print(\"\\n🔍 Missing Values:\\n\", missing)\n",
    "\n",
    "    # Duplicate emails\n",
    "    dup_emails = find_duplicate_emails(df)\n",
    "    print(\"\\n🔁 Duplicate Email Records:\")\n",
    "    print(dup_emails if isinstance(dup_emails, pd.DataFrame) else dup_emails)\n",
    "\n",
    "    # Overall stats\n",
    "    print(\"\\n📊 Basic Statistics:\\n\", df.describe(include='all'))\n",
    "\n",
    "# ------------ Main Execution -------------\n",
    "if __name__ == \"__main__\":\n",
    "    filepath = 'customer_data.csv'  # Replace with your actual path if needed\n",
    "    df = load_customer_data(filepath)\n",
    "\n",
    "    if df is not None:\n",
    "        generate_customer_data_quality_report(df)\n",
    "\n",
    "\n",
    "\n"
   ]
  }
 ],
 "metadata": {
  "kernelspec": {
   "display_name": "Python 3",
   "language": "python",
   "name": "python3"
  },
  "language_info": {
   "codemirror_mode": {
    "name": "ipython",
    "version": 3
   },
   "file_extension": ".py",
   "mimetype": "text/x-python",
   "name": "python",
   "nbconvert_exporter": "python",
   "pygments_lexer": "ipython3",
   "version": "3.10.12"
  }
 },
 "nbformat": 4,
 "nbformat_minor": 2
}
