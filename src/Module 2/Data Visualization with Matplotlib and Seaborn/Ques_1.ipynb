import matplotlib.pyplot as plt


products = ['A', 'B', 'C', 'D', 'E']
sales = [23, 75, 57, 90, 65]


plt.bar(products, sales, color='skyblue')

plt.title('Product Sales (in Thousands)')
plt.xlabel('Products')
plt.ylabel('Sales')

plt.show()
