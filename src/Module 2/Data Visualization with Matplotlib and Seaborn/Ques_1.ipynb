{
 "cells": [
  {
   "cell_type": "code",
   "execution_count": null,
   "metadata": {},
   "outputs": [],
   "source": [
    "import matplotlib.pyplot as plt\n",
    "\n",
    "# Product names and corresponding sales data\n",
    "products = ['A', 'B', 'C', 'D', 'E']\n",
    "sales = [23, 75, 57, 90, 65]\n",
    "\n",
    "# Create the bar plot\n",
    "plt.bar(products, sales, color='skyblue')\n",
    "\n",
    "# Add title and labels\n",
    "plt.title('Product Sales (in Thousands)')\n",
    "plt.xlabel('Products')\n",
    "plt.ylabel('Sales')\n",
    "\n",
    "# Show the plot\n",
    "plt.show()\n"
   ]
  }
 ],
 "metadata": {
  "language_info": {
   "name": "python"
  }
 },
 "nbformat": 4,
 "nbformat_minor": 2
}
