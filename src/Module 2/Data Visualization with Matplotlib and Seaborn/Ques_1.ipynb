import matplotlib.pyplot as plt

# Product names and corresponding sales data
products = ['A', 'B', 'C', 'D', 'E']
sales = [23, 75, 57, 90, 65]

# Create the bar plot
plt.bar(products, sales, color='skyblue')

# Add title and labels
plt.title('Product Sales (in Thousands)')
plt.xlabel('Products')
plt.ylabel('Sales')

# Show the plot
plt.show()
