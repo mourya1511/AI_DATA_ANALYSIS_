import pandas as pd

data = {
    'Name': ['Alice', 'Bob', 'Charlie', 'David', 'Eve', 'Alice'],
    'Age': [25, 30, None, 35, 29, 25],
    'City': ['New York', 'Los Angeles', 'New York', 'Chicago', 'Chicago', 'New York']
}

df = pd.DataFrame(data)

df.head()

df.info()

df.dtypes

df['Age']

df[2:6]

df['Age'] = df['Age'].fillna(df['Age'].mean())

df = df.rename(columns={'Age': 'Age (Years)', 'Name': 'Full Name'})

df = df.drop_duplicates()

grouped_data = df.groupby('City')['Age (Years)'].mean()

grouped_data

df.to_csv('cleaned_data.csv', index=False)

aggregated_data = df.groupby('City')['Age (Years)'].agg(['mean', 'sum', 'count'])

aggregated_data
