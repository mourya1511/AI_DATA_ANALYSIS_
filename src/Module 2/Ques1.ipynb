# 📌 Getting Started with Pandas
import pandas as pd

# Create a sample DataFrame manually
data = {
    'Name': ['Alice', 'Bob', 'Charlie', 'David', 'Eve', 'Alice'],
    'Age': [25, 30, None, 35, 29, 25],
    'City': ['New York', 'Los Angeles', 'New York', 'Chicago', 'Chicago', 'New York']
}

df = pd.DataFrame(data)

# Display the first 5 rows
print("🔹 First 5 Rows:")
print(df.head())

# Get concise summary info
print("\n🔹 DataFrame Info:")
print(df.info())

# 📌 Data Inspection & Selection

# Inspect data types of each column
print("\n🔹 Column Data Types:")
print(df.dtypes)

# Select a single column, e.g., 'Age'
print("\n🔹 Selected Column - Age:")
print(df['Age'])

# Slice specific rows (e.g., rows 2 to 5)
print("\n🔹 Sliced Rows (2 to 5):")
print(df[2:6])

# 📌 Data Cleaning & Manipulation

# Fill missing values in 'Age' with the column mean
df['Age'] = df['Age'].fillna(df['Age'].mean())

# Rename columns
df = df.rename(columns={'Age': 'Age (Years)', 'Name': 'Full Name'})

# Remove duplicate rows
df = df.drop_duplicates()

# 📌 Data Aggregation & Exporting

# Group by 'City' and calculate mean of 'Age (Years)'
grouped_data = df.groupby('City')['Age (Years)'].mean()
print("\n🔹 Grouped by City - Mean Age:")
print(grouped_data)

# Export cleaned DataFrame to a new CSV
df.to_csv('cleaned_data.csv', index=False)

# Group by 'City' and apply multiple aggregations
aggregated_data = df.groupby('City')['Age (Years)'].agg(['mean', 'sum', 'count'])
print("\n🔹 Aggregated Data (mean, sum, count) by City:")
print(aggregated_data)
