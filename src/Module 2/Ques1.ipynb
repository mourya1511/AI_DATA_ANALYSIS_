
{
 "cells": [
  {
   "cell_type": "code",
   "execution_count": 1,
   "id": "ccf23f53",
   "metadata": {},
   "outputs": [],
   "source": [
    "# 📌 Getting Started with Pandas\n",
    "import pandas as pd\n",
    "\n",
    "# Create a sample DataFrame manually\n",
    "data = {\n",
    "    'Name': ['Alice', 'Bob', 'Charlie', 'David', 'Eve', 'Alice'],\n",
    "    'Age': [25, 30, None, 35, 29, 25],\n",
    "    'City': ['New York', 'Los Angeles', 'New York', 'Chicago', 'Chicago', 'New York']\n",
    "}\n",
    "df = pd.DataFrame(data)\n",
    "\n",
    "# Display the first 5 rows\n",
    "print("🔹 First 5 Rows:")\n",
    "print(df.head())\n",
    "\n",
    "# Get concise summary info\n",
    "print("\n🔹 DataFrame Info:")\n",
    "print(df.info())\n",
    "\n",
    "# 📌 Data Inspection & Selection\n",
    "\n",
    "# Inspect data types of each column\n",
    "print("\n🔹 Column Data Types:")\n",
    "print(df.dtypes)\n",
    "\n",
    "# Select a single column, e.g., 'Age'\n",
    "print("\n🔹 Selected Column - Age:")\n",
    "print(df['Age'])\n",
    "\n",
    "# Slice specific rows (e.g., rows 2 to 5)\n",
    "print("\n🔹 Sliced Rows (2 to 5):")\n",
    "print(df[2:6])\n",
    "\n",
    "# 📌 Data Cleaning & Manipulation\n",
    "\n",
    "# Fill missing values in 'Age' with the column mean\n",
    "df['Age'] = df['Age'].fillna(df['Age'].mean())\n",
    "\n",
    "# Rename columns\n",
    "df = df.rename(columns={'Age': 'Age (Years)', 'Name': 'Full Name'})\n",
    "\n",
    "# Remove duplicate rows\n",
    "df = df.drop_duplicates()\n",
    "\n",
    "# 📌 Data Aggregation & Exporting\n",
    "\n",
    "# Group by 'City' and calculate mean of 'Age (Years)'\n",
    "grouped_data = df.groupby('City')['Age (Years)'].mean()\n",
    "print("\n🔹 Grouped by City - Mean Age:")\n",
    "print(grouped_data)\n",
    "\n",
    "# Export cleaned DataFrame to a new CSV\n",
    "df.to_csv('cleaned_data.csv', index=False)\n",
    "\n",
    "# Group by 'City' and apply multiple aggregations\n",
    "aggregated_data = df.groupby('City')['Age (Years)'].agg(['mean', 'sum', 'count'])\n",
    "print("\n🔹 Aggregated Data (mean, sum, count) by City:")\n",
    "print(aggregated_data)"
   ]
  }
 ],
 "metadata": {
  "kernelspec": {
   "display_name": "Python 3",
   "language": "python",
   "name": "python3"
  },
  "language_info": {
   "codemirror_mode": {
    "name": "ipython",
    "version": 3
   },
   "file_extension": ".py",
   "mimetype": "text/x-python",
   "name": "python",
   "nbconvert_exporter": "python",
   "version": "3.7.12"
  }
 },
 "nbformat": 4,
 "nbformat_minor": 5
}
