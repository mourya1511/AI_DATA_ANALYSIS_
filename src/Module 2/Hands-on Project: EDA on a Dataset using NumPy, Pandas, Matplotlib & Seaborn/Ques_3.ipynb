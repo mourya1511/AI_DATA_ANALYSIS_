{
 "cells": [
  {
   "cell_type": "code",
   "execution_count": 2,
   "metadata": {},
   "outputs": [
    {
     "name": "stdout",
     "output_type": "stream",
     "text": [
      "Updated dataset with new column:\n",
      "   sepal_length  sepal_width  petal_length  petal_width species  \\\n",
      "0           5.1          3.5           1.4          0.2  setosa   \n",
      "1           4.9          3.0           1.4          0.2  setosa   \n",
      "2           4.7          3.2           1.3          0.2  setosa   \n",
      "3           4.6          3.1           1.5          0.2  setosa   \n",
      "4           5.0          3.6           1.4          0.2  setosa   \n",
      "\n",
      "   petal_length_to_petal_width_ratio  \n",
      "0                                7.0  \n",
      "1                                7.0  \n",
      "2                                6.5  \n",
      "3                                7.5  \n",
      "4                                7.0  \n"
     ]
    }
   ],
   "source": [
    "import pandas as pd\n",
    "import seaborn as sns\n",
    "\n",
    "# Load the 'iris' dataset\n",
    "iris = sns.load_dataset('iris')\n",
    "\n",
    "# Calculate the ratio of petal length to petal width and add it as a new column\n",
    "iris['petal_length_to_petal_width_ratio'] = iris['petal_length'] / iris['petal_width']\n",
    "\n",
    "# Display the updated dataset with the new column\n",
    "print(\"Updated dataset with new column:\")\n",
    "print(iris.head())\n"
   ]
  }
 ],
 "metadata": {
  "kernelspec": {
   "display_name": "Python 3",
   "language": "python",
   "name": "python3"
  },
  "language_info": {
   "codemirror_mode": {
    "name": "ipython",
    "version": 3
   },
   "file_extension": ".py",
   "mimetype": "text/x-python",
   "name": "python",
   "nbconvert_exporter": "python",
   "pygments_lexer": "ipython3",
   "version": "3.10.12"
  }
 },
 "nbformat": 4,
 "nbformat_minor": 2
}
