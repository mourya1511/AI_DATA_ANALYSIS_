{
 "cells": [
  {
   "cell_type": "code",
   "execution_count": 1,
   "metadata": {},
   "outputs": [
    {
     "name": "stdout",
     "output_type": "stream",
     "text": [
      "Mean values for each numeric feature:\n",
      "sepal_length    5.843333\n",
      "sepal_width     3.057333\n",
      "petal_length    3.758000\n",
      "petal_width     1.199333\n",
      "dtype: float64\n"
     ]
    }
   ],
   "source": [
    "import numpy as np\n",
    "import seaborn as sns\n",
    "\n",
    "# Load the 'iris' dataset\n",
    "iris = sns.load_dataset('iris')\n",
    "\n",
    "# Select only numeric columns for calculations\n",
    "iris_numeric = iris.select_dtypes(include=['float64', 'int64'])\n",
    "\n",
    "# Calculate the mean of each numeric column\n",
    "mean_values = np.mean(iris_numeric, axis=0)\n",
    "\n",
    "# Display the mean values\n",
    "print(\"Mean values for each numeric feature:\")\n",
    "print(mean_values)\n"
   ]
  }
 ],
 "metadata": {
  "kernelspec": {
   "display_name": "Python 3",
   "language": "python",
   "name": "python3"
  },
  "language_info": {
   "codemirror_mode": {
    "name": "ipython",
    "version": 3
   },
   "file_extension": ".py",
   "mimetype": "text/x-python",
   "name": "python",
   "nbconvert_exporter": "python",
   "pygments_lexer": "ipython3",
   "version": "3.10.12"
  }
 },
 "nbformat": 4,
 "nbformat_minor": 2
}
