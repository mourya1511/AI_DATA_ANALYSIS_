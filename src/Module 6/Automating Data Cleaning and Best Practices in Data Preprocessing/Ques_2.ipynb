{
 "cells": [
  {
   "cell_type": "markdown",
   "metadata": {},
   "source": [
    "    Task: Complete Pipeline for a Dataset\n",
    "1. Objective: Build a complex pipeline with multiple transformations.\n",
    "2. Steps:\n",
    "    - Load a sample dataset.\n",
    "    - Define a transformation pipeline with both imputation and scaling."
   ]
  },
  {
   "cell_type": "code",
   "execution_count": null,
   "metadata": {},
   "outputs": [
    {
     "name": "stdout",
     "output_type": "stream",
     "text": [
      "Transformed shape: (442, 10)\n",
      "First 5 rows:\n",
      " [[ 8.35080170e-01  1.08350996e+00  1.42833065e+00  4.67357604e-01\n",
      "  -1.00112790e+00 -7.71537921e-01  7.51356314e-18 -3.49217275e-02\n",
      "   4.33613304e-01 -3.71984034e-01]\n",
      " [ 9.61916718e-18 -1.03013508e+00 -1.14835330e+00 -5.94943174e-01\n",
      "  -2.11460865e-01 -4.31149808e-01  1.72829366e+00 -8.56609433e-01\n",
      "  -1.52231970e+00 -2.05133645e+00]\n",
      " [ 1.88249997e+00  1.08350996e+00  1.03569309e+00 -1.39671412e-01\n",
      "  -1.03149971e+00 -7.57922396e-01 -7.38049321e-01 -3.49217275e-02\n",
      "   5.57626093e-02  6.34938491e-17]\n",
      " [-1.98489622e+00 -1.03013508e+00  4.93706764e-18 -8.22579055e-01\n",
      "   2.44116269e-01  5.28744668e-01 -8.23095630e-01 -9.65689469e-18\n",
      "   4.95241358e-01 -1.85389321e-01]\n",
      " [ 1.09943383e-01 -1.03013508e+00  4.93706764e-18  4.67357604e-01\n",
      "   6.18854152e-02  3.24511801e-01  1.97460086e-01 -3.49217275e-02\n",
      "  -7.16709693e-01 -1.02506553e+00]]\n"
     ]
    }
   ],
   "source": [
    "# Task: Imputation Function\n",
    "\n",
    "from sklearn.datasets import load_diabetes\n",
    "from sklearn.model_selection import train_test_split\n",
    "from sklearn.impute import SimpleImputer\n",
    "from sklearn.preprocessing import StandardScaler\n",
    "from sklearn.pipeline import Pipeline\n",
    "import numpy as np\n",
    "import pandas as pd\n",
    "\n",
    "# Step 1: Load Sample Dataset\n",
    "data = load_diabetes()\n",
    "X, y = data.data, data.target\n",
    "\n",
    "# Introduce some missing values for demonstration\n",
    "rng = np.random.RandomState(42)\n",
    "missing_mask = rng.rand(*X.shape) < 0.1  # 10% missing\n",
    "X[missing_mask] = np.nan\n",
    "\n",
    "# Step 2: Define Imputation Function (using SimpleImputer)\n",
    "# Step 3: Define Scaling Function (using StandardScaler)\n",
    "# Step 4: Combine Imputation + Scaling in a Pipeline\n",
    "\n",
    "pipeline = Pipeline([\n",
    "    ('imputer', SimpleImputer(strategy='mean')),  # Step 2: Imputation\n",
    "    ('scaler', StandardScaler())                  # Step 3: Scaling\n",
    "])\n",
    "\n",
    "# Step 5: Apply the Combined Transformation\n",
    "X_transformed = pipeline.fit_transform(X)\n",
    "\n",
    "# Optional: Print the shape and preview transformed data\n",
    "print(\"Transformed shape:\", X_transformed.shape)\n",
    "print(\"First 5 rows:\\n\", X_transformed[:5])\n",
    "\n",
    "\n",
    "\n",
    "\n",
    "\n",
    "\n",
    "# Scaling Function\n",
    "\n",
    "\n",
    "\n",
    "\n",
    "\n",
    "\n",
    "\n",
    "\n",
    "\n",
    "# Combined Transformation Function\n",
    "\n",
    "\n",
    "\n",
    "\n",
    "\n",
    "\n",
    "\n"
   ]
  }
 ],
 "metadata": {
  "kernelspec": {
   "display_name": "Python 3",
   "language": "python",
   "name": "python3"
  },
  "language_info": {
   "codemirror_mode": {
    "name": "ipython",
    "version": 3
   },
   "file_extension": ".py",
   "mimetype": "text/x-python",
   "name": "python",
   "nbconvert_exporter": "python",
   "pygments_lexer": "ipython3",
   "version": "3.10.12"
  }
 },
 "nbformat": 4,
 "nbformat_minor": 2
}
