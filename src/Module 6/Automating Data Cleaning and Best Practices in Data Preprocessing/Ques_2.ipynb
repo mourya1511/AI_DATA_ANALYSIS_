{
 "cells": [
  {
   "cell_type": "markdown",
   "metadata": {},
   "source": [
    "    Task: Complete Pipeline for a Dataset\n",
    "1. Objective: Build a complex pipeline with multiple transformations.\n",
    "2. Steps:\n",
    "    - Load a sample dataset.\n",
    "    - Define a transformation pipeline with both imputation and scaling."
   ]
  },
  {
   "cell_type": "code",
   "execution_count": 4,
   "metadata": {},
   "outputs": [
    {
     "name": "stdout",
     "output_type": "stream",
     "text": [
      "Dataset loaded successfully.\n",
      "Shape: (442, 10)\n",
      "Missing values introduced.\n",
      "Pipeline executed successfully.\n",
      "Transformed shape: (442, 10)\n",
      "Preview of transformed data:\n",
      " [[ 8.35080170e-01  1.08350996e+00  1.42833065e+00  4.67357604e-01\n",
      "  -1.00112790e+00 -7.71537921e-01  7.51356314e-18 -3.49217275e-02\n",
      "   4.33613304e-01 -3.71984034e-01]\n",
      " [ 9.61916718e-18 -1.03013508e+00 -1.14835330e+00 -5.94943174e-01\n",
      "  -2.11460865e-01 -4.31149808e-01  1.72829366e+00 -8.56609433e-01\n",
      "  -1.52231970e+00 -2.05133645e+00]\n",
      " [ 1.88249997e+00  1.08350996e+00  1.03569309e+00 -1.39671412e-01\n",
      "  -1.03149971e+00 -7.57922396e-01 -7.38049321e-01 -3.49217275e-02\n",
      "   5.57626093e-02  6.34938491e-17]\n",
      " [-1.98489622e+00 -1.03013508e+00  4.93706764e-18 -8.22579055e-01\n",
      "   2.44116269e-01  5.28744668e-01 -8.23095630e-01 -9.65689469e-18\n",
      "   4.95241358e-01 -1.85389321e-01]\n",
      " [ 1.09943383e-01 -1.03013508e+00  4.93706764e-18  4.67357604e-01\n",
      "   6.18854152e-02  3.24511801e-01  1.97460086e-01 -3.49217275e-02\n",
      "  -7.16709693e-01 -1.02506553e+00]]\n",
      "All tests passed.\n"
     ]
    }
   ],
   "source": [
    "import numpy as np\n",
    "import pandas as pd\n",
    "from sklearn.datasets import load_diabetes\n",
    "from sklearn.pipeline import Pipeline\n",
    "from sklearn.impute import SimpleImputer\n",
    "from sklearn.preprocessing import StandardScaler\n",
    "\n",
    "# Cell 2: Load dataset and check for issues\n",
    "try:\n",
    "    data = load_diabetes()\n",
    "    X, y = data.data, data.target\n",
    "    \n",
    "    if X is None or X.size == 0:\n",
    "        raise ValueError(\"Dataset is empty.\")\n",
    "    \n",
    "    print(\"Dataset loaded successfully.\")\n",
    "    print(\"Shape:\", X.shape)\n",
    "    \n",
    "except Exception as e:\n",
    "    print(\"Error loading dataset:\", e)\n",
    "\n",
    "# Cell 3: Introduce missing values artificially (for demo)\n",
    "rng = np.random.RandomState(42)\n",
    "missing_mask = rng.rand(*X.shape) < 0.1  # 10% missing values\n",
    "X[missing_mask] = np.nan\n",
    "print(\"Missing values introduced.\")\n",
    "\n",
    "# Cell 4: Define transformation pipeline function\n",
    "def build_pipeline():\n",
    "    \"\"\"\n",
    "    Returns a pipeline with:\n",
    "    - Mean imputation\n",
    "    - Standard scaling\n",
    "    \"\"\"\n",
    "    return Pipeline([\n",
    "        ('imputer', SimpleImputer(strategy='mean')),\n",
    "        ('scaler', StandardScaler())\n",
    "    ])\n",
    "\n",
    "# Cell 5: Apply the pipeline with error handling\n",
    "try:\n",
    "    pipeline = build_pipeline()\n",
    "    X_transformed = pipeline.fit_transform(X)\n",
    "    print(\"Pipeline executed successfully.\")\n",
    "    print(\"Transformed shape:\", X_transformed.shape)\n",
    "    print(\"Preview of transformed data:\\n\", X_transformed[:5])\n",
    "except Exception as e:\n",
    "    print(\"Pipeline execution failed:\", e)\n",
    "\n",
    "# Cell 6: Function to test pipeline (basic tests)\n",
    "def test_pipeline():\n",
    "    try:\n",
    "        # Test shape and no missing values\n",
    "        assert X_transformed.shape == X.shape, \"Shape mismatch after transformation\"\n",
    "        assert not np.isnan(X_transformed).any(), \"NaN values found in transformed data\"\n",
    "        print(\"All tests passed.\")\n",
    "    except AssertionError as e:\n",
    "        print(\"Test failed:\", e)\n",
    "\n",
    "# Cell 7: Run tests\n",
    "test_pipeline()"
   ]
  },
  {
   "cell_type": "code",
   "execution_count": 5,
   "metadata": {},
   "outputs": [
    {
     "name": "stderr",
     "output_type": "stream",
     "text": [
      "usage: ipykernel_launcher.py [-h] [-v] [-q] [--locals] [-f] [-c] [-b]\n",
      "                             [-k TESTNAMEPATTERNS]\n",
      "                             [tests ...]\n",
      "ipykernel_launcher.py: error: argument -f/--failfast: ignored explicit argument '/home/vscode/.local/share/jupyter/runtime/kernel-v3737b002486cd363514cda598eafd05d98a39f9ad.json'\n"
     ]
    },
    {
     "ename": "SystemExit",
     "evalue": "2",
     "output_type": "error",
     "traceback": [
      "An exception has occurred, use %tb to see the full traceback.\n",
      "\u001b[0;31mSystemExit\u001b[0m\u001b[0;31m:\u001b[0m 2\n"
     ]
    },
    {
     "name": "stderr",
     "output_type": "stream",
     "text": [
      "/home/vscode/.local/lib/python3.10/site-packages/IPython/core/interactiveshell.py:3587: UserWarning: To exit: use 'exit', 'quit', or Ctrl-D.\n",
      "  warn(\"To exit: use 'exit', 'quit', or Ctrl-D.\", stacklevel=1)\n"
     ]
    }
   ],
   "source": [
    "import unittest\n",
    "import numpy as np\n",
    "from sklearn.pipeline import Pipeline\n",
    "from sklearn.impute import SimpleImputer\n",
    "from sklearn.preprocessing import StandardScaler\n",
    "\n",
    "def build_pipeline():\n",
    "    return Pipeline([\n",
    "        ('imputer', SimpleImputer(strategy='mean')),\n",
    "        ('scaler', StandardScaler())\n",
    "    ])\n",
    "\n",
    "class TestPipeline(unittest.TestCase):\n",
    "    def test_pipeline_execution(self):\n",
    "        X = np.array([[1, 2], [np.nan, 3], [7, 6]])\n",
    "        pipe = build_pipeline()\n",
    "        X_trans = pipe.fit_transform(X)\n",
    "        self.assertEqual(X_trans.shape, (3, 2))\n",
    "        self.assertFalse(np.isnan(X_trans).any())\n",
    "\n",
    "if __name__ == '__main__':\n",
    "    unittest.main()"
   ]
  }
 ],
 "metadata": {
  "kernelspec": {
   "display_name": "Python 3",
   "language": "python",
   "name": "python3"
  },
  "language_info": {
   "codemirror_mode": {
    "name": "ipython",
    "version": 3
   },
   "file_extension": ".py",
   "mimetype": "text/x-python",
   "name": "python",
   "nbconvert_exporter": "python",
   "pygments_lexer": "ipython3",
   "version": "3.10.12"
  }
 },
 "nbformat": 4,
 "nbformat_minor": 2
}
