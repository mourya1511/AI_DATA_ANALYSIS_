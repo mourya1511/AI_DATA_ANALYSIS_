{
 "cells": [
  {
   "cell_type": "markdown",
   "metadata": {},
   "source": [
    "## Automating Data Cleaning in Python"
   ]
  },
  {
   "cell_type": "markdown",
   "metadata": {
    "vscode": {
     "languageId": "plaintext"
    }
   },
   "source": [
    "    Task: Basic Pipeline with Scaling\n",
    "1. Objective: Create a pipeline that scales numerical features in a dataset.\n",
    "2. Steps:\n",
    "    - Load a sample dataset with Pandas.\n",
    "    - Define a pipeline using Pipeline from sklearn.pipeline .\n",
    "    - Use StandardScaler to scale features."
   ]
  },
  {
   "cell_type": "code",
   "execution_count": 5,
   "metadata": {},
   "outputs": [
    {
     "name": "stdout",
     "output_type": "stream",
     "text": [
      "🔹 Original DataFrame with Missing Values:\n",
      "    Age   Salary\n",
      "0  25.0  50000.0\n",
      "1  30.0      NaN\n",
      "2   NaN  60000.0\n",
      "3  40.0  65000.0\n",
      "4  22.0      NaN\n",
      "\n",
      "✅ Processed DataFrame (Imputed and Scaled):\n",
      "        Age    Salary\n",
      "0 -0.695414 -1.725164\n",
      "1  0.122720  0.000000\n",
      "2  0.000000  0.345033\n",
      "3  1.758989  1.380131\n",
      "4 -1.186295  0.000000\n"
     ]
    }
   ],
   "source": [
    "import pandas as pd\n",
    "import numpy as np\n",
    "from sklearn.impute import SimpleImputer\n",
    "from sklearn.preprocessing import StandardScaler\n",
    "from sklearn.pipeline import Pipeline\n",
    "\n",
    "# Step 1: Load sample dataset with missing values\n",
    "data = {\n",
    "    'Age': [25, 30, np.nan, 40, 22],\n",
    "    'Salary': [50000, np.nan, 60000, 65000, np.nan]\n",
    "}\n",
    "df = pd.DataFrame(data)\n",
    "print(\"🔹 Original DataFrame with Missing Values:\")\n",
    "print(df)\n",
    "\n",
    "# Step 2: Define pipeline with Imputation + Scaling\n",
    "pipeline = Pipeline([\n",
    "    ('imputer', SimpleImputer(strategy='mean')),       # Handle missing values\n",
    "    ('scaler', StandardScaler())                       # Scale the data\n",
    "])\n",
    "\n",
    "# Step 3: Fit and transform the data using the pipeline\n",
    "processed_data = pipeline.fit_transform(df)\n",
    "\n",
    "# Step 4: Convert result back to DataFrame\n",
    "processed_df = pd.DataFrame(processed_data, columns=df.columns)\n",
    "print(\"\\n✅ Processed DataFrame (Imputed and Scaled):\")\n",
    "print(processed_df)"
   ]
  },
  {
   "cell_type": "code",
   "execution_count": null,
   "metadata": {},
   "outputs": [
    {
     "ename": "NameError",
     "evalue": "name 'load_boston' is not defined",
     "output_type": "error",
     "traceback": [
      "\u001b[0;31m---------------------------------------------------------------------------\u001b[0m",
      "\u001b[0;31mNameError\u001b[0m                                 Traceback (most recent call last)",
      "Cell \u001b[0;32mIn[3], line 9\u001b[0m\n\u001b[1;32m      4\u001b[0m \u001b[38;5;28;01mfrom\u001b[39;00m\u001b[38;5;250m \u001b[39m\u001b[38;5;21;01msklearn\u001b[39;00m\u001b[38;5;21;01m.\u001b[39;00m\u001b[38;5;21;01mpreprocessing\u001b[39;00m\u001b[38;5;250m \u001b[39m\u001b[38;5;28;01mimport\u001b[39;00m StandardScaler\n\u001b[1;32m      7\u001b[0m \u001b[38;5;66;03m# Step 1: Load a sample dataset\u001b[39;00m\n\u001b[1;32m      8\u001b[0m \u001b[38;5;66;03m# Using the Boston housing dataset (you can replace this with your own DataFrame)\u001b[39;00m\n\u001b[0;32m----> 9\u001b[0m boston \u001b[38;5;241m=\u001b[39m \u001b[43mload_boston\u001b[49m() \u001b[38;5;66;03m# type: ignore\u001b[39;00m\n\u001b[1;32m     10\u001b[0m df \u001b[38;5;241m=\u001b[39m pd\u001b[38;5;241m.\u001b[39mDataFrame(boston\u001b[38;5;241m.\u001b[39mdata, columns\u001b[38;5;241m=\u001b[39mboston\u001b[38;5;241m.\u001b[39mfeature_names)\n\u001b[1;32m     12\u001b[0m \u001b[38;5;66;03m# We'll just use the first 4 columns as numerical features for demonstration\u001b[39;00m\n",
      "\u001b[0;31mNameError\u001b[0m: name 'load_boston' is not defined"
     ]
    }
   ],
   "source": [
    "# Write your code from here\n",
    "import pandas as pd\n",
    "from sklearn.pipeline import Pipeline\n",
    "from sklearn.preprocessing import StandardScaler\n",
    "\n",
    "\n",
    "# Step 1: Load a sample dataset\n",
    "# Using the Boston housing dataset (you can replace this with your own DataFrame)\n",
    "boston = load_boston() \n",
    "df = pd.DataFrame(boston.data, columns=boston.feature_names)\n",
    "\n",
    "# We'll just use the first 4 columns as numerical features for demonstration\n",
    "X = df.iloc[:, :4]  # Select numerical features\n",
    "\n",
    "# Step 2: Define a pipeline with scaling\n",
    "pipeline = Pipeline([\n",
    "    ('scaler', StandardScaler())\n",
    "])\n",
    "\n",
    "# Step 3: Fit and transform the data using the pipeline\n",
    "scaled_data = pipeline.fit_transform(X)\n",
    "\n",
    "# Convert the scaled data back to a DataFrame for easier inspection\n",
    "scaled_df = pd.DataFrame(scaled_data, columns=X.columns)\n",
    "\n",
    "# Display the first few rows\n",
    "print(\"🔍 Scaled Features:\")\n",
    "print(scaled_df.head())"
   ]
  },
  {
   "cell_type": "markdown",
   "metadata": {},
   "source": [
    "    Task: Pipeline with Imputation\n",
    "1. Objective: Automate data cleaning by handling missing values.\n",
    "2. Steps:\n",
    "    - Load a dataset with missing values.\n",
    "    - Define a pipeline to use SimpleImputer for filling missing values."
   ]
  },
  {
   "cell_type": "code",
   "execution_count": 4,
   "metadata": {},
   "outputs": [
    {
     "name": "stdout",
     "output_type": "stream",
     "text": [
      "🔹 Original DataFrame with Missing Values:\n",
      "    Age   Salary\n",
      "0  25.0  50000.0\n",
      "1  30.0      NaN\n",
      "2   NaN  60000.0\n",
      "3  40.0  65000.0\n",
      "4  22.0      NaN\n",
      "\n",
      "✅ Cleaned DataFrame after Imputation:\n",
      "     Age        Salary\n",
      "0  25.00  50000.000000\n",
      "1  30.00  58333.333333\n",
      "2  29.25  60000.000000\n",
      "3  40.00  65000.000000\n",
      "4  22.00  58333.333333\n"
     ]
    }
   ],
   "source": [
    "# Write your code from here\n",
    "\n",
    "import pandas as pd\n",
    "import numpy as np\n",
    "from sklearn.impute import SimpleImputer\n",
    "from sklearn.pipeline import Pipeline\n",
    "\n",
    "# Step 1: Load a dataset with missing values\n",
    "data = {\n",
    "    'Age': [25, 30, np.nan, 40, 22],\n",
    "    'Salary': [50000, np.nan, 60000, 65000, np.nan]\n",
    "}\n",
    "df = pd.DataFrame(data)\n",
    "print(\"🔹 Original DataFrame with Missing Values:\")\n",
    "print(df)\n",
    "\n",
    "# Step 2: Define a pipeline with SimpleImputer to fill missing values\n",
    "pipeline = Pipeline([\n",
    "    ('imputer', SimpleImputer(strategy='mean'))  # You can also try 'median', 'most_frequent', etc.\n",
    "])\n",
    "\n",
    "# Step 3: Fit and transform the data using the pipeline\n",
    "cleaned_data = pipeline.fit_transform(df)\n",
    "\n",
    "# Step 4: Convert back to DataFrame for easier inspection\n",
    "cleaned_df = pd.DataFrame(cleaned_data, columns=df.columns)\n",
    "\n",
    "print(\"\\n✅ Cleaned DataFrame after Imputation:\")\n",
    "print(cleaned_df)"
   ]
  }
 ],
 "metadata": {
  "kernelspec": {
   "display_name": "Python 3",
   "language": "python",
   "name": "python3"
  },
  "language_info": {
   "codemirror_mode": {
    "name": "ipython",
    "version": 3
   },
   "file_extension": ".py",
   "mimetype": "text/x-python",
   "name": "python",
   "nbconvert_exporter": "python",
   "pygments_lexer": "ipython3",
   "version": "3.10.12"
  }
 },
 "nbformat": 4,
 "nbformat_minor": 2
}
