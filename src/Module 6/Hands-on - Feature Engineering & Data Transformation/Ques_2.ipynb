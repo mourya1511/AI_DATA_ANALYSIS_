{
 "cells": [
  {
   "cell_type": "code",
   "execution_count": 2,
   "metadata": {},
   "outputs": [
    {
     "name": "stdout",
     "output_type": "stream",
     "text": [
      "Original Data:\n",
      "   Age  Annual_Income Region\n",
      "0   23          45000  North\n",
      "1   45         100000  South\n",
      "2   36          75000   East\n",
      "3   50         120000   West\n",
      "4   28          55000  North\n",
      "\n",
      "Transformed Data (After Scaling and Encoding):\n",
      "        Age  Annual_Income  Region_North  Region_South  Region_West\n",
      "0  0.000000       0.000000          True         False        False\n",
      "1  0.594595       0.578947         False          True        False\n",
      "2  0.351351       0.315789         False         False        False\n",
      "3  0.729730       0.789474         False         False         True\n",
      "4  0.135135       0.105263          True         False        False\n"
     ]
    }
   ],
   "source": [
    "import pandas as pd\n",
    "from sklearn.preprocessing import MinMaxScaler\n",
    "from sklearn.preprocessing import OneHotEncoder\n",
    "\n",
    "# Simulate a dataset similar to customer_data.csv\n",
    "data = {\n",
    "    'Age': [23, 45, 36, 50, 28, 40, 30, 35, 60, 25],\n",
    "    'Annual_Income': [45000, 100000, 75000, 120000, 55000, 90000, 62000, 80000, 140000, 48000],\n",
    "    'Region': ['North', 'South', 'East', 'West', 'North', 'South', 'East', 'West', 'North', 'South']\n",
    "}\n",
    "\n",
    "df = pd.DataFrame(data)\n",
    "\n",
    "# Show the first few rows of the original dataset\n",
    "print(\"Original Data:\")\n",
    "print(df.head())\n",
    "\n",
    "# --- Step 1: Feature Scaling ---\n",
    "# Use MinMaxScaler for 'Age' and 'Annual_Income' columns\n",
    "scaler = MinMaxScaler()\n",
    "\n",
    "# Apply scaling to 'Age' and 'Annual_Income'\n",
    "df[['Age', 'Annual_Income']] = scaler.fit_transform(df[['Age', 'Annual_Income']])\n",
    "\n",
    "# --- Step 2: Feature Encoding ---\n",
    "# Apply One-Hot Encoding for the 'Region' column\n",
    "df_encoded = pd.get_dummies(df, columns=['Region'], drop_first=True)\n",
    "\n",
    "# Show the transformed dataset\n",
    "print(\"\\nTransformed Data (After Scaling and Encoding):\")\n",
    "print(df_encoded.head())"
   ]
  }
 ],
 "metadata": {
  "kernelspec": {
   "display_name": "Python 3",
   "language": "python",
   "name": "python3"
  },
  "language_info": {
   "codemirror_mode": {
    "name": "ipython",
    "version": 3
   },
   "file_extension": ".py",
   "mimetype": "text/x-python",
   "name": "python",
   "nbconvert_exporter": "python",
   "pygments_lexer": "ipython3",
   "version": "3.10.12"
  }
 },
 "nbformat": 4,
 "nbformat_minor": 2
}
