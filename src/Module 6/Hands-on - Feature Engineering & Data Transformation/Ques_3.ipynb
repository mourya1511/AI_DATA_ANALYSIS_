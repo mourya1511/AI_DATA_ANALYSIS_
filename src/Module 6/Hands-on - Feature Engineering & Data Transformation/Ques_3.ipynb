{
 "cells": [
  {
   "cell_type": "code",
   "execution_count": 4,
   "metadata": {},
   "outputs": [
    {
     "name": "stdout",
     "output_type": "stream",
     "text": [
      "\n",
      "Transformed Data (After Scaling and Encoding):\n",
      "    Mileage  Horsepower  Fuel_Type\n",
      "0 -0.365165   -1.591545          2\n",
      "1 -0.703978   -0.287000          0\n",
      "2  0.011294   -1.069727          2\n",
      "3 -1.118083    0.495727          1\n",
      "4 -0.515749   -1.330636          0\n",
      "5  0.764212   -0.026091          2\n",
      "6  1.140671    1.017545          1\n",
      "7 -1.494542    0.756636          0\n",
      "8  1.893589    1.539363          2\n",
      "9  0.387753    0.495727          1\n"
     ]
    }
   ],
   "source": [
    "import pandas as pd\n",
    "from sklearn.preprocessing import StandardScaler, LabelEncoder\n",
    "\n",
    "# Step 1: Generate a synthetic dataset with 'Mileage', 'Horsepower', and 'Fuel_Type'\n",
    "def create_sample_data():\n",
    "    data = {\n",
    "        'Mileage': [30, 25.5, 35, 20, 28, 45, 50, 15, 60, 40],\n",
    "        'Horsepower': [100, 150, 120, 180, 110, 160, 200, 190, 220, 180],\n",
    "        'Fuel_Type': ['Petrol', 'Diesel', 'Petrol', 'Electric', 'Diesel', 'Petrol', 'Electric', 'Diesel', 'Petrol', 'Electric']\n",
    "    }\n",
    "    return pd.DataFrame(data)\n",
    "\n",
    "# Step 2: Scaling Data\n",
    "def scale_data(df, columns):\n",
    "    scaler = StandardScaler()\n",
    "    df[columns] = scaler.fit_transform(df[columns])\n",
    "    return df\n",
    "\n",
    "# Step 3: Encoding Data\n",
    "def encode_data(df, column):\n",
    "    encoder = LabelEncoder()\n",
    "    df[column] = encoder.fit_transform(df[column])\n",
    "    return df\n",
    "\n",
    "# Main function to run the transformations\n",
    "def process_data():\n",
    "    df = create_sample_data()\n",
    "    \n",
    "    # Scaling 'Mileage' and 'Horsepower' columns\n",
    "    df = scale_data(df, ['Mileage', 'Horsepower'])\n",
    "    \n",
    "    # Encoding 'Fuel_Type' column\n",
    "    df = encode_data(df, 'Fuel_Type')\n",
    "    \n",
    "    return df\n",
    "\n",
    "# Run the data processing\n",
    "processed_df = process_data()\n",
    "\n",
    "# Display the transformed dataset\n",
    "print(\"\\nTransformed Data (After Scaling and Encoding):\")\n",
    "print(processed_df)"
   ]
  }
 ],
 "metadata": {
  "kernelspec": {
   "display_name": "Python 3",
   "language": "python",
   "name": "python3"
  },
  "language_info": {
   "codemirror_mode": {
    "name": "ipython",
    "version": 3
   },
   "file_extension": ".py",
   "mimetype": "text/x-python",
   "name": "python",
   "nbconvert_exporter": "python",
   "pygments_lexer": "ipython3",
   "version": "3.10.12"
  }
 },
 "nbformat": 4,
 "nbformat_minor": 2
}
