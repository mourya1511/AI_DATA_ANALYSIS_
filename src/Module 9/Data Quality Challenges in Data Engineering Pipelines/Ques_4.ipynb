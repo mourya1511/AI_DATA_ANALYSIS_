{
 "cells": [
  {
   "cell_type": "markdown",
   "metadata": {},
   "source": [
    "### Complex Schema Validation with Avro\n",
    "**Description**: Implement a solution in Python to validate records against a complex nested Avro schema.\n",
    "\n",
    "Eg., Complex schema ( nested_schema.avsc ):\n",
    "\n",
    "**Steps**:\n",
    "1. Load schema\n",
    "2. Example data to validate\n",
    "3. Validate against schema\n",
    "4. Read back to check"
   ]
  },
  {
   "cell_type": "code",
   "execution_count": 1,
   "metadata": {},
   "outputs": [
    {
     "name": "stdout",
     "output_type": "stream",
     "text": [
      "\n",
      "Validating VALID record:\n",
      "✅ Valid record: {'id': 101, 'name': 'Alice', 'address': {'street': '42 Galaxy Way', 'city': 'Andromeda', 'coordinates': {'latitude': 12.34, 'longitude': 56.78}}}\n",
      "\n",
      "Validating INVALID record:\n",
      "❌ Validation failed: [\n",
      "  \"example.avro.User.id is <not-an-int> of type <class 'str'> expected int\"\n",
      "]\n"
     ]
    },
    {
     "data": {
      "text/plain": [
       "False"
      ]
     },
     "execution_count": 1,
     "metadata": {},
     "output_type": "execute_result"
    }
   ],
   "source": [
    "# write your code from here\n",
    "\n",
    "from fastavro import parse_schema, validate\n",
    "from fastavro.validation import ValidationError\n",
    "\n",
    "# Step 1: Define schema directly in Python\n",
    "schema = {\n",
    "    \"type\": \"record\",\n",
    "    \"name\": \"User\",\n",
    "    \"namespace\": \"example.avro\",\n",
    "    \"fields\": [\n",
    "        {\"name\": \"id\", \"type\": \"int\"},\n",
    "        {\"name\": \"name\", \"type\": \"string\"},\n",
    "        {\n",
    "            \"name\": \"address\",\n",
    "            \"type\": {\n",
    "                \"type\": \"record\",\n",
    "                \"name\": \"Address\",\n",
    "                \"fields\": [\n",
    "                    {\"name\": \"street\", \"type\": \"string\"},\n",
    "                    {\"name\": \"city\", \"type\": \"string\"},\n",
    "                    {\n",
    "                        \"name\": \"coordinates\",\n",
    "                        \"type\": {\n",
    "                            \"type\": \"record\",\n",
    "                            \"name\": \"Coordinates\",\n",
    "                            \"fields\": [\n",
    "                                {\"name\": \"latitude\", \"type\": \"double\"},\n",
    "                                {\"name\": \"longitude\", \"type\": \"double\"}\n",
    "                            ]\n",
    "                        }\n",
    "                    }\n",
    "                ]\n",
    "            }\n",
    "        }\n",
    "    ]\n",
    "}\n",
    "\n",
    "# Parse the schema\n",
    "parsed_schema = parse_schema(schema)\n",
    "\n",
    "# Step 2: Create some example records\n",
    "valid_record = {\n",
    "    \"id\": 101,\n",
    "    \"name\": \"Alice\",\n",
    "    \"address\": {\n",
    "        \"street\": \"42 Galaxy Way\",\n",
    "        \"city\": \"Andromeda\",\n",
    "        \"coordinates\": {\n",
    "            \"latitude\": 12.34,\n",
    "            \"longitude\": 56.78\n",
    "        }\n",
    "    }\n",
    "}\n",
    "\n",
    "invalid_record = {\n",
    "    \"id\": \"not-an-int\",  # Invalid type\n",
    "    \"name\": \"Bob\",\n",
    "    \"address\": {\n",
    "        \"street\": \"99 Universe Blvd\",\n",
    "        \"city\": \"Cosmo City\",\n",
    "        \"coordinates\": {\n",
    "            \"latitude\": \"not-a-float\",  # Invalid type\n",
    "            \"longitude\": 100.1\n",
    "        }\n",
    "    }\n",
    "}\n",
    "\n",
    "# Step 3: Validation function\n",
    "def validate_record(record, schema):\n",
    "    try:\n",
    "        is_valid = validate(record, schema)\n",
    "        print(\"✅ Valid record:\", record)\n",
    "        return True\n",
    "    except ValidationError as e:\n",
    "        print(\"❌ Validation failed:\", e)\n",
    "        return False\n",
    "\n",
    "# Step 4: Run validation\n",
    "print(\"\\nValidating VALID record:\")\n",
    "validate_record(valid_record, parsed_schema)\n",
    "\n",
    "print(\"\\nValidating INVALID record:\")\n",
    "validate_record(invalid_record, parsed_schema)"
   ]
  }
 ],
 "metadata": {
  "kernelspec": {
   "display_name": "Python 3",
   "language": "python",
   "name": "python3"
  },
  "language_info": {
   "codemirror_mode": {
    "name": "ipython",
    "version": 3
   },
   "file_extension": ".py",
   "mimetype": "text/x-python",
   "name": "python",
   "nbconvert_exporter": "python",
   "pygments_lexer": "ipython3",
   "version": "3.10.12"
  }
 },
 "nbformat": 4,
 "nbformat_minor": 2
}
