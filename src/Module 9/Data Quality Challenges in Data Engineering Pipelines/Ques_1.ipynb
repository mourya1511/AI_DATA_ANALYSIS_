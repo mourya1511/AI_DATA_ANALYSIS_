{
 "cells": [
  {
   "cell_type": "markdown",
   "metadata": {},
   "source": [
    "### Task 1: Detecting Missing Values during Data Ingestion\n",
    "**Description**: You have a CSV file with missing values in some columns. Write a Python script to detect and report missing values during the ingestion process.\n",
    "\n",
    "**Steps**:\n",
    "1. Load data\n",
    "2. Check for missing values\n",
    "3. Report missing values"
   ]
  },
  {
   "cell_type": "code",
   "execution_count": 1,
   "metadata": {},
   "outputs": [
    {
     "name": "stdout",
     "output_type": "stream",
     "text": [
      "Missing Values Report:\n",
      "id       0\n",
      "name     1\n",
      "age      1\n",
      "email    1\n",
      "dtype: int64\n",
      "Total missing values: 3\n",
      "\n",
      "Warning: Dataset contains missing values!\n",
      "\n",
      "Data Type Validation Report:\n",
      "Row 1 - Field 'age' has invalid type 'str', value: 30\n",
      "\n",
      "Duplicate Records Detection:\n",
      "   id     name  age                email\n",
      "1   2      Bob   30      bob@example.com\n",
      "2   3  Charlie   22  charlie@example.com\n",
      "3   2      Bob   30      bob@example.com\n",
      "6   3  Charlie   22  charlie@example.com\n",
      "Number of duplicate rows found: 4\n",
      "Number of rows after removing duplicates: 5\n",
      "\n"
     ]
    }
   ],
   "source": [
    "# Write your code from here\n",
    "\n",
    "import pandas as pd\n",
    "import json\n",
    "\n",
    "# ------------------ Task 1: Detect Missing Values ------------------\n",
    "\n",
    "# Simulate CSV data as DataFrame with missing values\n",
    "data_csv = {\n",
    "    \"id\": [1, 2, 3, 4, 5],\n",
    "    \"name\": [\"Alice\", None, \"Charlie\", \"David\", \"Eva\"],\n",
    "    \"age\": [25, 30, None, 40, 35],\n",
    "    \"email\": [\"alice@example.com\", \"bob@example.com\", \"charlie@example.com\", None, \"eva@example.com\"]\n",
    "}\n",
    "df = pd.DataFrame(data_csv)\n",
    "\n",
    "def detect_missing_values(df):\n",
    "    missing_report = df.isnull().sum()\n",
    "    total_missing = missing_report.sum()\n",
    "    print(\"Missing Values Report:\")\n",
    "    print(missing_report)\n",
    "    print(f\"Total missing values: {total_missing}\\n\")\n",
    "    if total_missing > 0:\n",
    "        print(\"Warning: Dataset contains missing values!\\n\")\n",
    "    else:\n",
    "        print(\"No missing values detected.\\n\")\n",
    "\n",
    "detect_missing_values(df)\n",
    "\n",
    "# ------------------ Task 2: Validate Data Types ------------------\n",
    "\n",
    "# Simulate JSON data as a Python list of dicts (like extracted from JSON)\n",
    "data_json = [\n",
    "    {\"id\": 1, \"name\": \"Alice\", \"age\": 25, \"email\": \"alice@example.com\"},\n",
    "    {\"id\": 2, \"name\": \"Bob\", \"age\": \"30\", \"email\": \"bob@example.com\"},  # age as string (invalid)\n",
    "    {\"id\": 3, \"name\": \"Charlie\", \"age\": 22, \"email\": \"charlie@example.com\"},\n",
    "    {\"id\": 4, \"name\": \"David\", \"age\": 40, \"email\": None}               # email as None (acceptable as string type)\n",
    "]\n",
    "\n",
    "# Expected schema: field -> type\n",
    "expected_schema = {\n",
    "    \"id\": int,\n",
    "    \"name\": str,\n",
    "    \"age\": int,\n",
    "    \"email\": (str, type(None))  # email can be string or None (nullable)\n",
    "}\n",
    "\n",
    "def validate_data_types(data, schema):\n",
    "    print(\"Data Type Validation Report:\")\n",
    "    errors = []\n",
    "    for i, record in enumerate(data):\n",
    "        for field, expected_type in schema.items():\n",
    "            value = record.get(field, None)\n",
    "            if not isinstance(value, expected_type):\n",
    "                errors.append((i, field, value, type(value).__name__))\n",
    "    if errors:\n",
    "        for err in errors:\n",
    "            print(f\"Row {err[0]} - Field '{err[1]}' has invalid type '{err[3]}', value: {err[2]}\")\n",
    "    else:\n",
    "        print(\"All records conform to the expected schema.\")\n",
    "    print()\n",
    "\n",
    "validate_data_types(data_json, expected_schema)\n",
    "\n",
    "# ------------------ Task 3: Remove Duplicate Records ------------------\n",
    "\n",
    "# Simulate dataset with duplicates\n",
    "data_duplicates = {\n",
    "    \"id\": [1, 2, 3, 2, 4, 5, 3],\n",
    "    \"name\": [\"Alice\", \"Bob\", \"Charlie\", \"Bob\", \"David\", \"Eva\", \"Charlie\"],\n",
    "    \"age\": [25, 30, 22, 30, 40, 35, 22],\n",
    "    \"email\": [\n",
    "        \"alice@example.com\", \"bob@example.com\", \"charlie@example.com\",\n",
    "        \"bob@example.com\", \"david@example.com\", \"eva@example.com\", \"charlie@example.com\"\n",
    "    ]\n",
    "}\n",
    "df_dup = pd.DataFrame(data_duplicates)\n",
    "\n",
    "def remove_duplicates(df):\n",
    "    print(\"Duplicate Records Detection:\")\n",
    "    duplicate_rows = df[df.duplicated(keep=False)]\n",
    "    if not duplicate_rows.empty:\n",
    "        print(duplicate_rows)\n",
    "        print(f\"Number of duplicate rows found: {duplicate_rows.shape[0]}\")\n",
    "        df_cleaned = df.drop_duplicates()\n",
    "        print(f\"Number of rows after removing duplicates: {df_cleaned.shape[0]}\\n\")\n",
    "    else:\n",
    "        print(\"No duplicates found.\\n\")\n",
    "        df_cleaned = df\n",
    "    return df_cleaned\n",
    "\n",
    "df_clean = remove_duplicates(df_dup)"
   ]
  },
  {
   "cell_type": "markdown",
   "metadata": {},
   "source": [
    "### Task 2: Validate Data Types during Extraction\n",
    "**Description**: You have a JSON file that should have specific data types for each field. Write a script to validate if the data types match the expected schema.\n",
    "\n",
    "**Steps**:\n",
    "1. Define expected schema\n",
    "2. Validate data types"
   ]
  },
  {
   "cell_type": "code",
   "execution_count": null,
   "metadata": {},
   "outputs": [],
   "source": [
    "# Write your code from here"
   ]
  },
  {
   "cell_type": "markdown",
   "metadata": {},
   "source": [
    "### Task 3: Remove Duplicate Records in Data\n",
    "**Description**: You have a dataset with duplicate entries. Write a Python script to find and remove duplicate records using Pandas.\n",
    "\n",
    "**Steps**:\n",
    "1. Find duplicate records\n",
    "2. Remove duplicates\n",
    "3. Report results"
   ]
  },
  {
   "cell_type": "code",
   "execution_count": null,
   "metadata": {},
   "outputs": [],
   "source": [
    "# Write your code from here"
   ]
  }
 ],
 "metadata": {
  "kernelspec": {
   "display_name": "Python 3",
   "language": "python",
   "name": "python3"
  },
  "language_info": {
   "codemirror_mode": {
    "name": "ipython",
    "version": 3
   },
   "file_extension": ".py",
   "mimetype": "text/x-python",
   "name": "python",
   "nbconvert_exporter": "python",
   "pygments_lexer": "ipython3",
   "version": "3.10.12"
  }
 },
 "nbformat": 4,
 "nbformat_minor": 2
}
