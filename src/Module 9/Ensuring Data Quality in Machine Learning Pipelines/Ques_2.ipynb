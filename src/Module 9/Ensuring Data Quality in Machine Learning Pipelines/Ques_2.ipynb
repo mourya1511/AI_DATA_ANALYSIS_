{
 "cells": [
  {
   "cell_type": "markdown",
   "metadata": {},
   "source": [
    "### Bias & Fairness in Data: Distribution Check\n",
    "**Description**: Load the Adult Income dataset and check for representation bias by analyzing the distribution of gender across different income levels."
   ]
  },
  {
   "cell_type": "code",
   "execution_count": 1,
   "metadata": {},
   "outputs": [
    {
     "name": "stdout",
     "output_type": "stream",
     "text": [
      "\n",
      "Gender distribution (%) across income levels:\n",
      "class   <=50K   >50K\n",
      "sex                 \n",
      "Female  38.82  15.14\n",
      "Male    61.18  84.86\n",
      "\n",
      "Running bias check test...\n",
      "\n",
      "Gender distribution (%) across income levels:\n",
      "class   <=50K   >50K\n",
      "sex                 \n",
      "Female  38.82  15.14\n",
      "Male    61.18  84.86\n",
      "Bias check test completed.\n",
      "\n"
     ]
    }
   ],
   "source": [
    "# write your code from here  \n",
    "\n",
    "import pandas as pd\n",
    "from sklearn.datasets import fetch_openml\n",
    "\n",
    "def load_adult_data():\n",
    "    try:\n",
    "        # Load dataset from OpenML\n",
    "        data = fetch_openml(name='adult', version=2, as_frame=True)\n",
    "        df = data.frame\n",
    "        if df.empty:\n",
    "            raise ValueError(\"Loaded dataset is empty.\")\n",
    "        return df\n",
    "    except Exception as e:\n",
    "        print(f\"Error loading Adult dataset: {e}\")\n",
    "        return None\n",
    "\n",
    "def clean_data(df):\n",
    "    if df is None:\n",
    "        print(\"No data to clean.\")\n",
    "        return None\n",
    "\n",
    "    # In Adult dataset, missing values are marked as '?'\n",
    "    df = df.replace('?', pd.NA)\n",
    "\n",
    "    # Drop rows where 'sex' or 'income' is missing (critical columns)\n",
    "    df = df.dropna(subset=['sex', 'class'])\n",
    "\n",
    "    return df\n",
    "\n",
    "def analyze_gender_income_distribution(df):\n",
    "    if df is None or df.empty:\n",
    "        print(\"No data for analysis.\")\n",
    "        return\n",
    "\n",
    "    # Count representation of gender across income categories\n",
    "    distribution = pd.crosstab(df['sex'], df['class'], normalize='columns') * 100\n",
    "\n",
    "    print(\"\\nGender distribution (%) across income levels:\")\n",
    "    print(distribution.round(2))\n",
    "\n",
    "def test_adult_income_bias_analysis():\n",
    "    print(\"\\nRunning bias check test...\")\n",
    "    df = load_adult_data()\n",
    "    df = clean_data(df)\n",
    "    if df is None:\n",
    "        print(\"Test aborted due to data loading/cleaning failure.\")\n",
    "        return\n",
    "\n",
    "    analyze_gender_income_distribution(df)\n",
    "\n",
    "    # Basic sanity checks\n",
    "    assert 'sex' in df.columns, \"'sex' column missing\"\n",
    "    assert 'class' in df.columns, \"'class' column missing\"\n",
    "    assert not df['sex'].isnull().any(), \"'sex' column contains nulls after cleaning\"\n",
    "    assert not df['class'].isnull().any(), \"'class' column contains nulls after cleaning\"\n",
    "    print(\"Bias check test completed.\\n\")\n",
    "\n",
    "if __name__ == \"__main__\":\n",
    "    df = load_adult_data()\n",
    "    df = clean_data(df)\n",
    "    analyze_gender_income_distribution(df)\n",
    "    test_adult_income_bias_analysis()"
   ]
  }
 ],
 "metadata": {
  "kernelspec": {
   "display_name": "Python 3",
   "language": "python",
   "name": "python3"
  },
  "language_info": {
   "codemirror_mode": {
    "name": "ipython",
    "version": 3
   },
   "file_extension": ".py",
   "mimetype": "text/x-python",
   "name": "python",
   "nbconvert_exporter": "python",
   "pygments_lexer": "ipython3",
   "version": "3.10.12"
  }
 },
 "nbformat": 4,
 "nbformat_minor": 2
}
