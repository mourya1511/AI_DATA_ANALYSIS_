{
 "cells": [
  {
   "cell_type": "markdown",
   "metadata": {},
   "source": [
    "### Data Drift: Detection Using Statistical Tests\n",
    "**Question**: Simulate two datasets with a shift in distribution, and apply the Kolmogorov-\n",
    "Smirnov test to determine if data drift has occurred."
   ]
  },
  {
   "cell_type": "code",
   "execution_count": 1,
   "metadata": {},
   "outputs": [
    {
     "name": "stdout",
     "output_type": "stream",
     "text": [
      "Testing data with NO drift:\n",
      "KS Statistic: 0.0370, p-value: 0.5006\n",
      "Drift detected? No\n",
      "\n",
      "Testing data WITH drift:\n",
      "KS Statistic: 0.2120, p-value: 0.0000\n",
      "Drift detected? Yes\n"
     ]
    }
   ],
   "source": [
    "# write your code from here\n",
    "\n",
    "import numpy as np\n",
    "from scipy.stats import ks_2samp\n",
    "\n",
    "def simulate_data(n_samples=1000, drift=False, seed=42):\n",
    "    \"\"\"\n",
    "    Simulates data samples.\n",
    "    If drift=True, generate data from a different distribution to simulate drift.\n",
    "    \"\"\"\n",
    "    np.random.seed(seed)\n",
    "    if not drift:\n",
    "        # Original distribution: Normal(0,1)\n",
    "        data = np.random.normal(loc=0, scale=1, size=n_samples)\n",
    "    else:\n",
    "        # Drifted distribution: Normal(0.5, 1.5) shifted mean and higher variance\n",
    "        data = np.random.normal(loc=0.5, scale=1.5, size=n_samples)\n",
    "    return data\n",
    "\n",
    "def detect_data_drift(data_ref, data_new, alpha=0.05):\n",
    "    \"\"\"\n",
    "    Uses Kolmogorov-Smirnov test to detect if data_new distribution differs significantly from data_ref.\n",
    "    \n",
    "    Parameters:\n",
    "    - data_ref: Reference data (e.g., training set)\n",
    "    - data_new: New data to test (e.g., production)\n",
    "    - alpha: Significance level for rejecting null hypothesis\n",
    "    \n",
    "    Returns:\n",
    "    - ks_statistic: KS test statistic\n",
    "    - p_value: p-value from KS test\n",
    "    - drift_detected: True if drift detected, else False\n",
    "    \"\"\"\n",
    "    if len(data_ref) == 0 or len(data_new) == 0:\n",
    "        raise ValueError(\"Input datasets must be non-empty arrays.\")\n",
    "    \n",
    "    ks_statistic, p_value = ks_2samp(data_ref, data_new)\n",
    "    drift_detected = p_value < alpha\n",
    "    \n",
    "    return ks_statistic, p_value, drift_detected\n",
    "\n",
    "def main():\n",
    "    # Simulate original (reference) and drifted data\n",
    "    original_data = simulate_data(n_samples=1000, drift=False)\n",
    "    new_data_no_drift = simulate_data(n_samples=1000, drift=False, seed=100)\n",
    "    new_data_drift = simulate_data(n_samples=1000, drift=True, seed=100)\n",
    "\n",
    "    print(\"Testing data with NO drift:\")\n",
    "    ks_stat, p_val, drift = detect_data_drift(original_data, new_data_no_drift)\n",
    "    print(f\"KS Statistic: {ks_stat:.4f}, p-value: {p_val:.4f}\")\n",
    "    print(f\"Drift detected? {'Yes' if drift else 'No'}\\n\")\n",
    "\n",
    "    print(\"Testing data WITH drift:\")\n",
    "    ks_stat, p_val, drift = detect_data_drift(original_data, new_data_drift)\n",
    "    print(f\"KS Statistic: {ks_stat:.4f}, p-value: {p_val:.4f}\")\n",
    "    print(f\"Drift detected? {'Yes' if drift else 'No'}\")\n",
    "\n",
    "if __name__ == \"__main__\":\n",
    "    main()"
   ]
  }
 ],
 "metadata": {
  "kernelspec": {
   "display_name": "Python 3",
   "language": "python",
   "name": "python3"
  },
  "language_info": {
   "codemirror_mode": {
    "name": "ipython",
    "version": 3
   },
   "file_extension": ".py",
   "mimetype": "text/x-python",
   "name": "python",
   "nbconvert_exporter": "python",
   "pygments_lexer": "ipython3",
   "version": "3.10.12"
  }
 },
 "nbformat": 4,
 "nbformat_minor": 2
}
