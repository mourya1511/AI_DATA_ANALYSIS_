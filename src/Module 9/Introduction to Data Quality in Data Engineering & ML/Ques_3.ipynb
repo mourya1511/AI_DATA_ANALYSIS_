{
 "cells": [
  {
   "cell_type": "markdown",
   "metadata": {},
   "source": [
    "### Detect Bias in Data\n",
    "**Description**: Use statistical tests to detect bias in data, which can affect AI model fairness."
   ]
  },
  {
   "cell_type": "code",
   "execution_count": 1,
   "metadata": {},
   "outputs": [
    {
     "name": "stdout",
     "output_type": "stream",
     "text": [
      "T-test between M and F: p-value = 0.0000\n",
      "Statistically significant difference detected → Possible bias.\n"
     ]
    },
    {
     "data": {
      "text/plain": [
       "np.float64(4.992482360733886e-05)"
      ]
     },
     "execution_count": 1,
     "metadata": {},
     "output_type": "execute_result"
    }
   ],
   "source": [
    "# Write your code from here\n",
    "\n",
    "import pandas as pd\n",
    "from scipy.stats import ttest_ind, f_oneway\n",
    "\n",
    "def check_nulls(df, columns):\n",
    "    \"\"\"Raise error if any of the specified columns have too many nulls (>50%).\"\"\"\n",
    "    for col in columns:\n",
    "        null_ratio = df[col].isnull().mean()\n",
    "        if null_ratio > 0.5:\n",
    "            raise ValueError(f\"Too many missing values in '{col}' ({null_ratio:.2%}) to perform bias detection.\")\n",
    "\n",
    "def detect_bias_two_groups(df, group_col, target_col, group1, group2, alpha=0.05):\n",
    "    \"\"\"\n",
    "    Detect bias between two groups using an independent t-test.\n",
    "    \n",
    "    Parameters:\n",
    "    - df: DataFrame containing data\n",
    "    - group_col: column with categorical groups (e.g., 'Gender')\n",
    "    - target_col: numeric target variable (e.g., 'Salary')\n",
    "    - group1, group2: two groups to compare\n",
    "    - alpha: significance level\n",
    "    \n",
    "    Returns:\n",
    "    - p-value and interpretation on bias presence.\n",
    "    \"\"\"\n",
    "    check_nulls(df, [group_col, target_col])\n",
    "    \n",
    "    data1 = df[df[group_col] == group1][target_col].dropna()\n",
    "    data2 = df[df[group_col] == group2][target_col].dropna()\n",
    "\n",
    "    if len(data1) < 2 or len(data2) < 2:\n",
    "        raise ValueError(\"Not enough data points for one or both groups to perform t-test.\")\n",
    "    \n",
    "    stat, p_value = ttest_ind(data1, data2, equal_var=False)  # Welch's t-test\n",
    "    print(f\"T-test between {group1} and {group2}: p-value = {p_value:.4f}\")\n",
    "    \n",
    "    if p_value < alpha:\n",
    "        print(\"Statistically significant difference detected → Possible bias.\")\n",
    "    else:\n",
    "        print(\"No statistically significant difference detected → No evidence of bias.\")\n",
    "\n",
    "    return p_value\n",
    "\n",
    "def detect_bias_multiple_groups(df, group_col, target_col, alpha=0.05):\n",
    "    \"\"\"\n",
    "    Detect bias among multiple groups using one-way ANOVA.\n",
    "    \n",
    "    Parameters:\n",
    "    - df: DataFrame containing data\n",
    "    - group_col: categorical group column\n",
    "    - target_col: numeric target variable\n",
    "    \n",
    "    Returns:\n",
    "    - p-value and interpretation on bias presence.\n",
    "    \"\"\"\n",
    "    check_nulls(df, [group_col, target_col])\n",
    "    \n",
    "    groups = df[group_col].dropna().unique()\n",
    "    group_data = [df[df[group_col] == g][target_col].dropna() for g in groups]\n",
    "\n",
    "    if any(len(gd) < 2 for gd in group_data):\n",
    "        raise ValueError(\"Not enough data points in one or more groups to perform ANOVA.\")\n",
    "    \n",
    "    stat, p_value = f_oneway(*group_data)\n",
    "    print(f\"ANOVA test across groups {groups}: p-value = {p_value:.4f}\")\n",
    "    \n",
    "    if p_value < alpha:\n",
    "        print(\"Statistically significant differences detected among groups → Possible bias.\")\n",
    "    else:\n",
    "        print(\"No statistically significant differences detected → No evidence of bias.\")\n",
    "\n",
    "    return p_value\n",
    "\n",
    "# Sample data\n",
    "data = {\n",
    "    'Gender': ['M', 'F', 'F', 'M', 'F', 'M', 'F', 'M', 'M', 'F'],\n",
    "    'Salary': [70000, 65000, 62000, 72000, 63000, 71000, 61000, 69000, 70000, 64000]\n",
    "}\n",
    "\n",
    "df = pd.DataFrame(data)\n",
    "\n",
    "# Detect bias between two groups\n",
    "detect_bias_two_groups(df, group_col='Gender', target_col='Salary', group1='M', group2='F')\n",
    "\n",
    "# If you have more groups, use ANOVA like this:\n",
    "# detect_bias_multiple_groups(df, group_col='Gender', target_col='Salary')"
   ]
  }
 ],
 "metadata": {
  "kernelspec": {
   "display_name": "Python 3",
   "language": "python",
   "name": "python3"
  },
  "language_info": {
   "codemirror_mode": {
    "name": "ipython",
    "version": 3
   },
   "file_extension": ".py",
   "mimetype": "text/x-python",
   "name": "python",
   "nbconvert_exporter": "python",
   "pygments_lexer": "ipython3",
   "version": "3.10.12"
  }
 },
 "nbformat": 4,
 "nbformat_minor": 2
}
