{
 "cells": [
  {
   "cell_type": "markdown",
   "metadata": {},
   "source": [
    "### Implement Data Quality with ISO 8000 Framework\n",
    "**Description**: Understand the key elements of ISO 8000 and how to apply them to ensure data quality.\n",
    "\n",
    "**Conceptual**:\n",
    "1. Data Governance: Set up policies and procedures to ensure high data quality.\n",
    "2. Data Profiling: Use profiling tools to understand and monitor data quality.\n",
    "3. Data Standards: Establish data standards that align with ISO 8000, ensuring consistency.\n",
    "\n",
    "**NOTE**: Assuming data is profiled using pandas_profiling"
   ]
  },
  {
   "cell_type": "code",
   "execution_count": 1,
   "metadata": {},
   "outputs": [
    {
     "ename": "ModuleNotFoundError",
     "evalue": "No module named 'pandas_profiling'",
     "output_type": "error",
     "traceback": [
      "\u001b[0;31m---------------------------------------------------------------------------\u001b[0m",
      "\u001b[0;31mModuleNotFoundError\u001b[0m                       Traceback (most recent call last)",
      "Cell \u001b[0;32mIn[1], line 4\u001b[0m\n\u001b[1;32m      1\u001b[0m \u001b[38;5;66;03m# Write your code from here\u001b[39;00m\n\u001b[1;32m      3\u001b[0m \u001b[38;5;28;01mimport\u001b[39;00m\u001b[38;5;250m \u001b[39m\u001b[38;5;21;01mpandas\u001b[39;00m\u001b[38;5;250m \u001b[39m\u001b[38;5;28;01mas\u001b[39;00m\u001b[38;5;250m \u001b[39m\u001b[38;5;21;01mpd\u001b[39;00m\n\u001b[0;32m----> 4\u001b[0m \u001b[38;5;28;01mfrom\u001b[39;00m\u001b[38;5;250m \u001b[39m\u001b[38;5;21;01mpandas_profiling\u001b[39;00m\u001b[38;5;250m \u001b[39m\u001b[38;5;28;01mimport\u001b[39;00m ProfileReport\n\u001b[1;32m      6\u001b[0m \u001b[38;5;66;03m# Sample data simulating customer info\u001b[39;00m\n\u001b[1;32m      7\u001b[0m data \u001b[38;5;241m=\u001b[39m {\n\u001b[1;32m      8\u001b[0m     \u001b[38;5;124m\"\u001b[39m\u001b[38;5;124mCustomerID\u001b[39m\u001b[38;5;124m\"\u001b[39m: [\u001b[38;5;241m1\u001b[39m, \u001b[38;5;241m2\u001b[39m, \u001b[38;5;241m3\u001b[39m, \u001b[38;5;241m4\u001b[39m, \u001b[38;5;28;01mNone\u001b[39;00m, \u001b[38;5;241m6\u001b[39m],\n\u001b[1;32m      9\u001b[0m     \u001b[38;5;124m\"\u001b[39m\u001b[38;5;124mName\u001b[39m\u001b[38;5;124m\"\u001b[39m: [\u001b[38;5;124m\"\u001b[39m\u001b[38;5;124mAlice\u001b[39m\u001b[38;5;124m\"\u001b[39m, \u001b[38;5;124m\"\u001b[39m\u001b[38;5;124mBob\u001b[39m\u001b[38;5;124m\"\u001b[39m, \u001b[38;5;124m\"\u001b[39m\u001b[38;5;124mCharlie\u001b[39m\u001b[38;5;124m\"\u001b[39m, \u001b[38;5;124m\"\u001b[39m\u001b[38;5;124mDavid\u001b[39m\u001b[38;5;124m\"\u001b[39m, \u001b[38;5;124m\"\u001b[39m\u001b[38;5;124mEve\u001b[39m\u001b[38;5;124m\"\u001b[39m, \u001b[38;5;124m\"\u001b[39m\u001b[38;5;124mFrank\u001b[39m\u001b[38;5;124m\"\u001b[39m],\n\u001b[1;32m     10\u001b[0m     \u001b[38;5;124m\"\u001b[39m\u001b[38;5;124mEmail\u001b[39m\u001b[38;5;124m\"\u001b[39m: [\u001b[38;5;124m\"\u001b[39m\u001b[38;5;124malice@example.com\u001b[39m\u001b[38;5;124m\"\u001b[39m, \u001b[38;5;124m\"\u001b[39m\u001b[38;5;124mbob@example.com\u001b[39m\u001b[38;5;124m\"\u001b[39m, \u001b[38;5;28;01mNone\u001b[39;00m, \u001b[38;5;124m\"\u001b[39m\u001b[38;5;124mdavid@\u001b[39m\u001b[38;5;124m\"\u001b[39m, \u001b[38;5;124m\"\u001b[39m\u001b[38;5;124meve@example.com\u001b[39m\u001b[38;5;124m\"\u001b[39m, \u001b[38;5;124m\"\u001b[39m\u001b[38;5;124mfrank@example.com\u001b[39m\u001b[38;5;124m\"\u001b[39m],\n\u001b[1;32m     11\u001b[0m     \u001b[38;5;124m\"\u001b[39m\u001b[38;5;124mAge\u001b[39m\u001b[38;5;124m\"\u001b[39m: [\u001b[38;5;241m25\u001b[39m, \u001b[38;5;241m30\u001b[39m, \u001b[38;5;241m22\u001b[39m, \u001b[38;5;241m35\u001b[39m, \u001b[38;5;28;01mNone\u001b[39;00m, \u001b[38;5;241m28\u001b[39m]\n\u001b[1;32m     12\u001b[0m }\n",
      "\u001b[0;31mModuleNotFoundError\u001b[0m: No module named 'pandas_profiling'"
     ]
    }
   ],
   "source": [
    "# Write your code from here\n",
    "\n",
    "import pandas as pd\n",
    "from pandas_profiling import ProfileReport\n",
    "\n",
    "# Sample data simulating customer info\n",
    "data = {\n",
    "    \"CustomerID\": [1, 2, 3, 4, None, 6],\n",
    "    \"Name\": [\"Alice\", \"Bob\", \"Charlie\", \"David\", \"Eve\", \"Frank\"],\n",
    "    \"Email\": [\"alice@example.com\", \"bob@example.com\", None, \"david@\", \"eve@example.com\", \"frank@example.com\"],\n",
    "    \"Age\": [25, 30, 22, 35, None, 28]\n",
    "}\n",
    "df = pd.DataFrame(data)\n",
    "\n",
    "# ----------- Data Governance -----------\n",
    "def enforce_governance(df, required_columns):\n",
    "    \"\"\"\n",
    "    Check that all required columns exist and contain no nulls.\n",
    "    \"\"\"\n",
    "    missing_cols = [col for col in required_columns if col not in df.columns]\n",
    "    if missing_cols:\n",
    "        raise ValueError(f\"Missing required columns: {missing_cols}\")\n",
    "    for col in required_columns:\n",
    "        if df[col].isnull().any():\n",
    "            print(f\"Warning: Column '{col}' contains null values.\")\n",
    "    print(\"Governance checks passed or warnings issued.\")\n",
    "\n",
    "required_columns = [\"CustomerID\", \"Name\", \"Email\", \"Age\"]\n",
    "enforce_governance(df, required_columns)\n",
    "\n",
    "# ----------- Data Profiling -----------\n",
    "print(\"Generating data profiling report...\")\n",
    "profile = ProfileReport(df, title=\"Data Quality Profiling Report\", explorative=True)\n",
    "profile.to_file(\"data_quality_report.html\")\n",
    "print(\"Profiling report saved as 'data_quality_report.html'\")\n",
    "\n",
    "# ----------- Data Standards -----------\n",
    "def check_data_standards(df):\n",
    "    \"\"\"\n",
    "    Check basic data standards aligned with ISO 8000:\n",
    "    - CustomerID: Unique and non-null\n",
    "    - Email: Valid email format (basic check for '@')\n",
    "    - Age: Must be positive integers\n",
    "    \"\"\"\n",
    "    # CustomerID unique and not null\n",
    "    if df[\"CustomerID\"].isnull().any():\n",
    "        print(\"Standard violation: CustomerID contains nulls.\")\n",
    "    if df[\"CustomerID\"].duplicated().any():\n",
    "        print(\"Standard violation: CustomerID contains duplicates.\")\n",
    "    \n",
    "    # Email validity\n",
    "    invalid_emails = df[~df[\"Email\"].str.contains(\"@\", na=False)]\n",
    "    if not invalid_emails.empty:\n",
    "        print(f\"Standard violation: Invalid emails found:\\n{invalid_emails[['CustomerID', 'Email']]}\")\n",
    "    \n",
    "    # Age validity\n",
    "    invalid_age = df[(df[\"Age\"].notnull()) & (df[\"Age\"] <= 0)]\n",
    "    if not invalid_age.empty:\n",
    "        print(f\"Standard violation: Invalid ages found:\\n{invalid_age[['CustomerID', 'Age']]}\")\n",
    "    \n",
    "    print(\"Data standards validation completed.\")\n",
    "\n",
    "check_data_standards(df)"
   ]
  }
 ],
 "metadata": {
  "kernelspec": {
   "display_name": "Python 3",
   "language": "python",
   "name": "python3"
  },
  "language_info": {
   "codemirror_mode": {
    "name": "ipython",
    "version": 3
   },
   "file_extension": ".py",
   "mimetype": "text/x-python",
   "name": "python",
   "nbconvert_exporter": "python",
   "pygments_lexer": "ipython3",
   "version": "3.10.12"
  }
 },
 "nbformat": 4,
 "nbformat_minor": 2
}
