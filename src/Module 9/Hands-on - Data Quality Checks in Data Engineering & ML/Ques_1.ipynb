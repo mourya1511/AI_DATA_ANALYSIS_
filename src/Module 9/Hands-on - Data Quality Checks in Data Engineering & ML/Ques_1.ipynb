{
 "cells": [
  {
   "cell_type": "markdown",
   "metadata": {},
   "source": [
    "### Detect Data Drift using Kolmogorov-Smirnov Test\n",
    "**Description**: Use statistical tests to detect data drift between two datasets."
   ]
  },
  {
   "cell_type": "code",
   "execution_count": 1,
   "metadata": {},
   "outputs": [
    {
     "name": "stdout",
     "output_type": "stream",
     "text": [
      "=== Testing with NO drift ===\n",
      "KS Statistic: 0.0450\n",
      "p-value: 0.2635\n",
      "Drift detected? No\n",
      "\n",
      "=== Testing WITH drift ===\n",
      "KS Statistic: 0.2360\n",
      "p-value: 0.0000\n",
      "Drift detected? Yes\n"
     ]
    }
   ],
   "source": [
    "# write your code from here\n",
    "\n",
    "import numpy as np\n",
    "from scipy.stats import ks_2samp\n",
    "\n",
    "def validate_input(data):\n",
    "    \"\"\"\n",
    "    Validates the input data.\n",
    "    Raises:\n",
    "        ValueError if input is not a 1D numpy array or is empty.\n",
    "    \"\"\"\n",
    "    if not isinstance(data, np.ndarray):\n",
    "        raise TypeError(\"Input data must be a numpy array.\")\n",
    "    if data.ndim != 1:\n",
    "        raise ValueError(\"Input data must be one-dimensional.\")\n",
    "    if data.size == 0:\n",
    "        raise ValueError(\"Input data must not be empty.\")\n",
    "\n",
    "def detect_data_drift_ks(data_ref, data_new, alpha=0.05):\n",
    "    \"\"\"\n",
    "    Detects data drift between two datasets using Kolmogorov-Smirnov test.\n",
    "\n",
    "    Parameters:\n",
    "    - data_ref (np.ndarray): Reference dataset (e.g., training data)\n",
    "    - data_new (np.ndarray): New dataset to compare (e.g., production data)\n",
    "    - alpha (float): Significance level (default 0.05)\n",
    "\n",
    "    Returns:\n",
    "    - ks_statistic (float): KS test statistic\n",
    "    - p_value (float): p-value from KS test\n",
    "    - drift_detected (bool): True if drift is detected, False otherwise\n",
    "    \"\"\"\n",
    "    # Validate inputs\n",
    "    validate_input(data_ref)\n",
    "    validate_input(data_new)\n",
    "\n",
    "    # Run KS test\n",
    "    ks_statistic, p_value = ks_2samp(data_ref, data_new)\n",
    "\n",
    "    # Drift is detected if p-value is less than significance level alpha\n",
    "    drift_detected = p_value < alpha\n",
    "\n",
    "    return ks_statistic, p_value, drift_detected\n",
    "\n",
    "\n",
    "def main():\n",
    "    # Simulate reference data (normal distribution)\n",
    "    np.random.seed(42)\n",
    "    data_ref = np.random.normal(loc=0, scale=1, size=1000)\n",
    "\n",
    "    # Simulate new data without drift\n",
    "    data_new_no_drift = np.random.normal(loc=0, scale=1, size=1000)\n",
    "\n",
    "    # Simulate new data with drift (shifted mean and larger variance)\n",
    "    data_new_drift = np.random.normal(loc=0.5, scale=1.5, size=1000)\n",
    "\n",
    "    print(\"=== Testing with NO drift ===\")\n",
    "    ks_stat, p_val, drift = detect_data_drift_ks(data_ref, data_new_no_drift)\n",
    "    print(f\"KS Statistic: {ks_stat:.4f}\")\n",
    "    print(f\"p-value: {p_val:.4f}\")\n",
    "    print(f\"Drift detected? {'Yes' if drift else 'No'}\\n\")\n",
    "\n",
    "    print(\"=== Testing WITH drift ===\")\n",
    "    ks_stat, p_val, drift = detect_data_drift_ks(data_ref, data_new_drift)\n",
    "    print(f\"KS Statistic: {ks_stat:.4f}\")\n",
    "    print(f\"p-value: {p_val:.4f}\")\n",
    "    print(f\"Drift detected? {'Yes' if drift else 'No'}\")\n",
    "\n",
    "if __name__ == \"__main__\":\n",
    "    main()"
   ]
  }
 ],
 "metadata": {
  "kernelspec": {
   "display_name": "Python 3",
   "language": "python",
   "name": "python3"
  },
  "language_info": {
   "codemirror_mode": {
    "name": "ipython",
    "version": 3
   },
   "file_extension": ".py",
   "mimetype": "text/x-python",
   "name": "python",
   "nbconvert_exporter": "python",
   "pygments_lexer": "ipython3",
   "version": "3.10.12"
  }
 },
 "nbformat": 4,
 "nbformat_minor": 2
}
