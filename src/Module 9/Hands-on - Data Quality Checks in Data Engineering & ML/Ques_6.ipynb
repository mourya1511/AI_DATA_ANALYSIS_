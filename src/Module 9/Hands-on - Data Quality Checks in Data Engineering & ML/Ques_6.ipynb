{
 "cells": [
  {
   "cell_type": "markdown",
   "metadata": {},
   "source": [
    "### Detect Data Drift in ML Models\n",
    "**Objective**: Monitor and detect changes in data distributions that impact ML model performance.\n",
    "\n",
    "**Task**: Categorical Feature Drift\n",
    "\n",
    "**Steps**:\n",
    "1. Load the baseline distribution for a categorical feature (e.g., gender ) from your training dataset.\n",
    "2. Load the same feature from your current production data.\n",
    "3. Use chi-squared tests to compare the distributions of the categorical feature.\n",
    "4. Step 4: If significant drift is detected, investigate the cause and update the model as needed."
   ]
  },
  {
   "cell_type": "code",
   "execution_count": null,
   "metadata": {},
   "outputs": [],
   "source": [
    "# write your code from here\n",
    "\n"
   ]
  }
 ],
 "metadata": {
  "kernelspec": {
   "display_name": "base",
   "language": "python",
   "name": "python3"
  },
  "language_info": {
   "name": "python",
   "version": "3.12.7"
  }
 },
 "nbformat": 4,
 "nbformat_minor": 2
}
