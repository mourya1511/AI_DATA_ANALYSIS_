{
 "cells": [
  {
   "cell_type": "markdown",
   "metadata": {},
   "source": [
    "### Detect Data Drift in ML Models\n",
    "**Objective**: Monitor and detect changes in data distributions that impact ML model performance.\n",
    "\n",
    "**Task**: Categorical Feature Drift\n",
    "\n",
    "**Steps**:\n",
    "1. Load the baseline distribution for a categorical feature (e.g., gender ) from your training dataset.\n",
    "2. Load the same feature from your current production data.\n",
    "3. Use chi-squared tests to compare the distributions of the categorical feature.\n",
    "4. Step 4: If significant drift is detected, investigate the cause and update the model as needed."
   ]
  },
  {
   "cell_type": "code",
   "execution_count": 2,
   "metadata": {},
   "outputs": [
    {
     "name": "stdout",
     "output_type": "stream",
     "text": [
      "Chi-squared test statistic: 0.0000, p-value: 1.0000\n",
      "No significant drift detected for feature 'gender' (p >= 0.05).\n",
      "Drift detected: False\n"
     ]
    }
   ],
   "source": [
    "# write your code from here\n",
    "\n",
    "import pandas as pd\n",
    "from scipy.stats import chi2_contingency\n",
    "\n",
    "def get_feature_distribution(df: pd.DataFrame, feature: str) -> pd.Series:\n",
    "    \"\"\"\n",
    "    Returns the value counts (distribution) of a categorical feature.\n",
    "    \"\"\"\n",
    "    if feature not in df.columns:\n",
    "        raise ValueError(f\"Feature '{feature}' not found in DataFrame.\")\n",
    "    return df[feature].value_counts(normalize=False).sort_index()\n",
    "\n",
    "def align_distributions(dist1: pd.Series, dist2: pd.Series) -> pd.DataFrame:\n",
    "    \"\"\"\n",
    "    Aligns two distributions on their categories, filling missing categories with zero counts.\n",
    "    Returns a DataFrame with two columns representing counts for dist1 and dist2.\n",
    "    \"\"\"\n",
    "    all_categories = dist1.index.union(dist2.index)\n",
    "    dist1_aligned = dist1.reindex(all_categories, fill_value=0)\n",
    "    dist2_aligned = dist2.reindex(all_categories, fill_value=0)\n",
    "    return pd.DataFrame({'baseline': dist1_aligned, 'production': dist2_aligned})\n",
    "\n",
    "def detect_categorical_drift(baseline_df: pd.DataFrame, production_df: pd.DataFrame,\n",
    "                             feature: str, alpha: float = 0.05) -> bool:\n",
    "    \"\"\"\n",
    "    Performs chi-squared test on the categorical feature distributions to detect drift.\n",
    "    Returns True if drift detected (p-value < alpha), False otherwise.\n",
    "    \"\"\"\n",
    "    baseline_dist = get_feature_distribution(baseline_df, feature)\n",
    "    production_dist = get_feature_distribution(production_df, feature)\n",
    "\n",
    "    contingency_table = align_distributions(baseline_dist, production_dist)\n",
    "\n",
    "    chi2, p_value, _, _ = chi2_contingency(contingency_table.T)\n",
    "\n",
    "    print(f\"Chi-squared test statistic: {chi2:.4f}, p-value: {p_value:.4f}\")\n",
    "\n",
    "    if p_value < alpha:\n",
    "        print(f\"Significant drift detected for feature '{feature}' (p < {alpha}).\")\n",
    "        return True\n",
    "    else:\n",
    "        print(f\"No significant drift detected for feature '{feature}' (p >= {alpha}).\")\n",
    "        return False\n",
    "\n",
    "# Example usage\n",
    "def main():\n",
    "    # Baseline (training) data example\n",
    "    baseline_data = {\n",
    "        'gender': ['Male', 'Female', 'Female', 'Male', 'Female', 'Male', 'Male', 'Female']\n",
    "    }\n",
    "    baseline_df = pd.DataFrame(baseline_data)\n",
    "\n",
    "    # Production data example (slightly changed distribution)\n",
    "    production_data = {\n",
    "        'gender': ['Male', 'Male', 'Male', 'Female', 'Male', 'Male', 'Female', 'Female']\n",
    "    }\n",
    "    production_df = pd.DataFrame(production_data)\n",
    "\n",
    "    drift = detect_categorical_drift(baseline_df, production_df, 'gender')\n",
    "    print(\"Drift detected:\", drift)\n",
    "\n",
    "if __name__ == \"__main__\":\n",
    "    main()"
   ]
  }
 ],
 "metadata": {
  "kernelspec": {
   "display_name": "Python 3",
   "language": "python",
   "name": "python3"
  },
  "language_info": {
   "codemirror_mode": {
    "name": "ipython",
    "version": 3
   },
   "file_extension": ".py",
   "mimetype": "text/x-python",
   "name": "python",
   "nbconvert_exporter": "python",
   "pygments_lexer": "ipython3",
   "version": "3.10.12"
  }
 },
 "nbformat": 4,
 "nbformat_minor": 2
}
