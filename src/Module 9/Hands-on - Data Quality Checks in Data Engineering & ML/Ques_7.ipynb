{
 "cells": [
  {
   "cell_type": "markdown",
   "metadata": {},
   "source": [
    "### Detect Data Drift in ML Models\n",
    "**Objective**: Monitor and detect changes in data distributions that impact ML model performance.\n",
    "\n",
    "**Task**: Feature Correlation Drift\n",
    "\n",
    "**Steps**:\n",
    "1. Compute the correlation matrix of features in your training dataset.\n",
    "2. Compute the correlation matrix of the same features in your production data.\n",
    "3. Assess changes in the correlation matrix over time to identify any significant deviations.\n",
    "4. Investigate any significant changes in correlation as they may indicate issues in the data collection process or model assumptions."
   ]
  },
  {
   "cell_type": "code",
   "execution_count": null,
   "metadata": {},
   "outputs": [],
   "source": [
    "# write your code from here\n",
    "\n",
    "\n"
   ]
  }
 ],
 "metadata": {
  "kernelspec": {
   "display_name": "base",
   "language": "python",
   "name": "python3"
  },
  "language_info": {
   "name": "python",
   "version": "3.12.7"
  }
 },
 "nbformat": 4,
 "nbformat_minor": 2
}
