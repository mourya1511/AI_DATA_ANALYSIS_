{
 "cells": [
  {
   "cell_type": "markdown",
   "metadata": {},
   "source": [
    "## Detect Schema Mismatches in Data Pipelines\n",
    "**Objective**: Identify and resolve schema mismatches that commonly occur in data pipelines.\n",
    "\n",
    "**Task**: Column Name Mismatch\n",
    "\n",
    "**Steps**:\n",
    "1. Load the source DataFrame with the below schema:\n",
    "    - id : Integer\n",
    "    - name : String\n",
    "    - age : Integer\n",
    "2. Load the target DataFrame with the below schema:\n",
    "    - id : Integer\n",
    "    - fullname : String\n",
    "    - age : Integer\n",
    "3. Use a schema comparison tool or write a simple function to detect mismatches in column names.\n",
    "4. Resolve the mismatch by renaming the `fullname` column in the target DataFrame to `name` ."
   ]
  },
  {
   "cell_type": "code",
   "execution_count": null,
   "metadata": {},
   "outputs": [],
   "source": [
    "# write your code from here\n",
    "\n"
   ]
  }
 ],
 "metadata": {
  "kernelspec": {
   "display_name": "base",
   "language": "python",
   "name": "python3"
  },
  "language_info": {
   "name": "python",
   "version": "3.12.7"
  }
 },
 "nbformat": 4,
 "nbformat_minor": 2
}
