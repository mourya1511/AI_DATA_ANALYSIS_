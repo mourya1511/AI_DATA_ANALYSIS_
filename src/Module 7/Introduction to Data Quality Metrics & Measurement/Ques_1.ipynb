{
 "cells": [
  {
   "cell_type": "markdown",
   "metadata": {},
   "source": [
    "## Data Quality Dashboard in Python\n",
    "\n",
    "**Description**: Create a basic dashboard using a Python library (e.g., Plotly Dash) to visualize data quality metrics for a given dataset."
   ]
  },
  {
   "cell_type": "code",
   "execution_count": 2,
   "metadata": {},
   "outputs": [
    {
     "ename": "ModuleNotFoundError",
     "evalue": "No module named 'dash_core_components'",
     "output_type": "error",
     "traceback": [
      "\u001b[0;31m---------------------------------------------------------------------------\u001b[0m",
      "\u001b[0;31mModuleNotFoundError\u001b[0m                       Traceback (most recent call last)",
      "Cell \u001b[0;32mIn[2], line 2\u001b[0m\n\u001b[1;32m      1\u001b[0m \u001b[38;5;66;03m# Write your code from hereimport dash\u001b[39;00m\n\u001b[0;32m----> 2\u001b[0m \u001b[38;5;28;01mimport\u001b[39;00m\u001b[38;5;250m \u001b[39m\u001b[38;5;21;01mdash_core_components\u001b[39;00m\u001b[38;5;250m \u001b[39m\u001b[38;5;28;01mas\u001b[39;00m\u001b[38;5;250m \u001b[39m\u001b[38;5;21;01mdcc\u001b[39;00m\n\u001b[1;32m      3\u001b[0m \u001b[38;5;28;01mimport\u001b[39;00m\u001b[38;5;250m \u001b[39m\u001b[38;5;21;01mdash_html_components\u001b[39;00m\u001b[38;5;250m \u001b[39m\u001b[38;5;28;01mas\u001b[39;00m\u001b[38;5;250m \u001b[39m\u001b[38;5;21;01mhtml\u001b[39;00m\n\u001b[1;32m      4\u001b[0m \u001b[38;5;28;01mimport\u001b[39;00m\u001b[38;5;250m \u001b[39m\u001b[38;5;21;01mplotly\u001b[39;00m\u001b[38;5;21;01m.\u001b[39;00m\u001b[38;5;21;01mexpress\u001b[39;00m\u001b[38;5;250m \u001b[39m\u001b[38;5;28;01mas\u001b[39;00m\u001b[38;5;250m \u001b[39m\u001b[38;5;21;01mpx\u001b[39;00m\n",
      "\u001b[0;31mModuleNotFoundError\u001b[0m: No module named 'dash_core_components'"
     ]
    }
   ],
   "source": [
    "# Write your code from hereimport dash\n",
    "import dash_core_components as dcc\n",
    "import dash_html_components as html\n",
    "import plotly.express as px\n",
    "import pandas as pd\n",
    "import numpy as np\n",
    "from dash.dependencies import Input, Output\n",
    "\n",
    "# Sample dataset\n",
    "df = pd.DataFrame({\n",
    "    'A': [1, 2, 2, 4, np.nan],\n",
    "    'B': ['X', 'Y', 'Y', 'X', 'Z'],\n",
    "    'C': [np.nan, 20, 30, 40, 50]\n",
    "})\n",
    "\n",
    "# Initialize the Dash app\n",
    "app = dash.Dash(__name__)\n",
    "\n",
    "# Function to calculate data quality metrics\n",
    "def calculate_data_quality(df):\n",
    "    # Percentage of missing values\n",
    "    missing_percentage = df.isnull().mean() * 100\n",
    "    \n",
    "    # Percentage of duplicates\n",
    "    duplicate_percentage = df.duplicated().mean() * 100\n",
    "    \n",
    "    # Unique values count\n",
    "    unique_values = df.nunique()\n",
    "    \n",
    "    return missing_percentage, duplicate_percentage, unique_values\n",
    "\n",
    "# Calculate metrics for the dataset\n",
    "missing_percentage, duplicate_percentage, unique_values = calculate_data_quality(df)\n",
    "\n",
    "# App layout\n",
    "app.layout = html.Div(children=[\n",
    "    html.H1(\"Data Quality Dashboard\"),\n",
    "    \n",
    "    html.Div([\n",
    "        html.Div([\n",
    "            html.H3(\"Missing Values Percentage\"),\n",
    "            dcc.Graph(\n",
    "                id='missing_values',\n",
    "                figure=px.bar(\n",
    "                    missing_percentage,\n",
    "                    title=\"Missing Values Percentage\",\n",
    "                    labels={'value': 'Percentage (%)', 'index': 'Columns'}\n",
    "                )\n",
    "            ),\n",
    "        ], style={'width': '48%', 'display': 'inline-block'}),\n",
    "        \n",
    "        html.Div([\n",
    "            html.H3(\"Duplicates Percentage\"),\n",
    "            dcc.Graph(\n",
    "                id='duplicates_percentage',\n",
    "                figure=px.pie(\n",
    "                    names=['Duplicates', 'Non-Duplicates'],\n",
    "                    values=[duplicate_percentage, 100 - duplicate_percentage],\n",
    "                    title=\"Duplicates Percentage\"\n",
    "                )\n",
    "            ),\n",
    "        ], style={'width': '48%', 'display': 'inline-block'}),\n",
    "    ], style={'display': 'flex', 'justify-content': 'space-between'}),\n",
    "\n",
    "    html.Div([\n",
    "        html.H3(\"Unique Values per Column\"),\n",
    "        dcc.Graph(\n",
    "            id='unique_values',\n",
    "            figure=px.bar(\n",
    "                unique_values,\n",
    "                title=\"Unique Values per Column\",\n",
    "                labels={'value': 'Unique Values', 'index': 'Columns'}\n",
    "            )\n",
    "        ),\n",
    "    ], style={'padding-top': '50px'})\n",
    "])\n",
    "\n",
    "# Run the app\n",
    "if __name__ == '__main__':\n",
    "    app.run_server(debug=True)"
   ]
  }
 ],
 "metadata": {
  "kernelspec": {
   "display_name": "Python 3",
   "language": "python",
   "name": "python3"
  },
  "language_info": {
   "codemirror_mode": {
    "name": "ipython",
    "version": 3
   },
   "file_extension": ".py",
   "mimetype": "text/x-python",
   "name": "python",
   "nbconvert_exporter": "python",
   "pygments_lexer": "ipython3",
   "version": "3.10.12"
  }
 },
 "nbformat": 4,
 "nbformat_minor": 2
}
