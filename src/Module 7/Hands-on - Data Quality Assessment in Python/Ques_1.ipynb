{
 "cells": [
  {
   "cell_type": "markdown",
   "metadata": {},
   "source": [
    "**Task 1**: Checking Null Values for Completeness\n",
    "\n",
    "**Description**: Verify if there are any null values in a dataset, which indicate incomplete data."
   ]
  },
  {
   "cell_type": "markdown",
   "metadata": {},
   "source": [
    "Task 9: Custom Completeness Rule Violation Report\n",
    "\n",
    "Description: Create a report showing which rows violate specific completeness rules, such as mandatory fields being empty."
   ]
  },
  {
   "cell_type": "code",
   "execution_count": 1,
   "metadata": {},
   "outputs": [
    {
     "name": "stdout",
     "output_type": "stream",
     "text": [
      "=== Task 1: Null Values ===\n",
      "id       0\n",
      "name     1\n",
      "email    0\n",
      "age      1\n",
      "score    0\n",
      "dtype: int64\n",
      "\n",
      "=== Task 2: Data Type Validity ===\n",
      "id         int64\n",
      "name      object\n",
      "email     object\n",
      "age      float64\n",
      "score      int64\n",
      "dtype: object\n",
      "\n",
      "=== Task 3: Unique Identifiers ===\n",
      "ID Unique: False, Email Unique: True\n",
      "\n",
      "=== Task 4: Email Format Validity ===\n",
      "                 email  email_valid\n",
      "0    alice@example.com         True\n",
      "1   bob[at]example.com        False\n",
      "2  charlie@example.com         True\n",
      "3                             False\n",
      "4        david@example        False\n",
      "\n",
      "=== Task 5: Logical Age Validity ===\n",
      "      age  age_valid\n",
      "0   25.00       True\n",
      "1   -1.00      False\n",
      "2  200.00      False\n",
      "3   35.00       True\n",
      "4   64.75      False\n",
      "\n",
      "=== Task 6: Age After Imputation ===\n",
      "0     25.00\n",
      "1     -1.00\n",
      "2    200.00\n",
      "3     35.00\n",
      "4     64.75\n",
      "Name: age, dtype: float64\n",
      "\n",
      "=== Task 7: Duplicate Rows ===\n",
      "Empty DataFrame\n",
      "Columns: [id, name, email, age, score, email_valid, age_valid, score_valid, name_valid]\n",
      "Index: []\n",
      "\n",
      "=== Task 8: Score Validity ===\n",
      "   score  score_valid\n",
      "0     90         True\n",
      "1     85         True\n",
      "2   1000        False\n",
      "3     70         True\n",
      "4     75         True\n",
      "\n",
      "=== Task 9: Completeness Rule Violations ===\n",
      "   id  name                email    age  score  email_valid  age_valid  \\\n",
      "2   3  None  charlie@example.com  200.0   1000         True      False   \n",
      "\n",
      "   score_valid  \n",
      "2        False  \n",
      "\n",
      "=== Task 10: Name Validity with Advanced Regex ===\n",
      "    name  name_valid\n",
      "0  Alice        True\n",
      "1    Bob        True\n",
      "2   None       False\n",
      "3  David        True\n",
      "4  David        True\n"
     ]
    }
   ],
   "source": [
    "# Write your code from here\n",
    "import pandas as pd\n",
    "import numpy as np\n",
    "import re\n",
    "\n",
    "# Sample dataset\n",
    "data = {\n",
    "    'id': [1, 2, 3, 4, 4],\n",
    "    'name': ['Alice', 'Bob', None, 'David', 'David'],\n",
    "    'email': ['alice@example.com', 'bob[at]example.com', 'charlie@example.com', '', 'david@example'],\n",
    "    'age': [25, -1, 200, 35, np.nan],\n",
    "    'score': [90, 85, 1000, 70, 75]\n",
    "}\n",
    "\n",
    "df = pd.DataFrame(data)\n",
    "\n",
    "# Task 1: Checking Null Values for Completeness\n",
    "null_values = df.isnull().sum()\n",
    "\n",
    "# Task 2: Checking Data Type Validity\n",
    "data_type_validity = df.dtypes\n",
    "\n",
    "# Task 3: Verify Uniqueness of Identifiers\n",
    "id_unique = df['id'].is_unique\n",
    "email_unique = df['email'].nunique() == len(df)\n",
    "\n",
    "# Task 4: Validate Email Format Using Regex\n",
    "email_regex = r'^[\\w\\.-]+@[\\w\\.-]+\\.\\w+$'\n",
    "df['email_valid'] = df['email'].apply(lambda x: bool(re.match(email_regex, str(x))))\n",
    "\n",
    "# Task 5: Check for Logical Age Validity (0-120)\n",
    "df['age_valid'] = df['age'].apply(lambda x: 0 <= x <= 120 if pd.notnull(x) else False)\n",
    "\n",
    "# Task 6: Identify and Handle Missing Data (Impute with mean for 'age')\n",
    "df['age'] = df['age'].fillna(df['age'].mean())\n",
    "\n",
    "# Task 7: Detect Duplicates\n",
    "duplicates = df.duplicated()\n",
    "\n",
    "# Task 8: Validate Correctness of Numerical Values (score 0-100)\n",
    "df['score_valid'] = df['score'].between(0, 100)\n",
    "\n",
    "# Task 9: Custom Completeness Rule Violation Report (e.g., mandatory: name, email)\n",
    "mandatory_fields = ['name', 'email']\n",
    "violation_report = df[df[mandatory_fields].isnull().any(axis=1)]\n",
    "\n",
    "# Task 10: Advanced Regex for Data Validity Check (e.g., name: only alphabets)\n",
    "name_regex = r'^[A-Za-z]+$'\n",
    "df['name_valid'] = df['name'].apply(lambda x: bool(re.match(name_regex, str(x))) if pd.notnull(x) else False)\n",
    "\n",
    "# --- Output Section ---\n",
    "print(\"=== Task 1: Null Values ===\")\n",
    "print(null_values)\n",
    "\n",
    "print(\"\\n=== Task 2: Data Type Validity ===\")\n",
    "print(data_type_validity)\n",
    "\n",
    "print(\"\\n=== Task 3: Unique Identifiers ===\")\n",
    "print(f\"ID Unique: {id_unique}, Email Unique: {email_unique}\")\n",
    "\n",
    "print(\"\\n=== Task 4: Email Format Validity ===\")\n",
    "print(df[['email', 'email_valid']])\n",
    "\n",
    "print(\"\\n=== Task 5: Logical Age Validity ===\")\n",
    "print(df[['age', 'age_valid']])\n",
    "\n",
    "print(\"\\n=== Task 6: Age After Imputation ===\")\n",
    "print(df['age'])\n",
    "\n",
    "print(\"\\n=== Task 7: Duplicate Rows ===\")\n",
    "print(df[duplicates])\n",
    "\n",
    "print(\"\\n=== Task 8: Score Validity ===\")\n",
    "print(df[['score', 'score_valid']])\n",
    "\n",
    "print(\"\\n=== Task 9: Completeness Rule Violations ===\")\n",
    "print(violation_report)\n",
    "\n",
    "print(\"\\n=== Task 10: Name Validity with Advanced Regex ===\")\n",
    "print(df[['name', 'name_valid']])"
   ]
  },
  {
   "cell_type": "markdown",
   "metadata": {},
   "source": [
    "**Task 2**: Checking Data Type Validity\n",
    "\n",
    "**Description**: Ensure that columns contain data of expected types, e.g., ages are integers."
   ]
  },
  {
   "cell_type": "code",
   "execution_count": null,
   "metadata": {},
   "outputs": [],
   "source": [
    "# Write your code from here"
   ]
  },
  {
   "cell_type": "markdown",
   "metadata": {},
   "source": [
    "**Task 3**: Verify Uniqueness of Identifiers\n",
    "\n",
    "**Description**: Check if a dataset has unique identifiers (e.g., emails)."
   ]
  },
  {
   "cell_type": "code",
   "execution_count": null,
   "metadata": {},
   "outputs": [],
   "source": [
    "# Write your code from here"
   ]
  },
  {
   "cell_type": "markdown",
   "metadata": {},
   "source": [
    "Task 4: Validate Email Format Using Regex\n",
    "\n",
    "Description: Validate if email addresses in a dataset have the correct format."
   ]
  },
  {
   "cell_type": "code",
   "execution_count": null,
   "metadata": {},
   "outputs": [],
   "source": [
    "# Write your code from here"
   ]
  },
  {
   "cell_type": "markdown",
   "metadata": {},
   "source": [
    "Task 5: Check for Logical Age Validity\n",
    "\n",
    "Description: Ensure ages are within a reasonable human range (e.g., 0-120)."
   ]
  },
  {
   "cell_type": "code",
   "execution_count": null,
   "metadata": {},
   "outputs": [],
   "source": [
    "# Write your code from here"
   ]
  },
  {
   "cell_type": "markdown",
   "metadata": {},
   "source": [
    "Task 6: Identify and Handle Missing Data\n",
    "\n",
    "Description: Identify missing values in a dataset and impute them using a simple strategy (e.g., mean)."
   ]
  },
  {
   "cell_type": "code",
   "execution_count": null,
   "metadata": {},
   "outputs": [],
   "source": [
    "# Write your code from here"
   ]
  },
  {
   "cell_type": "markdown",
   "metadata": {},
   "source": [
    "Task 7: Detect Duplicates\n",
    "\n",
    "Description: Detect duplicate rows in the dataset."
   ]
  },
  {
   "cell_type": "code",
   "execution_count": null,
   "metadata": {},
   "outputs": [],
   "source": [
    "# Write your code from here"
   ]
  },
  {
   "cell_type": "markdown",
   "metadata": {},
   "source": [
    "Task 8: Validate Correctness of Numerical Values\n",
    "\n",
    "Description: Ensure numerical columns are within a specified range."
   ]
  },
  {
   "cell_type": "code",
   "execution_count": null,
   "metadata": {},
   "outputs": [],
   "source": [
    "# Write your code from here"
   ]
  },
  {
   "cell_type": "code",
   "execution_count": null,
   "metadata": {},
   "outputs": [],
   "source": [
    "# Write your code from here"
   ]
  },
  {
   "cell_type": "markdown",
   "metadata": {},
   "source": [
    "Task 10: Advanced Regex for Data Validity Check\n",
    "\n",
    "Description: Check for validity with advanced regex patterns, such as validating complex fields with multi-level rules."
   ]
  },
  {
   "cell_type": "code",
   "execution_count": null,
   "metadata": {},
   "outputs": [],
   "source": [
    "# Write your code from here"
   ]
  }
 ],
 "metadata": {
  "kernelspec": {
   "display_name": "Python 3",
   "language": "python",
   "name": "python3"
  },
  "language_info": {
   "codemirror_mode": {
    "name": "ipython",
    "version": 3
   },
   "file_extension": ".py",
   "mimetype": "text/x-python",
   "name": "python",
   "nbconvert_exporter": "python",
   "pygments_lexer": "ipython3",
   "version": "3.10.12"
  }
 },
 "nbformat": 4,
 "nbformat_minor": 2
}
