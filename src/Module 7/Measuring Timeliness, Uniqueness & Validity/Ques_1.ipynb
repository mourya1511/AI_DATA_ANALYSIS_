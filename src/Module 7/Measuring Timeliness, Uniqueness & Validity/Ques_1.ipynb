{
 "cells": [
  {
   "cell_type": "markdown",
   "metadata": {},
   "source": [
    "## Format Compliance for Email\n",
    "\n",
    "**Description**: Check if emails in a list are valid based on a basic regex pattern."
   ]
  },
  {
   "cell_type": "code",
   "execution_count": 1,
   "metadata": {},
   "outputs": [
    {
     "name": "stdout",
     "output_type": "stream",
     "text": [
      "Format Validation Results:\n",
      "                  email         phone        date  valid_email  valid_phone  \\\n",
      "0      user@example.com  123-456-7890  2023-05-17         True         True   \n",
      "1        invalid-email@    9876543210  17-05-2023        False        False   \n",
      "2  john.doe@company.org  456-789-1234  2024-12-01         True         True   \n",
      "\n",
      "   valid_date  \n",
      "0        True  \n",
      "1       False  \n",
      "2        True  \n"
     ]
    }
   ],
   "source": [
    "# Write your code from here\n",
    "import pandas as pd\n",
    "import re\n",
    "from datetime import datetime\n",
    "\n",
    "# Sample data\n",
    "data = pd.DataFrame({\n",
    "    'email': ['user@example.com', 'invalid-email@', 'john.doe@company.org'],\n",
    "    'phone': ['123-456-7890', '9876543210', '456-789-1234'],\n",
    "    'date': ['2023-05-17', '17-05-2023', '2024-12-01']\n",
    "})\n",
    "\n",
    "# === Format Patterns ===\n",
    "email_pattern = r'^[\\w\\.-]+@[\\w\\.-]+\\.\\w+$'\n",
    "phone_pattern = r'^\\d{3}-\\d{3}-\\d{4}$'\n",
    "date_format = '%Y-%m-%d'\n",
    "\n",
    "# === Format Validation Functions ===\n",
    "def is_valid_email(email):\n",
    "    return bool(re.match(email_pattern, str(email)))\n",
    "\n",
    "def is_valid_phone(phone):\n",
    "    return bool(re.match(phone_pattern, str(phone)))\n",
    "\n",
    "def is_valid_date(date_str):\n",
    "    try:\n",
    "        datetime.strptime(date_str, date_format)\n",
    "        return True\n",
    "    except:\n",
    "        return False\n",
    "\n",
    "# === Apply Validation ===\n",
    "data['valid_email'] = data['email'].apply(is_valid_email)\n",
    "data['valid_phone'] = data['phone'].apply(is_valid_phone)\n",
    "data['valid_date'] = data['date'].apply(is_valid_date)\n",
    "\n",
    "# === Output Results ===\n",
    "print(\"Format Validation Results:\")\n",
    "print(data)\n"
   ]
  },
  {
   "cell_type": "markdown",
   "metadata": {},
   "source": [
    "## Format Compliance for Phone Numbers\n",
    "\n",
    "**Description**: Verify if the phone numbers follow a specific pattern."
   ]
  },
  {
   "cell_type": "code",
   "execution_count": null,
   "metadata": {},
   "outputs": [],
   "source": [
    "# Write your code from here"
   ]
  },
  {
   "cell_type": "markdown",
   "metadata": {},
   "source": [
    "## Checking Date Validity Format\n",
    "\n",
    "**Description**: Ensure the dates in a list adhere to a specific format (e.g., YYYY-MM-DD)."
   ]
  },
  {
   "cell_type": "code",
   "execution_count": null,
   "metadata": {},
   "outputs": [],
   "source": [
    "# Write your code from here"
   ]
  }
 ],
 "metadata": {
  "kernelspec": {
   "display_name": "Python 3",
   "language": "python",
   "name": "python3"
  },
  "language_info": {
   "codemirror_mode": {
    "name": "ipython",
    "version": 3
   },
   "file_extension": ".py",
   "mimetype": "text/x-python",
   "name": "python",
   "nbconvert_exporter": "python",
   "pygments_lexer": "ipython3",
   "version": "3.10.12"
  }
 },
 "nbformat": 4,
 "nbformat_minor": 2
}
