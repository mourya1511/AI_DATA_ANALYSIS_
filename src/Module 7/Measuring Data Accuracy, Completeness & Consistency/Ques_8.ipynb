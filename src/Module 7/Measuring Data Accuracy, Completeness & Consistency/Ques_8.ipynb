{
 "cells": [
  {
   "cell_type": "markdown",
   "metadata": {},
   "source": [
    "# Measuring Data Accuracy\n",
    "\n",
    "**Activity Overview**: Assess data accuracy by comparing it to a trusted source and detecting incorrect values or mismatches.\n",
    "\n",
    "## Title: Product Pricing\n",
    "\n",
    "**Task**: Compare a dataset of product prices with the latest official price list.\n",
    "\n",
    "**Steps**:\n",
    "1. Obtain the latest product price list from the official company website.\n",
    "2. Compare the dataset's product prices against the verified list.\n",
    "3. Identify any discrepancies and mark them for correction."
   ]
  },
  {
   "cell_type": "code",
   "execution_count": 1,
   "metadata": {},
   "outputs": [
    {
     "name": "stdout",
     "output_type": "stream",
     "text": [
      "Full Comparison Table:\n",
      "   product_id product_name  price  official_price discrepancy\n",
      "0         101     Widget A  19.99           19.99          No\n",
      "1         102     Widget B  24.99           24.99          No\n",
      "2         103     Widget C  14.99           14.99          No\n",
      "3         104     Widget D  34.99           39.99         Yes\n",
      "\n",
      "Discrepancies Found:\n",
      "   product_id product_name  price  official_price\n",
      "3         104     Widget D  34.99           39.99\n"
     ]
    }
   ],
   "source": [
    "# Write your code from here\n",
    "import pandas as pd\n",
    "\n",
    "# Simulated dataset: your internal product data\n",
    "product_data = pd.DataFrame({\n",
    "    'product_id': [101, 102, 103, 104],\n",
    "    'product_name': ['Widget A', 'Widget B', 'Widget C', 'Widget D'],\n",
    "    'price': [19.99, 24.99, 14.99, 34.99]  # Suppose price of Widget D is wrong\n",
    "})\n",
    "\n",
    "# Simulated trusted official price list\n",
    "official_price_list = pd.DataFrame({\n",
    "    'product_id': [101, 102, 103, 104],\n",
    "    'official_price': [19.99, 24.99, 14.99, 39.99]  # Correct price for Widget D\n",
    "})\n",
    "\n",
    "# Merge both datasets on product_id\n",
    "merged = pd.merge(product_data, official_price_list, on='product_id', how='inner')\n",
    "\n",
    "# Create a flag column to indicate discrepancies\n",
    "merged['price_match'] = merged['price'] == merged['official_price']\n",
    "merged['discrepancy'] = merged['price_match'].apply(lambda x: 'No' if x else 'Yes')\n",
    "\n",
    "# Filter rows with mismatched prices\n",
    "discrepancies = merged[merged['discrepancy'] == 'Yes']\n",
    "\n",
    "# Output the full comparison table and any mismatches\n",
    "print(\"Full Comparison Table:\")\n",
    "print(merged[['product_id', 'product_name', 'price', 'official_price', 'discrepancy']])\n",
    "\n",
    "print(\"\\nDiscrepancies Found:\")\n",
    "print(discrepancies[['product_id', 'product_name', 'price', 'official_price']])"
   ]
  }
 ],
 "metadata": {
  "kernelspec": {
   "display_name": "Python 3",
   "language": "python",
   "name": "python3"
  },
  "language_info": {
   "codemirror_mode": {
    "name": "ipython",
    "version": 3
   },
   "file_extension": ".py",
   "mimetype": "text/x-python",
   "name": "python",
   "nbconvert_exporter": "python",
   "pygments_lexer": "ipython3",
   "version": "3.10.12"
  }
 },
 "nbformat": 4,
 "nbformat_minor": 2
}
