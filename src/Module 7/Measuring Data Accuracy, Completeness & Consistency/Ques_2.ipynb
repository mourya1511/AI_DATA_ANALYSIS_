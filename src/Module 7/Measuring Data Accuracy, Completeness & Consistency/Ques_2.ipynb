{
 "cells": [
  {
   "cell_type": "markdown",
   "metadata": {},
   "source": [
    "## Find Conflicting Values Across Datasets\n",
    "\n",
    "**Description**: You have two datasets: `crm_customers.csv` and `erp_customers.csv` . Find customers with conflicting \"email\" information."
   ]
  },
  {
   "cell_type": "code",
   "execution_count": 2,
   "metadata": {},
   "outputs": [
    {
     "name": "stdout",
     "output_type": "stream",
     "text": [
      "🔍 Customers with Conflicting Email Addresses:\n",
      "   customer_id name_crm        email_crm          email_erp\n",
      "1            2      Bob  bob@example.com  bobby@example.com\n"
     ]
    }
   ],
   "source": [
    "# Write your code from here\n",
    "import pandas as pd\n",
    "\n",
    "# Step 1: Simulate CRM data\n",
    "crm_data = {\n",
    "    'customer_id': [1, 2, 3, 4],\n",
    "    'name': ['Alice', 'Bob', 'Charlie', 'David'],\n",
    "    'email': ['alice@example.com', 'bob@example.com', 'charlie@example.com', 'david@example.com']\n",
    "}\n",
    "crm_df = pd.DataFrame(crm_data)\n",
    "\n",
    "# Step 2: Simulate ERP data with one conflicting email\n",
    "erp_data = {\n",
    "    'customer_id': [1, 2, 3, 4],\n",
    "    'name': ['Alice', 'Bob', 'Charlie', 'David'],\n",
    "    'email': ['alice@example.com', 'bobby@example.com', 'charlie@example.com', 'david@example.com']\n",
    "}\n",
    "erp_df = pd.DataFrame(erp_data)\n",
    "\n",
    "# Step 3: Merge the two datasets on customer_id\n",
    "merged_df = pd.merge(crm_df, erp_df, on='customer_id', suffixes=('_crm', '_erp'))\n",
    "\n",
    "# Step 4: Find conflicting email addresses\n",
    "conflicting_emails = merged_df[merged_df['email_crm'] != merged_df['email_erp']]\n",
    "\n",
    "# Step 5: Display result\n",
    "print(\"🔍 Customers with Conflicting Email Addresses:\")\n",
    "print(conflicting_emails[['customer_id', 'name_crm', 'email_crm', 'email_erp']])"
   ]
  }
 ],
 "metadata": {
  "kernelspec": {
   "display_name": "Python 3",
   "language": "python",
   "name": "python3"
  },
  "language_info": {
   "codemirror_mode": {
    "name": "ipython",
    "version": 3
   },
   "file_extension": ".py",
   "mimetype": "text/x-python",
   "name": "python",
   "nbconvert_exporter": "python",
   "pygments_lexer": "ipython3",
   "version": "3.10.12"
  }
 },
 "nbformat": 4,
 "nbformat_minor": 2
}
