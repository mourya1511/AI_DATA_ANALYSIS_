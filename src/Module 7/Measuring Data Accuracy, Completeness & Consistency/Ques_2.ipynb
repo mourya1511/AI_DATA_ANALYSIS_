{
 "cells": [
  {
   "cell_type": "markdown",
   "metadata": {},
   "source": [
    "## Find Conflicting Values Across Datasets\n",
    "\n",
    "**Description**: You have two datasets: `crm_customers.csv` and `erp_customers.csv` . Find customers with conflicting \"email\" information."
   ]
  },
  {
   "cell_type": "code",
   "execution_count": 5,
   "metadata": {},
   "outputs": [
    {
     "name": "stdout",
     "output_type": "stream",
     "text": [
      "🔍 Conflicting Email Records:\n",
      "  customer_id        email_crm          email_erp\n",
      "1           2  bob@example.com  bobby@example.com\n"
     ]
    }
   ],
   "source": [
    "import pandas as pd\n",
    "\n",
    "def find_conflicting_emails_from_dataframes(crm_df, erp_df):\n",
    "    try:\n",
    "        # Step 1: Validation\n",
    "        required_columns = {'customer_id', 'email'}\n",
    "        if not required_columns.issubset(crm_df.columns):\n",
    "            raise ValueError(\"Missing required columns in CRM dataset\")\n",
    "        if not required_columns.issubset(erp_df.columns):\n",
    "            raise ValueError(\"Missing required columns in ERP dataset\")\n",
    "\n",
    "        if crm_df.empty or erp_df.empty:\n",
    "            raise ValueError(\"One or both datasets are empty\")\n",
    "\n",
    "        # Step 2: Ensure customer_id is a string\n",
    "        crm_df['customer_id'] = crm_df['customer_id'].astype(str)\n",
    "        erp_df['customer_id'] = erp_df['customer_id'].astype(str)\n",
    "\n",
    "        # Step 3: Merge\n",
    "        merged_df = pd.merge(crm_df, erp_df, on='customer_id', suffixes=('_crm', '_erp'))\n",
    "\n",
    "        # Step 4: Normalize and compare emails\n",
    "        merged_df['email_crm'] = merged_df['email_crm'].fillna('').str.strip().str.lower()\n",
    "        merged_df['email_erp'] = merged_df['email_erp'].fillna('').str.strip().str.lower()\n",
    "\n",
    "        conflicts = merged_df[merged_df['email_crm'] != merged_df['email_erp']]\n",
    "\n",
    "        if conflicts.empty:\n",
    "            print(\"✅ No conflicting emails found.\")\n",
    "        else:\n",
    "            print(\"🔍 Conflicting Email Records:\")\n",
    "            print(conflicts[['customer_id', 'email_crm', 'email_erp']])\n",
    "\n",
    "    except ValueError as ve:\n",
    "        print(f\"⚠️ Validation error: {ve}\")\n",
    "    except Exception as e:\n",
    "        print(f\"🚨 Unexpected error: {str(e)}\")\n",
    "\n",
    "\n",
    "# ✅ Simulated CRM and ERP datasets\n",
    "crm_data = {\n",
    "    'customer_id': [1, 2, 3, 4],\n",
    "    'email': ['alice@example.com', 'bob@example.com', 'charlie@example.com', 'david@example.com']\n",
    "}\n",
    "erp_data = {\n",
    "    'customer_id': [1, 2, 3, 4],\n",
    "    'email': ['alice@example.com', 'bobby@example.com', 'charlie@example.com', 'david@example.com']\n",
    "}\n",
    "\n",
    "crm_df = pd.DataFrame(crm_data)\n",
    "erp_df = pd.DataFrame(erp_data)\n",
    "\n",
    "# Run the function with simulated data\n",
    "find_conflicting_emails_from_dataframes(crm_df, erp_df)"
   ]
  }
 ],
 "metadata": {
  "kernelspec": {
   "display_name": "Python 3",
   "language": "python",
   "name": "python3"
  },
  "language_info": {
   "codemirror_mode": {
    "name": "ipython",
    "version": 3
   },
   "file_extension": ".py",
   "mimetype": "text/x-python",
   "name": "python",
   "nbconvert_exporter": "python",
   "pygments_lexer": "ipython3",
   "version": "3.10.12"
  }
 },
 "nbformat": 4,
 "nbformat_minor": 2
}
