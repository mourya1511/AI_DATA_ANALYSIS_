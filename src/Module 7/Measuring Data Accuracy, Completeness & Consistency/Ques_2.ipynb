{
 "cells": [
  {
   "cell_type": "markdown",
   "metadata": {},
   "source": [
    "## Find Conflicting Values Across Datasets\n",
    "\n",
    "**Description**: You have two datasets: `crm_customers.csv` and `erp_customers.csv` . Find customers with conflicting \"email\" information."
   ]
  },
  {
   "cell_type": "code",
   "execution_count": 3,
   "metadata": {},
   "outputs": [
    {
     "name": "stdout",
     "output_type": "stream",
     "text": [
      "❌ File not found: crm_customers.csv\n"
     ]
    }
   ],
   "source": [
    "import pandas as pd\n",
    "\n",
    "def find_conflicting_emails(crm_path, erp_path):\n",
    "    try:\n",
    "        # Step 1: Read the CSV files\n",
    "        crm_df = pd.read_csv(crm_path)\n",
    "        erp_df = pd.read_csv(erp_path)\n",
    "\n",
    "        # Step 2: Basic validation checks\n",
    "        required_columns = {'customer_id', 'email'}\n",
    "        if not required_columns.issubset(crm_df.columns):\n",
    "            raise ValueError(\"Missing required columns in CRM dataset\")\n",
    "        if not required_columns.issubset(erp_df.columns):\n",
    "            raise ValueError(\"Missing required columns in ERP dataset\")\n",
    "\n",
    "        # Step 3: Check for empty dataframes\n",
    "        if crm_df.empty or erp_df.empty:\n",
    "            raise ValueError(\"One or both datasets are empty\")\n",
    "\n",
    "        # Step 4: Ensure customer_id is same dtype in both\n",
    "        crm_df['customer_id'] = crm_df['customer_id'].astype(str)\n",
    "        erp_df['customer_id'] = erp_df['customer_id'].astype(str)\n",
    "\n",
    "        # Step 5: Merge datasets on customer_id\n",
    "        merged_df = pd.merge(crm_df, erp_df, on='customer_id', suffixes=('_crm', '_erp'))\n",
    "\n",
    "        # Step 6: Identify conflicts in emails\n",
    "        merged_df['email_crm'] = merged_df['email_crm'].fillna('').str.strip().str.lower()\n",
    "        merged_df['email_erp'] = merged_df['email_erp'].fillna('').str.strip().str.lower()\n",
    "        conflicts = merged_df[merged_df['email_crm'] != merged_df['email_erp']]\n",
    "\n",
    "        if conflicts.empty:\n",
    "            print(\"✅ No conflicting emails found.\")\n",
    "        else:\n",
    "            print(\"🔍 Conflicting Email Records:\")\n",
    "            print(conflicts[['customer_id', 'email_crm', 'email_erp']])\n",
    "\n",
    "    except FileNotFoundError as e:\n",
    "        print(f\"❌ File not found: {e.filename}\")\n",
    "    except ValueError as ve:\n",
    "        print(f\"⚠️ Validation error: {ve}\")\n",
    "    except Exception as e:\n",
    "        print(f\"🚨 Unexpected error: {str(e)}\")\n",
    "\n",
    "# Example usage with file paths (replace with your actual file paths)\n",
    "find_conflicting_emails('crm_customers.csv', 'erp_customers.csv')"
   ]
  },
  {
   "cell_type": "code",
   "execution_count": 2,
   "metadata": {},
   "outputs": [
    {
     "name": "stdout",
     "output_type": "stream",
     "text": [
      "🔍 Customers with Conflicting Email Addresses:\n",
      "   customer_id name_crm        email_crm          email_erp\n",
      "1            2      Bob  bob@example.com  bobby@example.com\n"
     ]
    }
   ],
   "source": [
    "# Write your code from here\n",
    "import pandas as pd\n",
    "\n",
    "# Step 1: Simulate CRM data\n",
    "crm_data = {\n",
    "    'customer_id': [1, 2, 3, 4],\n",
    "    'name': ['Alice', 'Bob', 'Charlie', 'David'],\n",
    "    'email': ['alice@example.com', 'bob@example.com', 'charlie@example.com', 'david@example.com']\n",
    "}\n",
    "crm_df = pd.DataFrame(crm_data)\n",
    "\n",
    "# Step 2: Simulate ERP data with one conflicting email\n",
    "erp_data = {\n",
    "    'customer_id': [1, 2, 3, 4],\n",
    "    'name': ['Alice', 'Bob', 'Charlie', 'David'],\n",
    "    'email': ['alice@example.com', 'bobby@example.com', 'charlie@example.com', 'david@example.com']\n",
    "}\n",
    "erp_df = pd.DataFrame(erp_data)\n",
    "\n",
    "# Step 3: Merge the two datasets on customer_id\n",
    "merged_df = pd.merge(crm_df, erp_df, on='customer_id', suffixes=('_crm', '_erp'))\n",
    "\n",
    "# Step 4: Find conflicting email addresses\n",
    "conflicting_emails = merged_df[merged_df['email_crm'] != merged_df['email_erp']]\n",
    "\n",
    "# Step 5: Display result\n",
    "print(\"🔍 Customers with Conflicting Email Addresses:\")\n",
    "print(conflicting_emails[['customer_id', 'name_crm', 'email_crm', 'email_erp']])"
   ]
  }
 ],
 "metadata": {
  "kernelspec": {
   "display_name": "Python 3",
   "language": "python",
   "name": "python3"
  },
  "language_info": {
   "codemirror_mode": {
    "name": "ipython",
    "version": 3
   },
   "file_extension": ".py",
   "mimetype": "text/x-python",
   "name": "python",
   "nbconvert_exporter": "python",
   "pygments_lexer": "ipython3",
   "version": "3.10.12"
  }
 },
 "nbformat": 4,
 "nbformat_minor": 2
}
