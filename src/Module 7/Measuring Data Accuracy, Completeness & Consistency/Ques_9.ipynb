{
 "cells": [
  {
   "cell_type": "markdown",
   "metadata": {},
   "source": [
    "# Measuring Completeness\n",
    "\n",
    "**Activity Overview**: Evaluate data completeness by checking missing data rates and handling partially available records.\n",
    "\n",
    "## Title: Customer Profiles\n",
    "\n",
    "**Task**: Calculate the missing data rate for customer profiles.\n",
    "\n",
    "**Steps**:\n",
    "1. List all required fields for a complete customer profile (e.g., name, address, email,\n",
    "phone number).\n",
    "2. Analyze the dataset to count how many profiles have missing fields.\n",
    "3. Calculate the percentage of missing data fields across all profiles."
   ]
  },
  {
   "cell_type": "code",
   "execution_count": 1,
   "metadata": {},
   "outputs": [
    {
     "name": "stdout",
     "output_type": "stream",
     "text": [
      "Customer Profile Data:\n",
      "   customer_id         name          address              email  phone_number  \\\n",
      "0            1  Alice Smith     123 Apple St  alice@example.com  123-456-7890   \n",
      "1            2    Bob Jones             None               None  987-654-3210   \n",
      "2            3         None   789 Banana Ave  carol@example.com          None   \n",
      "3            4     Dana Lee  456 Orange Blvd   dana@example.com          None   \n",
      "\n",
      "   missing_fields_count  \n",
      "0                     0  \n",
      "1                     2  \n",
      "2                     2  \n",
      "3                     1  \n",
      "\n",
      "Total required fields: 16\n",
      "Total missing fields: 5\n",
      "Missing data rate: 31.25%\n",
      "\n",
      "Missing data count per field:\n",
      "name            1\n",
      "address         1\n",
      "email           1\n",
      "phone_number    2\n",
      "dtype: int64\n"
     ]
    }
   ],
   "source": [
    "# Write your code from here\n",
    "\n",
    "import pandas as pd\n",
    "\n",
    "# Step 1: Simulated dataset of customer profiles\n",
    "customers = pd.DataFrame({\n",
    "    'customer_id': [1, 2, 3, 4],\n",
    "    'name': ['Alice Smith', 'Bob Jones', None, 'Dana Lee'],\n",
    "    'address': ['123 Apple St', None, '789 Banana Ave', '456 Orange Blvd'],\n",
    "    'email': ['alice@example.com', None, 'carol@example.com', 'dana@example.com'],\n",
    "    'phone_number': ['123-456-7890', '987-654-3210', None, None]\n",
    "})\n",
    "\n",
    "# Step 2: Define required fields for completeness\n",
    "required_fields = ['name', 'address', 'email', 'phone_number']\n",
    "\n",
    "# Step 3: Count missing values per profile\n",
    "customers['missing_fields_count'] = customers[required_fields].isnull().sum(axis=1)\n",
    "\n",
    "# Step 4: Calculate completeness stats\n",
    "total_fields = len(customers) * len(required_fields)\n",
    "total_missing = customers[required_fields].isnull().sum().sum()\n",
    "missing_percentage = (total_missing / total_fields) * 100\n",
    "\n",
    "# Output results\n",
    "print(\"Customer Profile Data:\")\n",
    "print(customers)\n",
    "\n",
    "print(f\"\\nTotal required fields: {total_fields}\")\n",
    "print(f\"Total missing fields: {total_missing}\")\n",
    "print(f\"Missing data rate: {missing_percentage:.2f}%\")\n",
    "\n",
    "print(\"\\nMissing data count per field:\")\n",
    "print(customers[required_fields].isnull().sum())"
   ]
  }
 ],
 "metadata": {
  "kernelspec": {
   "display_name": "Python 3",
   "language": "python",
   "name": "python3"
  },
  "language_info": {
   "codemirror_mode": {
    "name": "ipython",
    "version": 3
   },
   "file_extension": ".py",
   "mimetype": "text/x-python",
   "name": "python",
   "nbconvert_exporter": "python",
   "pygments_lexer": "ipython3",
   "version": "3.10.12"
  }
 },
 "nbformat": 4,
 "nbformat_minor": 2
}
