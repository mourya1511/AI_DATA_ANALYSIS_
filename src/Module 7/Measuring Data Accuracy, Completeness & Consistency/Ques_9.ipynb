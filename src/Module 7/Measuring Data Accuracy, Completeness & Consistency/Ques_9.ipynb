{
 "cells": [
  {
   "cell_type": "markdown",
   "metadata": {},
   "source": [
    "# Measuring Completeness\n",
    "\n",
    "**Activity Overview**: Evaluate data completeness by checking missing data rates and handling partially available records.\n",
    "\n",
    "## Title: Customer Profiles\n",
    "\n",
    "**Task**: Calculate the missing data rate for customer profiles.\n",
    "\n",
    "**Steps**:\n",
    "1. List all required fields for a complete customer profile (e.g., name, address, email,\n",
    "phone number).\n",
    "2. Analyze the dataset to count how many profiles have missing fields.\n",
    "3. Calculate the percentage of missing data fields across all profiles."
   ]
  },
  {
   "cell_type": "code",
   "execution_count": 1,
   "metadata": {},
   "outputs": [
    {
     "name": "stdout",
     "output_type": "stream",
     "text": [
      "\n",
      "📊 Customer Profile Completeness Report\n",
      "- Total profiles: 4\n",
      "- Total required fields: 16\n",
      "- Total missing values: 5\n",
      "- Overall missing rate: 31.25%\n",
      "\n",
      "🔍 Missing fields per column:\n",
      "name            1\n",
      "address         1\n",
      "email           1\n",
      "phone_number    2\n",
      "dtype: int64\n"
     ]
    },
    {
     "data": {
      "text/plain": [
       "{'total_profiles': 4,\n",
       " 'total_fields': 16,\n",
       " 'total_missing': 5,\n",
       " 'missing_percentage': 31.25,\n",
       " 'missing_per_field': name            1\n",
       " address         1\n",
       " email           1\n",
       " phone_number    2\n",
       " dtype: int64}"
      ]
     },
     "execution_count": 1,
     "metadata": {},
     "output_type": "execute_result"
    }
   ],
   "source": [
    "import pandas as pd\n",
    "\n",
    "def calculate_missing_rate(df, required_fields):\n",
    "    try:\n",
    "        # Step 1: Check if all required fields exist in the dataset\n",
    "        missing_columns = [field for field in required_fields if field not in df.columns]\n",
    "        if missing_columns:\n",
    "            raise KeyError(f\"Missing required fields: {missing_columns}\")\n",
    "\n",
    "        # Step 2: (Optional) Warn if field data types look incorrect (e.g., numeric instead of string)\n",
    "        for field in required_fields:\n",
    "            if df[field].dtype not in ['object', 'string']:\n",
    "                print(f\"⚠️ Warning: Field '{field}' has unexpected data type: {df[field].dtype}\")\n",
    "\n",
    "        # Step 3: Calculate missing values\n",
    "        df['missing_fields_count'] = df[required_fields].isnull().sum(axis=1)\n",
    "        total_required_values = len(df) * len(required_fields)\n",
    "        total_missing_values = df[required_fields].isnull().sum().sum()\n",
    "        missing_rate = (total_missing_values / total_required_values) * 100\n",
    "\n",
    "        # Step 4: Summary per field\n",
    "        missing_per_field = df[required_fields].isnull().sum()\n",
    "\n",
    "        # Step 5: Output results\n",
    "        print(\"\\n📊 Customer Profile Completeness Report\")\n",
    "        print(f\"- Total profiles: {len(df)}\")\n",
    "        print(f\"- Total required fields: {total_required_values}\")\n",
    "        print(f\"- Total missing values: {total_missing_values}\")\n",
    "        print(f\"- Overall missing rate: {missing_rate:.2f}%\")\n",
    "\n",
    "        print(\"\\n🔍 Missing fields per column:\")\n",
    "        print(missing_per_field)\n",
    "\n",
    "        return {\n",
    "            \"total_profiles\": len(df),\n",
    "            \"total_fields\": total_required_values,\n",
    "            \"total_missing\": total_missing_values,\n",
    "            \"missing_percentage\": missing_rate,\n",
    "            \"missing_per_field\": missing_per_field\n",
    "        }\n",
    "\n",
    "    except KeyError as e:\n",
    "        print(f\"❌ KeyError: {e}\")\n",
    "    except TypeError as e:\n",
    "        print(f\"❌ TypeError: {e}\")\n",
    "    except Exception as e:\n",
    "        print(f\"❌ Unexpected error: {e}\")\n",
    "\n",
    "# === Example Usage with Simulated Data ===\n",
    "\n",
    "# Sample customer profile dataset\n",
    "customer_df = pd.DataFrame({\n",
    "    'customer_id': [1, 2, 3, 4],\n",
    "    'name': ['Alice', 'Bob', None, 'Dana'],\n",
    "    'address': ['123 Main St', None, '456 Oak Ave', '789 Pine Rd'],\n",
    "    'email': ['alice@example.com', None, 'carol@example.com', 'dana@example.com'],\n",
    "    'phone_number': ['111-222-3333', '222-333-4444', None, None]\n",
    "})\n",
    "\n",
    "# Define the required fields for completeness\n",
    "required_fields = ['name', 'address', 'email', 'phone_number']\n",
    "\n",
    "# Call the function\n",
    "calculate_missing_rate(customer_df, required_fields)"
   ]
  }
 ],
 "metadata": {
  "kernelspec": {
   "display_name": "Python 3",
   "language": "python",
   "name": "python3"
  },
  "language_info": {
   "codemirror_mode": {
    "name": "ipython",
    "version": 3
   },
   "file_extension": ".py",
   "mimetype": "text/x-python",
   "name": "python",
   "nbconvert_exporter": "python",
   "pygments_lexer": "ipython3",
   "version": "3.10.12"
  }
 },
 "nbformat": 4,
 "nbformat_minor": 2
}
