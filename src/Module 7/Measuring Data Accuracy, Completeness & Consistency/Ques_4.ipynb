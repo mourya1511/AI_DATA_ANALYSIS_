{
 "cells": [
  {
   "cell_type": "markdown",
   "metadata": {},
   "source": [
    "## Ensuring Consistency in Multi-source Data Integration\n",
    "\n",
    "**Description**: Validate the integration of two datasets `products_A.csv` and `products_B.csv` . Ensure consistency in product \"category\" information."
   ]
  },
  {
   "cell_type": "code",
   "execution_count": 1,
   "metadata": {},
   "outputs": [
    {
     "name": "stdout",
     "output_type": "stream",
     "text": [
      "⚠️ Inconsistencies found in category information:\n",
      "   product_id category_A category_B\n",
      "1         102   Clothing    Fashion\n"
     ]
    }
   ],
   "source": [
    "import pandas as pd\n",
    "\n",
    "def validate_category_consistency(products_A_df, products_B_df):\n",
    "    try:\n",
    "        # Step 1: Check if 'product_id' and 'category' columns exist in both datasets\n",
    "        if 'product_id' not in products_A_df.columns or 'category' not in products_A_df.columns:\n",
    "            raise ValueError(\"'product_id' or 'category' column missing in products_A\")\n",
    "        if 'product_id' not in products_B_df.columns or 'category' not in products_B_df.columns:\n",
    "            raise ValueError(\"'product_id' or 'category' column missing in products_B\")\n",
    "\n",
    "        # Step 2: Merge datasets on 'product_id'\n",
    "        merged_df = pd.merge(products_A_df[['product_id', 'category']], \n",
    "                             products_B_df[['product_id', 'category']], \n",
    "                             on='product_id', \n",
    "                             suffixes=('_A', '_B'), \n",
    "                             how='inner')\n",
    "\n",
    "        # Step 3: Find inconsistencies in 'category' between the two datasets\n",
    "        inconsistent_categories = merged_df[merged_df['category_A'] != merged_df['category_B']]\n",
    "\n",
    "        if inconsistent_categories.empty:\n",
    "            print(\"✅ No inconsistencies found in category information.\")\n",
    "        else:\n",
    "            print(\"⚠️ Inconsistencies found in category information:\")\n",
    "            print(inconsistent_categories[['product_id', 'category_A', 'category_B']])\n",
    "\n",
    "    except ValueError as ve:\n",
    "        print(f\"⚠️ Validation error: {ve}\")\n",
    "    except Exception as e:\n",
    "        print(f\"🚨 Unexpected error: {str(e)}\")\n",
    "\n",
    "\n",
    "# Step 4: Simulate the data for products_A and products_B\n",
    "products_A_data = {\n",
    "    'product_id': [101, 102, 103, 104],\n",
    "    'category': ['Electronics', 'Clothing', 'Home Appliances', 'Electronics']\n",
    "}\n",
    "\n",
    "products_B_data = {\n",
    "    'product_id': [101, 102, 103, 104],\n",
    "    'category': ['Electronics', 'Fashion', 'Home Appliances', 'Electronics']  # Note the inconsistency for product_id 102\n",
    "}\n",
    "\n",
    "# Step 5: Create DataFrames\n",
    "products_A_df = pd.DataFrame(products_A_data)\n",
    "products_B_df = pd.DataFrame(products_B_data)\n",
    "\n",
    "# Step 6: Call the function to check for inconsistencies\n",
    "validate_category_consistency(products_A_df, products_B_df)"
   ]
  }
 ],
 "metadata": {
  "kernelspec": {
   "display_name": "Python 3",
   "language": "python",
   "name": "python3"
  },
  "language_info": {
   "codemirror_mode": {
    "name": "ipython",
    "version": 3
   },
   "file_extension": ".py",
   "mimetype": "text/x-python",
   "name": "python",
   "nbconvert_exporter": "python",
   "pygments_lexer": "ipython3",
   "version": "3.10.12"
  }
 },
 "nbformat": 4,
 "nbformat_minor": 2
}
