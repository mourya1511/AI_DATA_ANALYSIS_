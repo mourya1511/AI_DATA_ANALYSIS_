{
 "cells": [
  {
   "cell_type": "markdown",
   "metadata": {},
   "source": [
    "### Task 1: Measure Data Accuracy using a Trusted Source\n",
    "\n",
    "**Description**: You have two datasets of product prices: `company_prices.csv` and\n",
    "`trusted_prices.csv` . Check if the prices in `company_prices.csv` match the prices in\n",
    "`trusted_prices.csv` . Assume both files have a \"product_id\" and \"price\" column."
   ]
  },
  {
   "cell_type": "code",
   "execution_count": 1,
   "metadata": {},
   "outputs": [
    {
     "name": "stdout",
     "output_type": "stream",
     "text": [
      "Merged DataFrame:\n",
      "   product_id  price_company  price_trusted  match\n",
      "0         101           9.99           9.99   True\n",
      "1         102          19.99          18.99  False\n",
      "2         103          29.99          29.99   True\n",
      "3         104          39.99          39.00  False\n",
      "4         105          49.99          49.99   True\n",
      "\n",
      "✅ Price Accuracy: 60.00%\n"
     ]
    }
   ],
   "source": [
    "# Write your code from here\n",
    "import pandas as pd\n",
    "\n",
    "# Step 1: Create sample data\n",
    "company_data = {\n",
    "    'product_id': [101, 102, 103, 104, 105],\n",
    "    'price': [9.99, 19.99, 29.99, 39.99, 49.99]\n",
    "}\n",
    "\n",
    "trusted_data = {\n",
    "    'product_id': [101, 102, 103, 104, 105],\n",
    "    'price': [9.99, 18.99, 29.99, 39.00, 49.99]\n",
    "}\n",
    "\n",
    "# Convert to DataFrames\n",
    "company_df = pd.DataFrame(company_data)\n",
    "trusted_df = pd.DataFrame(trusted_data)\n",
    "\n",
    "# Step 2: Merge datasets on product_id\n",
    "merged_df = pd.merge(company_df, trusted_df, on='product_id', suffixes=('_company', '_trusted'))\n",
    "\n",
    "# Step 3: Check for price match\n",
    "merged_df['match'] = merged_df['price_company'] == merged_df['price_trusted']\n",
    "\n",
    "# Step 4: Calculate accuracy\n",
    "total = len(merged_df)\n",
    "matches = merged_df['match'].sum()\n",
    "accuracy = (matches / total) * 100\n",
    "\n",
    "print(\"Merged DataFrame:\")\n",
    "print(merged_df)\n",
    "print(f\"\\n✅ Price Accuracy: {accuracy:.2f}%\")"
   ]
  },
  {
   "cell_type": "markdown",
   "metadata": {},
   "source": [
    "### Task 2: Detect Incorrect Values\n",
    "\n",
    "**Description**: In `company_prices.csv` , detect any negative price values which are incorrect values for prices."
   ]
  },
  {
   "cell_type": "code",
   "execution_count": 2,
   "metadata": {},
   "outputs": [
    {
     "name": "stdout",
     "output_type": "stream",
     "text": [
      "🔍 Products with Incorrect (Negative) Prices:\n",
      "   product_id  price\n",
      "1         202 -20.00\n",
      "3         204  -5.25\n",
      "\n",
      "🚫 Total Incorrect Values Detected: 2\n"
     ]
    }
   ],
   "source": [
    "# Write your code from here\n",
    "import pandas as pd\n",
    "\n",
    "# Simulated company_prices data\n",
    "company_data = {\n",
    "    'product_id': [201, 202, 203, 204, 205],\n",
    "    'price': [15.99, -20.00, 35.50, -5.25, 10.00]  # some negative prices\n",
    "}\n",
    "\n",
    "# Convert to DataFrame\n",
    "company_df = pd.DataFrame(company_data)\n",
    "\n",
    "# Detect negative prices\n",
    "invalid_prices_df = company_df[company_df['price'] < 0]\n",
    "\n",
    "# Display the result\n",
    "print(\"🔍 Products with Incorrect (Negative) Prices:\")\n",
    "print(invalid_prices_df)\n",
    "\n",
    "# Optional: Count of invalid values\n",
    "print(f\"\\n🚫 Total Incorrect Values Detected: {len(invalid_prices_df)}\")\n"
   ]
  },
  {
   "cell_type": "markdown",
   "metadata": {},
   "source": [
    "### Task 3: Check Missing Data Rates\n",
    "\n",
    "**Description**: Calculate the percentage of missing values in `customer_data.csv` ."
   ]
  },
  {
   "cell_type": "code",
   "execution_count": 3,
   "metadata": {},
   "outputs": [
    {
     "name": "stdout",
     "output_type": "stream",
     "text": [
      "📊 Missing Data Rate (in %):\n",
      "customer_id     0.0\n",
      "name           20.0\n",
      "email          40.0\n",
      "age            40.0\n",
      "dtype: float64\n"
     ]
    }
   ],
   "source": [
    "# Write your code from here\n",
    "import pandas as pd\n",
    "import numpy as np\n",
    "\n",
    "# Step 1: Simulated customer data with missing values\n",
    "data = {\n",
    "    'customer_id': [1, 2, 3, 4, 5],\n",
    "    'name': ['Alice', 'Bob', None, 'David', 'Eva'],\n",
    "    'email': ['alice@example.com', None, 'charlie@example.com', 'david@example.com', None],\n",
    "    'age': [25, np.nan, 30, 45, np.nan]\n",
    "}\n",
    "\n",
    "customer_df = pd.DataFrame(data)\n",
    "\n",
    "# Step 2: Calculate missing data rates\n",
    "missing_percent = customer_df.isnull().mean() * 100\n",
    "\n",
    "# Step 3: Display results\n",
    "print(\"📊 Missing Data Rate (in %):\")\n",
    "print(missing_percent.round(2))"
   ]
  },
  {
   "cell_type": "markdown",
   "metadata": {},
   "source": [
    "### Task 4: Handling Partially Available Records\n",
    "\n",
    "**Description**: In `customer_data.csv` , identify records with missing \"email\" or \"phone number\" and decide whether to drop or fill them."
   ]
  },
  {
   "cell_type": "code",
   "execution_count": 4,
   "metadata": {},
   "outputs": [
    {
     "name": "stdout",
     "output_type": "stream",
     "text": [
      "🔍 Partially Available Records (missing email or phone number):\n",
      "   customer_id   name              email  phone_number\n",
      "0            1  Alice  alice@example.com          None\n",
      "1            2    Bob               None  123-456-7890\n",
      "3            4  David  david@example.com          None\n",
      "4            5    Eva               None  888-888-8888\n",
      "\n",
      "🗑️ Records After Dropping Incomplete Ones:\n",
      "   customer_id     name                email  phone_number\n",
      "2            3  Charlie  charlie@example.com  555-555-5555\n",
      "\n",
      "🛠️ Records After Filling Missing Values:\n",
      "   customer_id     name                email  phone_number\n",
      "0            1    Alice    alice@example.com  000-000-0000\n",
      "1            2      Bob  no-email@domain.com  123-456-7890\n",
      "2            3  Charlie  charlie@example.com  555-555-5555\n",
      "3            4    David    david@example.com  000-000-0000\n",
      "4            5      Eva  no-email@domain.com  888-888-8888\n"
     ]
    }
   ],
   "source": [
    "# Write your code from here\n",
    "import pandas as pd\n",
    "import numpy as np\n",
    "\n",
    "# Step 1: Simulate customer_data with missing emails/phone numbers\n",
    "data = {\n",
    "    'customer_id': [1, 2, 3, 4, 5],\n",
    "    'name': ['Alice', 'Bob', 'Charlie', 'David', 'Eva'],\n",
    "    'email': ['alice@example.com', None, 'charlie@example.com', 'david@example.com', None],\n",
    "    'phone_number': [None, '123-456-7890', '555-555-5555', None, '888-888-8888']\n",
    "}\n",
    "\n",
    "df = pd.DataFrame(data)\n",
    "\n",
    "# Step 2: Identify records with missing email or phone number\n",
    "partial_records = df[df['email'].isnull() | df['phone_number'].isnull()]\n",
    "\n",
    "print(\"🔍 Partially Available Records (missing email or phone number):\")\n",
    "print(partial_records)\n",
    "\n",
    "# Step 3: Decide how to handle — Option A: Drop, Option B: Fill\n",
    "\n",
    "# ----- Option A: Drop records with missing email or phone -----\n",
    "dropped_df = df.dropna(subset=['email', 'phone_number'])\n",
    "print(\"\\n🗑️ Records After Dropping Incomplete Ones:\")\n",
    "print(dropped_df)\n",
    "\n",
    "# ----- Option B: Fill missing values with placeholder -----\n",
    "filled_df = df.copy()\n",
    "filled_df['email'].fillna('no-email@domain.com', inplace=True)\n",
    "filled_df['phone_number'].fillna('000-000-0000', inplace=True)\n",
    "print(\"\\n🛠️ Records After Filling Missing Values:\")\n",
    "print(filled_df)"
   ]
  }
 ],
 "metadata": {
  "kernelspec": {
   "display_name": "Python 3",
   "language": "python",
   "name": "python3"
  },
  "language_info": {
   "codemirror_mode": {
    "name": "ipython",
    "version": 3
   },
   "file_extension": ".py",
   "mimetype": "text/x-python",
   "name": "python",
   "nbconvert_exporter": "python",
   "pygments_lexer": "ipython3",
   "version": "3.10.12"
  }
 },
 "nbformat": 4,
 "nbformat_minor": 2
}
