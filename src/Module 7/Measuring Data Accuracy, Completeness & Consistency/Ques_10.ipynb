{
 "cells": [
  {
   "cell_type": "markdown",
   "metadata": {},
   "source": [
    "# Ensuring Consistency\n",
    "\n",
    "**Activity Overview**: Ensure consistency by identifying and resolving conflicting values across datasets.\n",
    "\n",
    "## Title: Customer Address Discrepancies\n",
    "\n",
    "**Task**: Address customer address mismatches between CRM and marketing databases.\n",
    "\n",
    "**Steps**:\n",
    "1. Compare customer addresses in the CRM with those in the marketing database.\n",
    "2. Identify records with conflicting address information.\n",
    "3. Propose a method to consolidate records with verified addresses."
   ]
  },
  {
   "cell_type": "code",
   "execution_count": 1,
   "metadata": {},
   "outputs": [
    {
     "name": "stdout",
     "output_type": "stream",
     "text": [
      "Full Comparison Table:\n",
      "   customer_id   name          email_crm     address_crm   address_marketing  \\\n",
      "0            1  Alice  alice@example.com    123 Apple St        123 Apple St   \n",
      "1            2    Bob    bob@example.com  456 Berry Blvd  456 Blueberry Blvd   \n",
      "2            3  Carol  carol@example.com   789 Cherry Ct    789 Cherry Court   \n",
      "\n",
      "   address_match  \n",
      "0           True  \n",
      "1          False  \n",
      "2          False  \n",
      "\n",
      "❌ Address Discrepancies Found:\n",
      "   customer_id   name          email_crm     address_crm   address_marketing\n",
      "1            2    Bob    bob@example.com  456 Berry Blvd  456 Blueberry Blvd\n",
      "2            3  Carol  carol@example.com   789 Cherry Ct    789 Cherry Court\n"
     ]
    }
   ],
   "source": [
    "# Write your code from here\n",
    "\n",
    "import pandas as pd\n",
    "\n",
    "# Step 1: Simulated CRM data\n",
    "crm_data = pd.DataFrame({\n",
    "    'customer_id': [1, 2, 3],\n",
    "    'name': ['Alice', 'Bob', 'Carol'],\n",
    "    'email': ['alice@example.com', 'bob@example.com', 'carol@example.com'],\n",
    "    'address': ['123 Apple St', '456 Berry Blvd', '789 Cherry Ct']\n",
    "})\n",
    "\n",
    "# Step 2: Simulated Marketing data\n",
    "marketing_data = pd.DataFrame({\n",
    "    'customer_id': [1, 2, 3],\n",
    "    'email': ['alice@example.com', 'bob@example.com', 'carol@example.com'],\n",
    "    'address': ['123 Apple St', '456 Blueberry Blvd', '789 Cherry Court']  # Bob & Carol's address are different\n",
    "})\n",
    "\n",
    "# Step 3: Merge datasets on a unique identifier (email or customer_id)\n",
    "merged = pd.merge(crm_data, marketing_data, on='customer_id', suffixes=('_crm', '_marketing'))\n",
    "\n",
    "# Step 4: Compare addresses\n",
    "merged['address_match'] = merged['address_crm'] == merged['address_marketing']\n",
    "\n",
    "# Step 5: Extract conflicting records\n",
    "conflicts = merged[merged['address_match'] == False]\n",
    "\n",
    "# Step 6: Output results\n",
    "print(\"Full Comparison Table:\")\n",
    "print(merged[['customer_id', 'name', 'email_crm', 'address_crm', 'address_marketing', 'address_match']])\n",
    "\n",
    "print(\"\\n❌ Address Discrepancies Found:\")\n",
    "print(conflicts[['customer_id', 'name', 'email_crm', 'address_crm', 'address_marketing']])"
   ]
  }
 ],
 "metadata": {
  "kernelspec": {
   "display_name": "Python 3",
   "language": "python",
   "name": "python3"
  },
  "language_info": {
   "codemirror_mode": {
    "name": "ipython",
    "version": 3
   },
   "file_extension": ".py",
   "mimetype": "text/x-python",
   "name": "python",
   "nbconvert_exporter": "python",
   "pygments_lexer": "ipython3",
   "version": "3.10.12"
  }
 },
 "nbformat": 4,
 "nbformat_minor": 2
}
