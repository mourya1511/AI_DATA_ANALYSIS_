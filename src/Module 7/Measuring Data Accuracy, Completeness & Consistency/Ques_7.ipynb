{
 "cells": [
  {
   "cell_type": "markdown",
   "metadata": {},
   "source": [
    "## Advanced Consistency Check with Hierarchical Data\n",
    "\n",
    "**Description**: You have two datasets `orders.csv` and `order_items.csv` . Perform a consistency check to ensure each order in `orders.csv` has corresponding items in `order_items.csv` ."
   ]
  },
  {
   "cell_type": "code",
   "execution_count": 1,
   "metadata": {},
   "outputs": [
    {
     "name": "stdout",
     "output_type": "stream",
     "text": [
      "Orders missing in order_items: {1001, 1004}\n",
      "Extra orders in order_items: {1005}\n"
     ]
    }
   ],
   "source": [
    "import pandas as pd\n",
    "\n",
    "# Simulated orders data\n",
    "df_orders = pd.DataFrame({\n",
    "    'order_id': [1001, 1002, 1003, 1004]\n",
    "})\n",
    "\n",
    "# Simulated order_items data\n",
    "df_order_items = pd.DataFrame({\n",
    "    'order_id': [1002, 1003, 1005]  # 1005 is extra; 1001 and 1004 are missing\n",
    "})\n",
    "\n",
    "# Ensure data types are numeric\n",
    "df_orders['order_id'] = pd.to_numeric(df_orders['order_id'], errors='coerce')\n",
    "df_order_items['order_id'] = pd.to_numeric(df_order_items['order_id'], errors='coerce')\n",
    "\n",
    "# Drop any invalid order_ids\n",
    "df_orders.dropna(subset=['order_id'], inplace=True)\n",
    "df_order_items.dropna(subset=['order_id'], inplace=True)\n",
    "\n",
    "# Convert to sets for comparison\n",
    "order_ids = set(df_orders['order_id'])\n",
    "item_order_ids = set(df_order_items['order_id'])\n",
    "\n",
    "# Identify missing and extra order_ids\n",
    "missing_in_items = order_ids - item_order_ids\n",
    "extra_in_items = item_order_ids - order_ids\n",
    "\n",
    "# Output the results\n",
    "print(f\"Orders missing in order_items: {missing_in_items}\")\n",
    "print(f\"Extra orders in order_items: {extra_in_items}\")"
   ]
  }
 ],
 "metadata": {
  "kernelspec": {
   "display_name": "Python 3",
   "language": "python",
   "name": "python3"
  },
  "language_info": {
   "codemirror_mode": {
    "name": "ipython",
    "version": 3
   },
   "file_extension": ".py",
   "mimetype": "text/x-python",
   "name": "python",
   "nbconvert_exporter": "python",
   "pygments_lexer": "ipython3",
   "version": "3.10.12"
  }
 },
 "nbformat": 4,
 "nbformat_minor": 2
}
