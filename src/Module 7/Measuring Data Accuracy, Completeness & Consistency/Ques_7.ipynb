{
 "cells": [
  {
   "cell_type": "markdown",
   "metadata": {},
   "source": [
    "## Advanced Consistency Check with Hierarchical Data\n",
    "\n",
    "**Description**: You have two datasets `orders.csv` and `order_items.csv` . Perform a consistency check to ensure each order in `orders.csv` has corresponding items in `order_items.csv` ."
   ]
  },
  {
   "cell_type": "code",
   "execution_count": 1,
   "metadata": {},
   "outputs": [
    {
     "name": "stdout",
     "output_type": "stream",
     "text": [
      "Orders with missing items in order_items.csv:\n",
      "   order_id customer_id  order_date\n",
      "3       104        C004  2025-05-04\n",
      "4       105        C005  2025-05-05\n",
      "\n",
      "Order items with no corresponding order in orders.csv:\n",
      "   order_id product_id  quantity\n",
      "3       106       P004         2\n",
      "4       107       P005         1\n",
      "\n",
      "Merged DataFrame to visually check consistency:\n",
      "   order_id customer_id  order_date product_id  quantity\n",
      "0       101        C001  2025-05-01       P001       2.0\n",
      "1       102        C002  2025-05-02       P002       1.0\n",
      "2       103        C003  2025-05-03       P003       3.0\n",
      "3       104        C004  2025-05-04        NaN       NaN\n",
      "4       105        C005  2025-05-05        NaN       NaN\n"
     ]
    }
   ],
   "source": [
    "# Write your code from here\n",
    "import pandas as pd\n",
    "import numpy as np\n",
    "\n",
    "# ----------------------------\n",
    "# Simulate Data (Orders and Order Items)\n",
    "# ----------------------------\n",
    "# Orders dataset (orders.csv)\n",
    "orders_data = {\n",
    "    'order_id': [101, 102, 103, 104, 105],\n",
    "    'customer_id': ['C001', 'C002', 'C003', 'C004', 'C005'],\n",
    "    'order_date': ['2025-05-01', '2025-05-02', '2025-05-03', '2025-05-04', '2025-05-05']\n",
    "}\n",
    "orders_df = pd.DataFrame(orders_data)\n",
    "\n",
    "# Order Items dataset (order_items.csv)\n",
    "order_items_data = {\n",
    "    'order_id': [101, 102, 103, 106, 107],  # Note: orders 106 and 107 are inconsistent\n",
    "    'product_id': ['P001', 'P002', 'P003', 'P004', 'P005'],\n",
    "    'quantity': [2, 1, 3, 2, 1]\n",
    "}\n",
    "order_items_df = pd.DataFrame(order_items_data)\n",
    "\n",
    "# ----------------------------\n",
    "# Perform Consistency Check\n",
    "# ----------------------------\n",
    "\n",
    "# Check if all order_ids in orders_df exist in order_items_df\n",
    "missing_orders = orders_df[~orders_df['order_id'].isin(order_items_df['order_id'])]\n",
    "\n",
    "# Check if all order_ids in order_items_df exist in orders_df\n",
    "extra_order_items = order_items_df[~order_items_df['order_id'].isin(orders_df['order_id'])]\n",
    "\n",
    "# Results\n",
    "if not missing_orders.empty:\n",
    "    print(\"Orders with missing items in order_items.csv:\")\n",
    "    print(missing_orders)\n",
    "else:\n",
    "    print(\"All orders in orders.csv have corresponding items in order_items.csv.\")\n",
    "\n",
    "if not extra_order_items.empty:\n",
    "    print(\"\\nOrder items with no corresponding order in orders.csv:\")\n",
    "    print(extra_order_items)\n",
    "else:\n",
    "    print(\"All order items in order_items.csv have corresponding orders in orders.csv.\")\n",
    "\n",
    "# ----------------------------\n",
    "# Optional: Combine Data to Validate Consistency (Visual Check)\n",
    "# ----------------------------\n",
    "\n",
    "# Merge the two DataFrames on order_id to visually check any inconsistencies\n",
    "merged_df = pd.merge(orders_df, order_items_df, on='order_id', how='left')\n",
    "\n",
    "print(\"\\nMerged DataFrame to visually check consistency:\")\n",
    "print(merged_df)"
   ]
  }
 ],
 "metadata": {
  "kernelspec": {
   "display_name": "Python 3",
   "language": "python",
   "name": "python3"
  },
  "language_info": {
   "codemirror_mode": {
    "name": "ipython",
    "version": 3
   },
   "file_extension": ".py",
   "mimetype": "text/x-python",
   "name": "python",
   "nbconvert_exporter": "python",
   "pygments_lexer": "ipython3",
   "version": "3.10.12"
  }
 },
 "nbformat": 4,
 "nbformat_minor": 2
}
