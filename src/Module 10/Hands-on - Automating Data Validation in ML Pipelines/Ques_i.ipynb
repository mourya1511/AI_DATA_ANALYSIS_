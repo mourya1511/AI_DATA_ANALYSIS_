{
 "cells": [
  {
   "cell_type": "markdown",
   "metadata": {},
   "source": [
    "### Using Great Expectations for Automated Data Checks\n",
    "**Objective**: Use Great Expectations to perform data validation steps on a dataset.\n",
    "\n",
    "**Task 1**: Validate Column Existence\n",
    "\n",
    "**Steps**:\n",
    "- Load your dataset using a Pandas DataFrame.\n",
    "- Use Great Expectations to setup an expectation suite.\n",
    "- Create an expectation to confirm that a specific column (e.g., customer_id ) exists in your dataset.\n",
    "- Run the expectation and observe the results."
   ]
  },
  {
   "cell_type": "code",
   "execution_count": 1,
   "metadata": {},
   "outputs": [
    {
     "ename": "ModuleNotFoundError",
     "evalue": "No module named 'great_expectations'",
     "output_type": "error",
     "traceback": [
      "\u001b[0;31m---------------------------------------------------------------------------\u001b[0m",
      "\u001b[0;31mModuleNotFoundError\u001b[0m                       Traceback (most recent call last)",
      "Cell \u001b[0;32mIn[1], line 4\u001b[0m\n\u001b[1;32m      1\u001b[0m \u001b[38;5;66;03m# write your code from here\u001b[39;00m\n\u001b[1;32m      3\u001b[0m \u001b[38;5;28;01mimport\u001b[39;00m\u001b[38;5;250m \u001b[39m\u001b[38;5;21;01mpandas\u001b[39;00m\u001b[38;5;250m \u001b[39m\u001b[38;5;28;01mas\u001b[39;00m\u001b[38;5;250m \u001b[39m\u001b[38;5;21;01mpd\u001b[39;00m\n\u001b[0;32m----> 4\u001b[0m \u001b[38;5;28;01mimport\u001b[39;00m\u001b[38;5;250m \u001b[39m\u001b[38;5;21;01mgreat_expectations\u001b[39;00m\u001b[38;5;250m \u001b[39m\u001b[38;5;28;01mas\u001b[39;00m\u001b[38;5;250m \u001b[39m\u001b[38;5;21;01mge\u001b[39;00m\n\u001b[1;32m      5\u001b[0m \u001b[38;5;28;01mfrom\u001b[39;00m\u001b[38;5;250m \u001b[39m\u001b[38;5;21;01mgreat_expectations\u001b[39;00m\u001b[38;5;21;01m.\u001b[39;00m\u001b[38;5;21;01mcore\u001b[39;00m\u001b[38;5;21;01m.\u001b[39;00m\u001b[38;5;21;01mbatch\u001b[39;00m\u001b[38;5;250m \u001b[39m\u001b[38;5;28;01mimport\u001b[39;00m BatchRequest\n\u001b[1;32m      7\u001b[0m \u001b[38;5;66;03m# Create example dataset in-memory (simulate your data)\u001b[39;00m\n",
      "\u001b[0;31mModuleNotFoundError\u001b[0m: No module named 'great_expectations'"
     ]
    }
   ],
   "source": [
    "# write your code from here\n",
    "\n",
    "import pandas as pd\n",
    "import great_expectations as ge\n",
    "from great_expectations.core.batch import BatchRequest\n",
    "\n",
    "# Create example dataset in-memory (simulate your data)\n",
    "data = {\n",
    "    \"customer_id\": [1, 2, 3, 4],\n",
    "    \"purchase_amount\": [23.5, 45.0, 12.99, 100.0],\n",
    "    \"age\": [25, 30, 45, 60],\n",
    "    \"notes\": [\"ok\", \"ok\", \"ok\", \"ok\"]\n",
    "}\n",
    "df = pd.DataFrame(data)\n",
    "\n",
    "# Wrap DataFrame with Great Expectations DataFrame\n",
    "ge_df = ge.from_pandas(df)\n",
    "\n",
    "# ---------------- Task 1: Validate Column Existence ----------------\n",
    "\n",
    "# Create expectation that 'customer_id' column exists\n",
    "result_col_exist = ge_df.expect_column_to_exist(\"customer_id\")\n",
    "\n",
    "print(\"Task 1 - Column existence expectation result:\")\n",
    "print(result_col_exist)\n",
    "\n",
    "# ---------------- Task 2: Validate Column Data Types ----------------\n",
    "\n",
    "# Great Expectations does not have direct 'expect_column_dtype' but\n",
    "# you can check types by expectation 'expect_column_values_to_be_of_type'\n",
    "# We expect 'purchase_amount' to be of type 'float64' (common float type in pandas)\n",
    "\n",
    "# First, verify actual dtype\n",
    "actual_dtype = df['purchase_amount'].dtype\n",
    "print(f\"\\nActual dtype of 'purchase_amount': {actual_dtype}\")\n",
    "\n",
    "# Create expectation that 'purchase_amount' column values are floats\n",
    "result_dtype = ge_df.expect_column_values_to_be_of_type(\"purchase_amount\", \"float64\")\n",
    "\n",
    "print(\"\\nTask 2 - Column data type expectation result:\")\n",
    "print(result_dtype)\n",
    "\n",
    "# ---------------- Task 3: Validate Range of Values ----------------\n",
    "\n",
    "# Expect 'age' to be between 18 and 65 inclusive\n",
    "result_range = ge_df.expect_column_values_to_be_between(\"age\", min_value=18, max_value=65)\n",
    "\n",
    "print(\"\\nTask 3 - Range expectation result:\")\n",
    "print(result_range)\n",
    "\n",
    "# ---------------- Interpretation ----------------\n",
    "\n",
    "for task_num, res in enumerate([result_col_exist, result_dtype, result_range], start=1):\n",
    "    if res[\"success\"]:\n",
    "        print(f\"\\nTask {task_num} PASSED.\")\n",
    "    else:\n",
    "        print(f\"\\nTask {task_num} FAILED.\")\n"
   ]
  },
  {
   "cell_type": "markdown",
   "metadata": {},
   "source": [
    "**Task 2**: Validate Column Data Types\n",
    "\n",
    "**Steps**:\n",
    "- Using the same dataset setup, create an expectation to check that a numeric column\n",
    "(e.g., purchase_amount ) contains only float values.\n",
    "- Identify a numeric column in your dataset.\n",
    "- Use Great Expectations to create and validate an expectation that checks the column's data type is correct.\n",
    "- Run your expectation and check if it passes for your data."
   ]
  },
  {
   "cell_type": "code",
   "execution_count": null,
   "metadata": {},
   "outputs": [],
   "source": [
    "# write your code from here"
   ]
  },
  {
   "cell_type": "markdown",
   "metadata": {},
   "source": [
    "**Task 3**: Validate Range of Values\n",
    "\n",
    "**Steps**:\n",
    "- Set an expectation using Great Expectations to ensure that a column (e.g., age ) values\n",
    "are between 18 and 65.\n",
    "- Identify a column in your dataset where values fall within a specific range.\n",
    "- Implement a range-based expectation to check this column and validate your dataset.\n",
    "- Observe and interpret the result of your expectation."
   ]
  },
  {
   "cell_type": "code",
   "execution_count": null,
   "metadata": {},
   "outputs": [],
   "source": [
    "# write your code from here"
   ]
  }
 ],
 "metadata": {
  "kernelspec": {
   "display_name": "Python 3",
   "language": "python",
   "name": "python3"
  },
  "language_info": {
   "codemirror_mode": {
    "name": "ipython",
    "version": 3
   },
   "file_extension": ".py",
   "mimetype": "text/x-python",
   "name": "python",
   "nbconvert_exporter": "python",
   "pygments_lexer": "ipython3",
   "version": "3.10.12"
  }
 },
 "nbformat": 4,
 "nbformat_minor": 2
}
