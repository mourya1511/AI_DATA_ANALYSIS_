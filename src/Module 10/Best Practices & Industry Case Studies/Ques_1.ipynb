{
 "cells": [
  {
   "cell_type": "markdown",
   "metadata": {},
   "source": [
    "## Defining Data Quality SLAs\n",
    "### Data Completeness\n",
    "**Description**: Set an SLA that ensures that 95% of data fields in your dataset are filled (non-null values). Practice by checking a dataset of your choice and calculate its completeness."
   ]
  },
  {
   "cell_type": "code",
   "execution_count": 1,
   "metadata": {},
   "outputs": [
    {
     "name": "stdout",
     "output_type": "stream",
     "text": [
      "=== Data Quality SLA Checks ===\n",
      "[Completeness Check] Non-null ratio: 93.33%\n",
      "[Timeliness Check] % data within 24 hours: 80.00%\n",
      "[Consistency Check] Key match ratio: 80.00%\n",
      "\n",
      "=== SLA Results ===\n",
      "✅ Completeness SLA Passed? No\n",
      "✅ Timeliness SLA Passed? No\n",
      "✅ Consistency SLA Passed? No\n"
     ]
    }
   ],
   "source": [
    "# write your code from here\n",
    "\n",
    "import pandas as pd\n",
    "import numpy as np\n",
    "from datetime import datetime, timedelta\n",
    "\n",
    "# -----------------------------\n",
    "# Generate example datasets\n",
    "# -----------------------------\n",
    "\n",
    "# Dataset with some missing values\n",
    "data_main = pd.DataFrame({\n",
    "    'id': [1, 2, 3, 4, 5],\n",
    "    'value': [10, 15, np.nan, 30, 25],\n",
    "    'timestamp': [\n",
    "        datetime.now() - timedelta(hours=2),\n",
    "        datetime.now() - timedelta(hours=3),\n",
    "        datetime.now() - timedelta(hours=25),  # SLA violation\n",
    "        datetime.now() - timedelta(hours=1),\n",
    "        datetime.now()\n",
    "    ]\n",
    "})\n",
    "\n",
    "# Related dataset to check consistency (foreign key reference)\n",
    "data_ref = pd.DataFrame({\n",
    "    'id': [1, 2, 3, 4]  # missing ID 5\n",
    "})\n",
    "\n",
    "\n",
    "# -----------------------------\n",
    "# SLA 1: Data Completeness\n",
    "# -----------------------------\n",
    "def check_completeness(df, threshold=0.95):\n",
    "    \"\"\"\n",
    "    SLA: At least `threshold`% of the values in the dataset must be non-null.\n",
    "    \"\"\"\n",
    "    total_values = df.size\n",
    "    non_null_values = df.count().sum()\n",
    "    completeness_ratio = non_null_values / total_values\n",
    "    print(f\"[Completeness Check] Non-null ratio: {completeness_ratio:.2%}\")\n",
    "    return completeness_ratio >= threshold\n",
    "\n",
    "\n",
    "# -----------------------------\n",
    "# SLA 2: Data Timeliness\n",
    "# -----------------------------\n",
    "def check_timeliness(df, timestamp_column='timestamp', max_age_hours=24):\n",
    "    \"\"\"\n",
    "    SLA: All rows must have timestamps within the last `max_age_hours`.\n",
    "    \"\"\"\n",
    "    try:\n",
    "        now = datetime.now()\n",
    "        max_allowed_time = now - timedelta(hours=max_age_hours)\n",
    "        recent_data_ratio = (df[timestamp_column] >= max_allowed_time).mean()\n",
    "        print(f\"[Timeliness Check] % data within {max_age_hours} hours: {recent_data_ratio:.2%}\")\n",
    "        return recent_data_ratio == 1.0  # SLA: all must be timely\n",
    "    except Exception as e:\n",
    "        print(f\"Timeliness check error: {e}\")\n",
    "        return False\n",
    "\n",
    "\n",
    "# -----------------------------\n",
    "# SLA 3: Data Consistency\n",
    "# -----------------------------\n",
    "def check_consistency(df_main, df_ref, key='id', threshold=0.99):\n",
    "    \"\"\"\n",
    "    SLA: At least `threshold`% of the foreign key values in `df_main` must exist in `df_ref`.\n",
    "    \"\"\"\n",
    "    try:\n",
    "        match_ratio = df_main[key].isin(df_ref[key]).mean()\n",
    "        print(f\"[Consistency Check] Key match ratio: {match_ratio:.2%}\")\n",
    "        return match_ratio >= threshold\n",
    "    except Exception as e:\n",
    "        print(f\"Consistency check error: {e}\")\n",
    "        return False\n",
    "\n",
    "\n",
    "# -----------------------------\n",
    "# Run All SLA Checks\n",
    "# -----------------------------\n",
    "print(\"=== Data Quality SLA Checks ===\")\n",
    "\n",
    "sla_completeness = check_completeness(data_main)\n",
    "sla_timeliness = check_timeliness(data_main, 'timestamp')\n",
    "sla_consistency = check_consistency(data_main, data_ref, 'id')\n",
    "\n",
    "print(\"\\n=== SLA Results ===\")\n",
    "print(f\"✅ Completeness SLA Passed? {'Yes' if sla_completeness else 'No'}\")\n",
    "print(f\"✅ Timeliness SLA Passed? {'Yes' if sla_timeliness else 'No'}\")\n",
    "print(f\"✅ Consistency SLA Passed? {'Yes' if sla_consistency else 'No'}\")"
   ]
  },
  {
   "cell_type": "markdown",
   "metadata": {},
   "source": [
    "### Data Timeliness:\n",
    "**Description**: Establish an SLA that specifies that data should be integrated and processed within 24 hours of acquisition. Monitor the data pipeline for timeliness."
   ]
  },
  {
   "cell_type": "code",
   "execution_count": null,
   "metadata": {},
   "outputs": [],
   "source": [
    "# write your code from here"
   ]
  },
  {
   "cell_type": "markdown",
   "metadata": {},
   "source": [
    "### Data Consistency:\n",
    "**Description**: Define an SLA for maintaining consistency across various related datasets. Implement a check to ensure that 99% of data entries are consistent."
   ]
  },
  {
   "cell_type": "code",
   "execution_count": null,
   "metadata": {},
   "outputs": [],
   "source": [
    "# write your code from here"
   ]
  }
 ],
 "metadata": {
  "kernelspec": {
   "display_name": "Python 3",
   "language": "python",
   "name": "python3"
  },
  "language_info": {
   "codemirror_mode": {
    "name": "ipython",
    "version": 3
   },
   "file_extension": ".py",
   "mimetype": "text/x-python",
   "name": "python",
   "nbconvert_exporter": "python",
   "pygments_lexer": "ipython3",
   "version": "3.10.12"
  }
 },
 "nbformat": 4,
 "nbformat_minor": 2
}
