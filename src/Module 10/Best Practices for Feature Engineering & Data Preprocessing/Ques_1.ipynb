{
 "cells": [
  {
   "cell_type": "markdown",
   "metadata": {},
   "source": [
    "### Task 1: Handling Missing Values - Simple Imputation\n",
    "**Description**: Given a dataset with missing values, impute the missing values using the mean for numerical features and the mode for categorical features."
   ]
  },
  {
   "cell_type": "code",
   "execution_count": 1,
   "metadata": {},
   "outputs": [
    {
     "name": "stdout",
     "output_type": "stream",
     "text": [
      "🔹 Original DataFrame:\n",
      "     age   salary  gender\n",
      "0  25.0  50000.0    Male\n",
      "1   NaN  60000.0  Female\n",
      "2  35.0      NaN     NaN\n",
      "3  45.0  80000.0  Female\n",
      "4   NaN  90000.0    Male\n",
      "\n",
      "✅ After Imputation:\n",
      "     age   salary  gender\n",
      "0  25.0  50000.0    Male\n",
      "1  35.0  60000.0  Female\n",
      "2  35.0  70000.0  Female\n",
      "3  45.0  80000.0  Female\n",
      "4  35.0  90000.0    Male\n",
      "\n",
      "✅ After Min-Max Scaling on 'salary':\n",
      "     salary  salary_minmax\n",
      "0  50000.0           0.00\n",
      "1  60000.0           0.25\n",
      "2  70000.0           0.50\n",
      "3  80000.0           0.75\n",
      "4  90000.0           1.00\n",
      "\n",
      "✅ After Dropping Rows with Missing Values:\n",
      "     age   salary  gender\n",
      "0  25.0  50000.0    Male\n",
      "3  45.0  80000.0  Female\n",
      "\n",
      "✅ After Standardization on 'age':\n",
      "     age   age_std\n",
      "0  25.0 -1.581139\n",
      "1  35.0  0.000000\n",
      "2  35.0  0.000000\n",
      "3  45.0  1.581139\n",
      "4  35.0  0.000000\n"
     ]
    }
   ],
   "source": [
    "# write your code from here\n",
    "\n",
    "import pandas as pd\n",
    "import numpy as np\n",
    "from sklearn.preprocessing import MinMaxScaler, StandardScaler\n",
    "\n",
    "# Simulated dataset with mixed data types and missing values\n",
    "data = {\n",
    "    'age': [25, np.nan, 35, 45, np.nan],\n",
    "    'salary': [50000, 60000, np.nan, 80000, 90000],\n",
    "    'gender': ['Male', 'Female', np.nan, 'Female', 'Male']\n",
    "}\n",
    "df = pd.DataFrame(data)\n",
    "print(\"🔹 Original DataFrame:\\n\", df)\n",
    "\n",
    "# --- Task 1: Simple Imputation ---\n",
    "def impute_missing_values(df):\n",
    "    df_imputed = df.copy()\n",
    "    for column in df.columns:\n",
    "        if df[column].dtype in [np.float64, np.int64]:\n",
    "            mean_val = df[column].mean()\n",
    "            df_imputed[column] = df[column].fillna(mean_val)\n",
    "        else:\n",
    "            mode_val = df[column].mode()[0]\n",
    "            df_imputed[column] = df[column].fillna(mode_val)\n",
    "    return df_imputed\n",
    "\n",
    "df_imputed = impute_missing_values(df)\n",
    "print(\"\\n✅ After Imputation:\\n\", df_imputed)\n",
    "\n",
    "# --- Task 2: Min-Max Normalization ---\n",
    "def apply_minmax_scaling(df, feature):\n",
    "    scaler = MinMaxScaler()\n",
    "    df_scaled = df.copy()\n",
    "    df_scaled[feature + '_minmax'] = scaler.fit_transform(df[[feature]])\n",
    "    return df_scaled\n",
    "\n",
    "df_minmax = apply_minmax_scaling(df_imputed, 'salary')\n",
    "print(\"\\n✅ After Min-Max Scaling on 'salary':\\n\", df_minmax[['salary', 'salary_minmax']])\n",
    "\n",
    "# --- Task 3: Drop Rows with Missing Values ---\n",
    "df_dropped = df.dropna()\n",
    "print(\"\\n✅ After Dropping Rows with Missing Values:\\n\", df_dropped)\n",
    "\n",
    "# --- Task 4: Standardization ---\n",
    "def apply_standard_scaling(df, feature):\n",
    "    scaler = StandardScaler()\n",
    "    df_scaled = df.copy()\n",
    "    df_scaled[feature + '_std'] = scaler.fit_transform(df[[feature]])\n",
    "    return df_scaled\n",
    "\n",
    "df_standard = apply_standard_scaling(df_imputed, 'age')\n",
    "print(\"\\n✅ After Standardization on 'age':\\n\", df_standard[['age', 'age_std']])"
   ]
  },
  {
   "cell_type": "markdown",
   "metadata": {},
   "source": [
    "### Task 2: Feature Scaling - Min-Max Normalization\n",
    "**Description**: Normalize a numerical feature using Min-Max scaling to a range [0, 1]."
   ]
  },
  {
   "cell_type": "code",
   "execution_count": null,
   "metadata": {},
   "outputs": [],
   "source": [
    "# write your code from here"
   ]
  },
  {
   "cell_type": "markdown",
   "metadata": {},
   "source": [
    "### Task 3: Handling Missing Values - Drop Missing Values\n",
    "**Description**: Remove rows with missing values from a dataset."
   ]
  },
  {
   "cell_type": "code",
   "execution_count": null,
   "metadata": {},
   "outputs": [],
   "source": [
    "# write your code from here"
   ]
  },
  {
   "cell_type": "markdown",
   "metadata": {},
   "source": [
    "### Task 4: Feature Scaling - Standardization\n",
    "**Description**: Standardize a numerical feature to have zero mean and unit variance."
   ]
  },
  {
   "cell_type": "code",
   "execution_count": null,
   "metadata": {},
   "outputs": [],
   "source": [
    "# write your code from here"
   ]
  }
 ],
 "metadata": {
  "kernelspec": {
   "display_name": "Python 3",
   "language": "python",
   "name": "python3"
  },
  "language_info": {
   "codemirror_mode": {
    "name": "ipython",
    "version": 3
   },
   "file_extension": ".py",
   "mimetype": "text/x-python",
   "name": "python",
   "nbconvert_exporter": "python",
   "pygments_lexer": "ipython3",
   "version": "3.10.12"
  }
 },
 "nbformat": 4,
 "nbformat_minor": 2
}
