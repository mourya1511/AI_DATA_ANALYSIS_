{
 "cells": [
  {
   "cell_type": "markdown",
   "metadata": {},
   "source": [
    "### Feature Selection - Variance Threshold\n",
    "**Description**: Remove features with low variance."
   ]
  },
  {
   "cell_type": "code",
   "execution_count": 1,
   "metadata": {},
   "outputs": [
    {
     "name": "stdout",
     "output_type": "stream",
     "text": [
      "✅ Retained Features: ['feature_low_var', 'feature_good']\n",
      "❌ Removed Features: ['feature_constant']\n",
      "\n",
      "🎯 Data after feature selection:\n",
      "   feature_low_var  feature_good\n",
      "0                0            10\n",
      "1                1            20\n",
      "2                0            30\n",
      "3                1            40\n",
      "4                0            50\n"
     ]
    }
   ],
   "source": [
    "# write your code from here\n",
    "\n",
    "import pandas as pd\n",
    "import numpy as np\n",
    "from sklearn.feature_selection import VarianceThreshold\n",
    "\n",
    "# -----------------------------\n",
    "# Step 1: Sample Dataset\n",
    "# -----------------------------\n",
    "data = {\n",
    "    'feature_constant': [1, 1, 1, 1, 1],\n",
    "    'feature_low_var': [0, 1, 0, 1, 0],\n",
    "    'feature_good': [10, 20, 30, 40, 50]\n",
    "}\n",
    "df = pd.DataFrame(data)\n",
    "\n",
    "# -----------------------------\n",
    "# Step 2: Validate DataFrame\n",
    "# -----------------------------\n",
    "def validate_dataframe(df):\n",
    "    if df.empty:\n",
    "        raise ValueError(\"❌ The DataFrame is empty.\")\n",
    "    if not all(np.issubdtype(dt, np.number) for dt in df.dtypes):\n",
    "        raise ValueError(\"❌ All columns must be numeric for VarianceThreshold.\")\n",
    "    return True\n",
    "\n",
    "# -----------------------------\n",
    "# Step 3: Feature Selection\n",
    "# -----------------------------\n",
    "def remove_low_variance_features(df, threshold=0.1):\n",
    "    validate_dataframe(df)\n",
    "\n",
    "    selector = VarianceThreshold(threshold=threshold)\n",
    "    selector.fit(df)\n",
    "\n",
    "    retained_columns = df.columns[selector.get_support()]\n",
    "    removed_columns = df.columns[~selector.get_support()]\n",
    "\n",
    "    print(\"✅ Retained Features:\", list(retained_columns))\n",
    "    print(\"❌ Removed Features:\", list(removed_columns))\n",
    "\n",
    "    return df[retained_columns]\n",
    "\n",
    "# -----------------------------\n",
    "# Step 4: Apply Selection\n",
    "# -----------------------------\n",
    "try:\n",
    "    df_selected = remove_low_variance_features(df, threshold=0.1)\n",
    "    print(\"\\n🎯 Data after feature selection:\")\n",
    "    print(df_selected)\n",
    "except Exception as e:\n",
    "    print(\"❌ Error:\", e)"
   ]
  }
 ],
 "metadata": {
  "kernelspec": {
   "display_name": "Python 3",
   "language": "python",
   "name": "python3"
  },
  "language_info": {
   "codemirror_mode": {
    "name": "ipython",
    "version": 3
   },
   "file_extension": ".py",
   "mimetype": "text/x-python",
   "name": "python",
   "nbconvert_exporter": "python",
   "pygments_lexer": "ipython3",
   "version": "3.10.12"
  }
 },
 "nbformat": 4,
 "nbformat_minor": 2
}
