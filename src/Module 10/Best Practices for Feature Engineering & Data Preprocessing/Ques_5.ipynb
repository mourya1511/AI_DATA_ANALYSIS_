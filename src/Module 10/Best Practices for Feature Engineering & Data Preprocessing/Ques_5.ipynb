{
 "cells": [
  {
   "cell_type": "markdown",
   "metadata": {},
   "source": [
    "### Scaling & Feature Selection in a Pipeline\n",
    "**Description**: Create a pipeline that includes feature scaling, variance threshold selection, and a classification model."
   ]
  },
  {
   "cell_type": "code",
   "execution_count": 1,
   "metadata": {},
   "outputs": [
    {
     "name": "stdout",
     "output_type": "stream",
     "text": [
      "✅ Accuracy: 0.6666666666666666\n",
      "✅ Classification Report:\n",
      "               precision    recall  f1-score   support\n",
      "\n",
      "           0       1.00      0.50      0.67         2\n",
      "           1       0.50      1.00      0.67         1\n",
      "\n",
      "    accuracy                           0.67         3\n",
      "   macro avg       0.75      0.75      0.67         3\n",
      "weighted avg       0.83      0.67      0.67         3\n",
      "\n"
     ]
    }
   ],
   "source": [
    "# write your code from here\n",
    "\n",
    "import pandas as pd\n",
    "import numpy as np\n",
    "from sklearn.pipeline import Pipeline\n",
    "from sklearn.feature_selection import VarianceThreshold\n",
    "from sklearn.preprocessing import StandardScaler\n",
    "from sklearn.linear_model import LogisticRegression\n",
    "from sklearn.model_selection import train_test_split\n",
    "from sklearn.metrics import accuracy_score, classification_report\n",
    "from sklearn.exceptions import NotFittedError\n",
    "\n",
    "\n",
    "# -------------------------------\n",
    "# Utility: Validate Input Data\n",
    "# -------------------------------\n",
    "def validate_input(df, feature_cols, target_col):\n",
    "    if df.empty:\n",
    "        raise ValueError(\"❌ DataFrame is empty.\")\n",
    "    missing_cols = set(feature_cols + [target_col]) - set(df.columns)\n",
    "    if missing_cols:\n",
    "        raise ValueError(f\"❌ Missing required columns: {missing_cols}\")\n",
    "    return True\n",
    "\n",
    "\n",
    "# -------------------------------\n",
    "# Pipeline Builder\n",
    "# -------------------------------\n",
    "def build_pipeline(variance_threshold=0.01):\n",
    "    pipeline = Pipeline(steps=[\n",
    "        ('scaler', StandardScaler()),\n",
    "        ('variance_selector', VarianceThreshold(threshold=variance_threshold)),\n",
    "        ('classifier', LogisticRegression())\n",
    "    ])\n",
    "    return pipeline\n",
    "\n",
    "\n",
    "# -------------------------------\n",
    "# Example Dataset\n",
    "# -------------------------------\n",
    "data = {\n",
    "    'feature1': [1, 1, 1, 1, 1, 1, 1],  # Low variance\n",
    "    'feature2': [10, 20, 30, 40, 50, 60, 70],\n",
    "    'feature3': [5, 3, 6, 2, 1, 9, 8],\n",
    "    'target':   [0, 1, 0, 1, 1, 0, 1]\n",
    "}\n",
    "\n",
    "df = pd.DataFrame(data)\n",
    "features = ['feature1', 'feature2', 'feature3']\n",
    "target = 'target'\n",
    "\n",
    "# -------------------------------\n",
    "# Main Execution\n",
    "# -------------------------------\n",
    "try:\n",
    "    validate_input(df, features, target)\n",
    "\n",
    "    X = df[features]\n",
    "    y = df[target]\n",
    "\n",
    "    X_train, X_test, y_train, y_test = train_test_split(X, y, test_size=0.3, random_state=42)\n",
    "\n",
    "    model_pipeline = build_pipeline(variance_threshold=0.01)\n",
    "    model_pipeline.fit(X_train, y_train)\n",
    "\n",
    "    y_pred = model_pipeline.predict(X_test)\n",
    "\n",
    "    print(\"✅ Accuracy:\", accuracy_score(y_test, y_pred))\n",
    "    print(\"✅ Classification Report:\\n\", classification_report(y_test, y_pred))\n",
    "\n",
    "except ValueError as ve:\n",
    "    print(ve)\n",
    "except NotFittedError:\n",
    "    print(\"❌ Model was not fitted properly.\")"
   ]
  }
 ],
 "metadata": {
  "kernelspec": {
   "display_name": "Python 3",
   "language": "python",
   "name": "python3"
  },
  "language_info": {
   "codemirror_mode": {
    "name": "ipython",
    "version": 3
   },
   "file_extension": ".py",
   "mimetype": "text/x-python",
   "name": "python",
   "nbconvert_exporter": "python",
   "pygments_lexer": "ipython3",
   "version": "3.10.12"
  }
 },
 "nbformat": 4,
 "nbformat_minor": 2
}
