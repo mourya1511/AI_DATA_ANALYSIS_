{
 "cells": [
  {
   "cell_type": "code",
   "execution_count": 1,
   "metadata": {},
   "outputs": [
    {
     "name": "stdout",
     "output_type": "stream",
     "text": [
      "Original DataFrame:\n",
      "       Name   Age         City\n",
      "0    Alice  25.0     New York\n",
      "1      Bob   NaN  Los Angeles\n",
      "2  Charlie  30.0          NaN\n",
      "3      NaN  22.0      Chicago\n",
      "4      Eve   NaN        Miami\n",
      "\n",
      "Missing values per column:\n",
      " Name    1\n",
      "Age     2\n",
      "City    1\n",
      "dtype: int64\n",
      "\n",
      "Total missing values: 4\n",
      "\n",
      "DataFrame after dropping rows with missing values:\n",
      "     Name   Age      City\n",
      "0  Alice  25.0  New York\n",
      "\n",
      "DataFrame after imputing missing values:\n",
      "       Name        Age         City\n",
      "0    Alice  25.000000     New York\n",
      "1      Bob  25.666667  Los Angeles\n",
      "2  Charlie  30.000000      Chicago\n",
      "3    Alice  22.000000      Chicago\n",
      "4      Eve  25.666667        Miami\n"
     ]
    }
   ],
   "source": [
    "# Part 1: Detect & Handle Missing Data\n",
    "\n",
    "# Task 1: Detect Missing Data\n",
    "#     1. Load the Data:\n",
    "#     2. Detect Missing Data:\n",
    "\n",
    "\n",
    "\n",
    "# Task 2: Handle Missing Data by Dropping\n",
    "#     1. Drop Rows with Missing Values:\n",
    "        \n",
    "        \n",
    "\n",
    "# Task 3: Handle Missing Data by Imputation\n",
    "#     1. Fill Missing Values:\n",
    "        \n",
    "        \n",
    "import pandas as pd\n",
    "import numpy as np\n",
    "\n",
    "# Create a sample DataFrame with missing values\n",
    "data = {\n",
    "    'Name': ['Alice', 'Bob', 'Charlie', np.nan, 'Eve'],\n",
    "    'Age': [25, np.nan, 30, 22, np.nan],\n",
    "    'City': ['New York', 'Los Angeles', np.nan, 'Chicago', 'Miami']\n",
    "}\n",
    "\n",
    "df = pd.DataFrame(data)\n",
    "\n",
    "# Detect missing data\n",
    "print(\"Original DataFrame:\\n\", df)\n",
    "print(\"\\nMissing values per column:\\n\", df.isnull().sum())\n",
    "print(\"\\nTotal missing values:\", df.isnull().sum().sum())\n",
    "\n",
    "# Handle missing data by dropping rows with any missing values\n",
    "df_dropped = df.dropna()\n",
    "print(\"\\nDataFrame after dropping rows with missing values:\\n\", df_dropped)\n",
    "\n",
    "# Handle missing data by imputation\n",
    "# Fill numeric columns with mean\n",
    "df_imputed = df.fillna(df.mean(numeric_only=True))\n",
    "\n",
    "# Fill categorical columns with mode\n",
    "for col in df.select_dtypes(include='object').columns:\n",
    "    df_imputed[col] = df_imputed[col].fillna(df[col].mode()[0])\n",
    "\n",
    "print(\"\\nDataFrame after imputing missing values:\\n\", df_imputed)"
   ]
  },
  {
   "cell_type": "code",
   "execution_count": null,
   "metadata": {},
   "outputs": [],
   "source": []
  }
 ],
 "metadata": {
  "kernelspec": {
   "display_name": "Python 3",
   "language": "python",
   "name": "python3"
  },
  "language_info": {
   "codemirror_mode": {
    "name": "ipython",
    "version": 3
   },
   "file_extension": ".py",
   "mimetype": "text/x-python",
   "name": "python",
   "nbconvert_exporter": "python",
   "pygments_lexer": "ipython3",
   "version": "3.10.12"
  }
 },
 "nbformat": 4,
 "nbformat_minor": 2
}
