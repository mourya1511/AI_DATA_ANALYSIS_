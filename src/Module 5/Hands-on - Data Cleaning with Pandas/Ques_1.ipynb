{
 "cells": [
  {
   "cell_type": "code",
   "execution_count": 3,
   "metadata": {},
   "outputs": [
    {
     "name": "stdout",
     "output_type": "stream",
     "text": [
      "🔹 Original DataFrame:\n",
      "       Name   Age         City\n",
      "0    Alice  25.0     New York\n",
      "1      Bob   NaN  Los Angeles\n",
      "2  Charlie  30.0          NaN\n",
      "3      NaN  22.0      Chicago\n",
      "4      Eve   NaN        Miami\n",
      "\n",
      "🔹 Missing Values Per Column:\n",
      " Name    1\n",
      "Age     2\n",
      "City    1\n",
      "dtype: int64\n",
      "\n",
      "🔹 Total Missing Values: 4\n"
     ]
    },
    {
     "data": {
      "image/png": "[encoded data removed]",
      "text/plain": [
       "<Figure size 640x480 with 1 Axes>"
      ]
     },
     "metadata": {},
     "output_type": "display_data"
    },
    {
     "name": "stdout",
     "output_type": "stream",
     "text": [
      "\n",
      "✅ DataFrame After Dropping Rows with Missing Values:\n",
      "     Name   Age      City\n",
      "0  Alice  25.0  New York\n",
      "\n",
      "✅ DataFrame After Imputation:\n",
      "       Name        Age         City\n",
      "0    Alice  25.000000     New York\n",
      "1      Bob  25.666667  Los Angeles\n",
      "2  Charlie  30.000000      Chicago\n",
      "3    Alice  22.000000      Chicago\n",
      "4      Eve  25.666667        Miami\n",
      "\n",
      "📊 Summary:\n",
      "Original Rows: 5\n",
      "After Drop Rows: 1\n",
      "Missing After Imputation: 0 (should be 0)\n"
     ]
    }
   ],
   "source": [
    "import pandas as pd\n",
    "import numpy as np\n",
    "import seaborn as sns\n",
    "import matplotlib.pyplot as plt\n",
    "\n",
    "# ----------------------------\n",
    "# Step 1: Create Sample Data\n",
    "# ----------------------------\n",
    "data = {\n",
    "    'Name': ['Alice', 'Bob', 'Charlie', np.nan, 'Eve'],\n",
    "    'Age': [25, np.nan, 30, 22, np.nan],\n",
    "    'City': ['New York', 'Los Angeles', np.nan, 'Chicago', 'Miami']\n",
    "}\n",
    "\n",
    "df = pd.DataFrame(data)\n",
    "print(\"🔹 Original DataFrame:\\n\", df)\n",
    "\n",
    "# ----------------------------\n",
    "# Step 2: Detect Missing Data\n",
    "# ----------------------------\n",
    "print(\"\\n🔹 Missing Values Per Column:\\n\", df.isnull().sum())\n",
    "print(\"\\n🔹 Total Missing Values:\", df.isnull().sum().sum())\n",
    "\n",
    "# Optional: Visualize Missing Data\n",
    "sns.heatmap(df.isnull(), cbar=False, cmap='Reds', yticklabels=False)\n",
    "plt.title(\"Missing Data Heatmap\")\n",
    "plt.show()\n",
    "\n",
    "# ----------------------------\n",
    "# Step 3: Handle by Dropping\n",
    "# ----------------------------\n",
    "df_dropped = df.dropna()\n",
    "print(\"\\n✅ DataFrame After Dropping Rows with Missing Values:\\n\", df_dropped)\n",
    "\n",
    "# ----------------------------\n",
    "# Step 4: Handle by Imputation\n",
    "# ----------------------------\n",
    "\n",
    "# Copy original to preserve it\n",
    "df_imputed = df.copy()\n",
    "\n",
    "# Fill numeric columns with mean\n",
    "for col in df_imputed.select_dtypes(include='number').columns:\n",
    "    mean_value = df_imputed[col].mean()\n",
    "    df_imputed[col].fillna(mean_value, inplace=True)\n",
    "\n",
    "# Fill object (categorical/text) columns with mode\n",
    "for col in df_imputed.select_dtypes(include='object').columns:\n",
    "    mode_value = df_imputed[col].mode()[0]\n",
    "    df_imputed[col].fillna(mode_value, inplace=True)\n",
    "\n",
    "print(\"\\n✅ DataFrame After Imputation:\\n\", df_imputed)\n",
    "\n",
    "# ----------------------------\n",
    "# Summary Report\n",
    "# ----------------------------\n",
    "print(\"\\n📊 Summary:\")\n",
    "print(f\"Original Rows: {len(df)}\")\n",
    "print(f\"After Drop Rows: {len(df_dropped)}\")\n",
    "print(f\"Missing After Imputation: {df_imputed.isnull().sum().sum()} (should be 0)\")"
   ]
  },
  {
   "cell_type": "code",
   "execution_count": null,
   "metadata": {},
   "outputs": [],
   "source": []
  }
 ],
 "metadata": {
  "kernelspec": {
   "display_name": "Python 3",
   "language": "python",
   "name": "python3"
  },
  "language_info": {
   "codemirror_mode": {
    "name": "ipython",
    "version": 3
   },
   "file_extension": ".py",
   "mimetype": "text/x-python",
   "name": "python",
   "nbconvert_exporter": "python",
   "pygments_lexer": "ipython3",
   "version": "3.10.12"
  }
 },
 "nbformat": 4,
 "nbformat_minor": 2
}
