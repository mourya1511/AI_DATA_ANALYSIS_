{
 "cells": [
  {
   "cell_type": "markdown",
   "metadata": {},
   "source": [
    "# Automated Anomaly Detection\n",
    "**Objective**: Understand and practice automated anomaly detection using various techniques.\n",
    "\n",
    "**Task**: Autoencoders for Anomaly Detection\n",
    "\n",
    "**Steps**:\n",
    "1. Data Set: Download a dataset of electricity consumption data.\n",
    "2. Build an Autoencoder: Construct a simple autoencoder using a neural network for the\n",
    "normal consumption data.\n",
    "3. Identify Anomalies: Use the trained model to reconstruct the data and identify anomalies based on reconstruction error.\n",
    "4. Visualize: Plot both the actual and reconstructed data to highlight anomalies."
   ]
  },
  {
   "cell_type": "code",
   "execution_count": 1,
   "metadata": {},
   "outputs": [
    {
     "ename": "ModuleNotFoundError",
     "evalue": "No module named 'tensorflow'",
     "output_type": "error",
     "traceback": [
      "\u001b[0;31m---------------------------------------------------------------------------\u001b[0m",
      "\u001b[0;31mModuleNotFoundError\u001b[0m                       Traceback (most recent call last)",
      "Cell \u001b[0;32mIn[1], line 6\u001b[0m\n\u001b[1;32m      4\u001b[0m \u001b[38;5;28;01mimport\u001b[39;00m\u001b[38;5;250m \u001b[39m\u001b[38;5;21;01mmatplotlib\u001b[39;00m\u001b[38;5;21;01m.\u001b[39;00m\u001b[38;5;21;01mpyplot\u001b[39;00m\u001b[38;5;250m \u001b[39m\u001b[38;5;28;01mas\u001b[39;00m\u001b[38;5;250m \u001b[39m\u001b[38;5;21;01mplt\u001b[39;00m\n\u001b[1;32m      5\u001b[0m \u001b[38;5;28;01mfrom\u001b[39;00m\u001b[38;5;250m \u001b[39m\u001b[38;5;21;01msklearn\u001b[39;00m\u001b[38;5;21;01m.\u001b[39;00m\u001b[38;5;21;01mpreprocessing\u001b[39;00m\u001b[38;5;250m \u001b[39m\u001b[38;5;28;01mimport\u001b[39;00m StandardScaler\n\u001b[0;32m----> 6\u001b[0m \u001b[38;5;28;01mfrom\u001b[39;00m\u001b[38;5;250m \u001b[39m\u001b[38;5;21;01mtensorflow\u001b[39;00m\u001b[38;5;21;01m.\u001b[39;00m\u001b[38;5;21;01mkeras\u001b[39;00m\u001b[38;5;21;01m.\u001b[39;00m\u001b[38;5;21;01mmodels\u001b[39;00m\u001b[38;5;250m \u001b[39m\u001b[38;5;28;01mimport\u001b[39;00m Sequential\n\u001b[1;32m      7\u001b[0m \u001b[38;5;28;01mfrom\u001b[39;00m\u001b[38;5;250m \u001b[39m\u001b[38;5;21;01mtensorflow\u001b[39;00m\u001b[38;5;21;01m.\u001b[39;00m\u001b[38;5;21;01mkeras\u001b[39;00m\u001b[38;5;21;01m.\u001b[39;00m\u001b[38;5;21;01mlayers\u001b[39;00m\u001b[38;5;250m \u001b[39m\u001b[38;5;28;01mimport\u001b[39;00m Dense\n\u001b[1;32m      8\u001b[0m \u001b[38;5;28;01mfrom\u001b[39;00m\u001b[38;5;250m \u001b[39m\u001b[38;5;21;01msklearn\u001b[39;00m\u001b[38;5;21;01m.\u001b[39;00m\u001b[38;5;21;01mmetrics\u001b[39;00m\u001b[38;5;250m \u001b[39m\u001b[38;5;28;01mimport\u001b[39;00m mean_squared_error\n",
      "\u001b[0;31mModuleNotFoundError\u001b[0m: No module named 'tensorflow'"
     ]
    }
   ],
   "source": [
    "# write your code from here\n",
    "import numpy as np\n",
    "import pandas as pd\n",
    "import matplotlib.pyplot as plt\n",
    "from sklearn.preprocessing import StandardScaler\n",
    "from tensorflow.keras.models import Sequential\n",
    "from tensorflow.keras.layers import Dense\n",
    "from sklearn.metrics import mean_squared_error\n",
    "from tensorflow.keras import Model\n",
    "from tensorflow.keras.layers import Input\n",
    "\n",
    "# Step 1: Generate Synthetic Electricity Consumption Data\n",
    "# Simulating electricity consumption data for 1000 days\n",
    "np.random.seed(42)\n",
    "days = np.arange(1000)\n",
    "consumption = np.random.normal(loc=200, scale=50, size=1000)  # Normal consumption (mean=200, std=50)\n",
    "\n",
    "# Introduce anomalies (unusually high consumption)\n",
    "consumption[::50] = consumption[::50] + np.random.normal(loc=300, scale=100, size=20)  # Anomalies every 50th day\n",
    "\n",
    "# Create DataFrame\n",
    "df = pd.DataFrame({'Day': days, 'Consumption': consumption})\n",
    "\n",
    "# Step 2: Preprocess the Data (Standardize)\n",
    "scaler = StandardScaler()\n",
    "df_scaled = scaler.fit_transform(df[['Consumption']])\n",
    "\n",
    "# Step 3: Build the Autoencoder\n",
    "input_layer = Input(shape=(1,))\n",
    "encoded = Dense(64, activation='relu')(input_layer)\n",
    "encoded = Dense(32, activation='relu')(encoded)\n",
    "decoded = Dense(64, activation='relu')(encoded)\n",
    "decoded = Dense(1)(decoded)\n",
    "\n",
    "autoencoder = Model(input_layer, decoded)\n",
    "\n",
    "# Compile the model\n",
    "autoencoder.compile(optimizer='adam', loss='mean_squared_error')\n",
    "\n",
    "# Step 4: Train the Autoencoder on normal data (no anomalies)\n",
    "autoencoder.fit(df_scaled, df_scaled, epochs=50, batch_size=32, shuffle=True, verbose=1)\n",
    "\n",
    "# Step 5: Predict/reconstruct the data\n",
    "reconstructed = autoencoder.predict(df_scaled)\n",
    "\n",
    "# Step 6: Calculate the reconstruction error (mean squared error)\n",
    "reconstruction_error = np.mean(np.square(df_scaled - reconstructed), axis=1)\n",
    "\n",
    "# Step 7: Identify anomalies based on reconstruction error\n",
    "threshold = np.percentile(reconstruction_error, 95)  # Setting threshold to the 95th percentile\n",
    "df['Anomaly'] = np.where(reconstruction_error > threshold, 'Anomaly', 'Normal')\n",
    "\n",
    "# Step 8: Visualize the Actual vs Reconstructed Data and Highlight Anomalies\n",
    "plt.figure(figsize=(12, 6))\n",
    "\n",
    "# Plot actual data (electricity consumption)\n",
    "plt.plot(df['Day'], df['Consumption'], label='Actual Consumption', color='blue')\n",
    "\n",
    "# Plot reconstructed data\n",
    "plt.plot(df['Day'], scaler.inverse_transform(reconstructed), label='Reconstructed Consumption', color='green', linestyle='--')\n",
    "\n",
    "# Highlight anomalies\n",
    "anomalies = df[df['Anomaly'] == 'Anomaly']\n",
    "plt.scatter(anomalies['Day'], anomalies['Consumption'], color='red', label='Anomalies', zorder=5)\n",
    "\n",
    "plt.title('Electricity Consumption with Anomalies Detected by Autoencoder')\n",
    "plt.xlabel('Day')\n",
    "plt.ylabel('Consumption')\n",
    "plt.legend()\n",
    "plt.grid(True)\n",
    "plt.show()\n",
    "\n",
    "# Step 9: Print the detected anomalies\n",
    "print(f\"Detected Anomalies: {anomalies.shape[0]}\")\n"
   ]
  }
 ],
 "metadata": {
  "kernelspec": {
   "display_name": "Python 3",
   "language": "python",
   "name": "python3"
  },
  "language_info": {
   "codemirror_mode": {
    "name": "ipython",
    "version": 3
   },
   "file_extension": ".py",
   "mimetype": "text/x-python",
   "name": "python",
   "nbconvert_exporter": "python",
   "pygments_lexer": "ipython3",
   "version": "3.10.12"
  }
 },
 "nbformat": 4,
 "nbformat_minor": 2
}
