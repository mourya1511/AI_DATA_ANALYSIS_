{
 "cells": [
  {
   "cell_type": "markdown",
   "metadata": {},
   "source": [
    "### Using NLP for Text Data Quality\n",
    "**Objective**: Enhance text data quality using NLP techniques.\n",
    "\n",
    "**Task**: Removing Stopwords\n",
    "\n",
    "**Steps**:\n",
    "1. Data Set: Use a dataset of text product descriptions.\n",
    "2. Stopword Removal: Utilize an NLP library (e.g., NLTK) to remove stopwords from the\n",
    "descriptions.\n",
    "3. Assess Impact: Examine the effectiveness by analyzing word frequency before and after\n",
    "removal."
   ]
  },
  {
   "cell_type": "code",
   "execution_count": 2,
   "metadata": {},
   "outputs": [
    {
     "name": "stderr",
     "output_type": "stream",
     "text": [
      ".F.FFF\n",
      "======================================================================\n",
      "FAIL: test_mixed_input (__main__.TestStopwordRemoval)\n",
      "----------------------------------------------------------------------\n",
      "Traceback (most recent call last):\n",
      "  File \"/tmp/ipykernel_29121/2368000430.py\", line 46, in test_mixed_input\n",
      "    self.assertEqual(remove_stopwords(\"Wow!!! This, right here, is just amazing.\"),\n",
      "AssertionError: \"Error: name 'stopwords' is not defined\" != 'wow right amazing'\n",
      "- Error: name 'stopwords' is not defined\n",
      "+ wow right amazing\n",
      "\n",
      "\n",
      "======================================================================\n",
      "FAIL: test_numbers_and_symbols (__main__.TestStopwordRemoval)\n",
      "----------------------------------------------------------------------\n",
      "Traceback (most recent call last):\n",
      "  File \"/tmp/ipykernel_29121/2368000430.py\", line 39, in test_numbers_and_symbols\n",
      "    self.assertEqual(remove_stopwords(\"123 !@# hello!\"), \"123 hello\")\n",
      "AssertionError: \"Error: name 'stopwords' is not defined\" != '123 hello'\n",
      "- Error: name 'stopwords' is not defined\n",
      "+ 123 hello\n",
      "\n",
      "\n",
      "======================================================================\n",
      "FAIL: test_only_stopwords (__main__.TestStopwordRemoval)\n",
      "----------------------------------------------------------------------\n",
      "Traceback (most recent call last):\n",
      "  File \"/tmp/ipykernel_29121/2368000430.py\", line 36, in test_only_stopwords\n",
      "    self.assertEqual(remove_stopwords(\"the and is in on at\"), \"\")\n",
      "AssertionError: \"Error: name 'stopwords' is not defined\" != ''\n",
      "- Error: name 'stopwords' is not defined\n",
      "+ \n",
      "\n",
      "\n",
      "======================================================================\n",
      "FAIL: test_typical_sentence (__main__.TestStopwordRemoval)\n",
      "----------------------------------------------------------------------\n",
      "Traceback (most recent call last):\n",
      "  File \"/tmp/ipykernel_29121/2368000430.py\", line 29, in test_typical_sentence\n",
      "    self.assertEqual(remove_stopwords(\"This is a test sentence.\"),\n",
      "AssertionError: \"Error: name 'stopwords' is not defined\" != 'test sentence'\n",
      "- Error: name 'stopwords' is not defined\n",
      "+ test sentence\n",
      "\n",
      "\n",
      "----------------------------------------------------------------------\n",
      "Ran 6 tests in 0.006s\n",
      "\n",
      "FAILED (failures=4)\n"
     ]
    },
    {
     "data": {
      "text/plain": [
       "<unittest.runner.TextTestResult run=6 errors=0 failures=4>"
      ]
     },
     "execution_count": 2,
     "metadata": {},
     "output_type": "execute_result"
    }
   ],
   "source": [
    "import unittest\n",
    "\n",
    "# ----------------------------------------\n",
    "# Enhanced stopword removal with more error handling\n",
    "# ----------------------------------------\n",
    "def remove_stopwords(text):\n",
    "    try:\n",
    "        if not isinstance(text, str):\n",
    "            raise ValueError(\"Input must be a string.\")\n",
    "        \n",
    "        if text.strip() == \"\":\n",
    "            return \"\"\n",
    "        \n",
    "        stop_words = set(stopwords.words('english'))\n",
    "        tokens = word_tokenize(text.lower())\n",
    "        filtered_tokens = [word for word in tokens if word not in stop_words and word not in string.punctuation]\n",
    "        \n",
    "        return \" \".join(filtered_tokens)\n",
    "    \n",
    "    except Exception as e:\n",
    "        return f\"Error: {str(e)}\"\n",
    "\n",
    "# ----------------------------------------\n",
    "# Unit Tests for the remove_stopwords function\n",
    "# ----------------------------------------\n",
    "class TestStopwordRemoval(unittest.TestCase):\n",
    "    \n",
    "    def test_typical_sentence(self):\n",
    "        self.assertEqual(remove_stopwords(\"This is a test sentence.\"),\n",
    "                         \"test sentence\")\n",
    "    \n",
    "    def test_empty_string(self):\n",
    "        self.assertEqual(remove_stopwords(\"\"), \"\")\n",
    "    \n",
    "    def test_only_stopwords(self):\n",
    "        self.assertEqual(remove_stopwords(\"the and is in on at\"), \"\")\n",
    "    \n",
    "    def test_numbers_and_symbols(self):\n",
    "        self.assertEqual(remove_stopwords(\"123 !@# hello!\"), \"123 hello\")\n",
    "    \n",
    "    def test_non_string_input(self):\n",
    "        self.assertTrue(\"Error:\" in remove_stopwords(12345))\n",
    "        self.assertTrue(\"Error:\" in remove_stopwords(['This', 'is', 'a', 'list']))\n",
    "    \n",
    "    def test_mixed_input(self):\n",
    "        self.assertEqual(remove_stopwords(\"Wow!!! This, right here, is just amazing.\"),\n",
    "                         \"wow right amazing\")\n",
    "\n",
    "# ----------------------------------------\n",
    "# Run unit tests\n",
    "# ----------------------------------------\n",
    "unittest.TextTestRunner().run(unittest.TestLoader().loadTestsFromTestCase(TestStopwordRemoval))"
   ]
  }
 ],
 "metadata": {
  "kernelspec": {
   "display_name": "Python 3",
   "language": "python",
   "name": "python3"
  },
  "language_info": {
   "codemirror_mode": {
    "name": "ipython",
    "version": 3
   },
   "file_extension": ".py",
   "mimetype": "text/x-python",
   "name": "python",
   "nbconvert_exporter": "python",
   "pygments_lexer": "ipython3",
   "version": "3.10.12"
  }
 },
 "nbformat": 4,
 "nbformat_minor": 2
}
