{
 "cells": [
  {
   "cell_type": "markdown",
   "metadata": {},
   "source": [
    "### Using NLP for Text Data Quality\n",
    "**Objective**: Enhance text data quality using NLP techniques.\n",
    "\n",
    "**Task**: Spelling Corrections\n",
    "\n",
    "**Steps**:\n",
    "1. Data Set: Import a dataset containing text reviews with spelling errors.\n",
    "2. Apply Corrections: Use a spell-checker from an NLP library to correct spelling mistakes.\n",
    "3. Verify Improvements: Review the corrections to ensure data quality improvement."
   ]
  },
  {
   "cell_type": "code",
   "execution_count": 2,
   "metadata": {},
   "outputs": [
    {
     "name": "stdout",
     "output_type": "stream",
     "text": [
      "\n",
      "\u001b[1m[\u001b[0m\u001b[34;49mnotice\u001b[0m\u001b[1;39;49m]\u001b[0m\u001b[39;49m A new release of pip is available: \u001b[0m\u001b[31;49m23.0.1\u001b[0m\u001b[39;49m -> \u001b[0m\u001b[32;49m25.1.1\u001b[0m\n",
      "\u001b[1m[\u001b[0m\u001b[34;49mnotice\u001b[0m\u001b[1;39;49m]\u001b[0m\u001b[39;49m To update, run: \u001b[0m\u001b[32;49mpip install --upgrade pip\u001b[0m\n",
      "[nltk_data] Downloading package brown to /home/vscode/nltk_data...\n",
      "[nltk_data]   Unzipping corpora/brown.zip.\n",
      "[nltk_data] Downloading package punkt_tab to /home/vscode/nltk_data...\n",
      "[nltk_data]   Unzipping tokenizers/punkt_tab.zip.\n",
      "[nltk_data] Downloading package wordnet to /home/vscode/nltk_data...\n",
      "[nltk_data] Downloading package averaged_perceptron_tagger_eng to\n",
      "[nltk_data]     /home/vscode/nltk_data...\n",
      "[nltk_data]   Unzipping taggers/averaged_perceptron_tagger_eng.zip.\n",
      "[nltk_data] Downloading package conll2000 to /home/vscode/nltk_data...\n",
      "[nltk_data]   Unzipping corpora/conll2000.zip.\n",
      "[nltk_data] Downloading package movie_reviews to\n",
      "[nltk_data]     /home/vscode/nltk_data...\n",
      "[nltk_data]   Unzipping corpora/movie_reviews.zip.\n",
      "Finished.\n"
     ]
    },
    {
     "name": "stderr",
     "output_type": "stream",
     "text": [
      "test_clean_text (__main__.TestSpellingCorrection) ... FAIL\n",
      "test_empty_string (__main__.TestSpellingCorrection) ... ok\n",
      "test_none_input (__main__.TestSpellingCorrection) ... ok\n",
      "test_numeric_input (__main__.TestSpellingCorrection) ... ok\n",
      "test_punctuation_handling (__main__.TestSpellingCorrection) ... "
     ]
    },
    {
     "name": "stdout",
     "output_type": "stream",
     "text": [
      "Original vs Corrected Reviews:\n",
      "                    review                corrected_review\n",
      "0    Ths prduct is awsome!             The product is some\n",
      "1       I absolutly lov it            I absolutely love it\n",
      "2     It dosn't wrk at all             It dont work at all\n",
      "3       Gret valu for mony             Fret value for many\n",
      "4  Terribl custmor service         Terrible custom service\n",
      "5                                                         \n",
      "6                     None  Error: Input must be a string.\n",
      "7                    12345  Error: Input must be a string.\n",
      "\n",
      "Running Unit Tests...\n"
     ]
    },
    {
     "name": "stderr",
     "output_type": "stream",
     "text": [
      "FAIL\n",
      "test_typo (__main__.TestSpellingCorrection) ... FAIL\n",
      "\n",
      "======================================================================\n",
      "FAIL: test_clean_text (__main__.TestSpellingCorrection)\n",
      "----------------------------------------------------------------------\n",
      "Traceback (most recent call last):\n",
      "  File \"/tmp/ipykernel_30719/952505152.py\", line 56, in test_clean_text\n",
      "    self.assertEqual(correct_spelling(\"This is great\"), \"This is great\")\n",
      "AssertionError: 'His is great' != 'This is great'\n",
      "- His is great\n",
      "? ^\n",
      "+ This is great\n",
      "? ^^\n",
      "\n",
      "\n",
      "======================================================================\n",
      "FAIL: test_punctuation_handling (__main__.TestSpellingCorrection)\n",
      "----------------------------------------------------------------------\n",
      "Traceback (most recent call last):\n",
      "  File \"/tmp/ipykernel_30719/952505152.py\", line 59, in test_punctuation_handling\n",
      "    self.assertIn(\"love\", result)\n",
      "AssertionError: 'love' not found in 'I lovvvveee it'\n",
      "\n",
      "======================================================================\n",
      "FAIL: test_typo (__main__.TestSpellingCorrection)\n",
      "----------------------------------------------------------------------\n",
      "Traceback (most recent call last):\n",
      "  File \"/tmp/ipykernel_30719/952505152.py\", line 48, in test_typo\n",
      "    self.assertEqual(correct_spelling(\"Gret job\"), \"Great job\")\n",
      "AssertionError: 'Fret job' != 'Great job'\n",
      "- Fret job\n",
      "? ^\n",
      "+ Great job\n",
      "? ^  +\n",
      "\n",
      "\n",
      "----------------------------------------------------------------------\n",
      "Ran 6 tests in 0.436s\n",
      "\n",
      "FAILED (failures=3)\n"
     ]
    },
    {
     "data": {
      "text/plain": [
       "<unittest.runner.TextTestResult run=6 errors=0 failures=3>"
      ]
     },
     "execution_count": 2,
     "metadata": {},
     "output_type": "execute_result"
    }
   ],
   "source": [
    "# Install and import required libraries\n",
    "!pip install -q textblob\n",
    "!python -m textblob.download_corpora\n",
    "\n",
    "import pandas as pd\n",
    "from textblob import TextBlob\n",
    "import re\n",
    "import unittest\n",
    "\n",
    "# Sample dataset with intentional spelling errors\n",
    "data = {\n",
    "    \"review\": [\n",
    "        \"Ths prduct is awsome!\",\n",
    "        \"I absolutly lov it\",\n",
    "        \"It dosn't wrk at all\",\n",
    "        \"Gret valu for mony\",\n",
    "        \"Terribl custmor service\",\n",
    "        \"\",\n",
    "        None,\n",
    "        12345\n",
    "    ]\n",
    "}\n",
    "df = pd.DataFrame(data)\n",
    "\n",
    "# Function to correct spelling with error handling\n",
    "def correct_spelling(text):\n",
    "    try:\n",
    "        if not isinstance(text, str):\n",
    "            raise ValueError(\"Input must be a string.\")\n",
    "        if text.strip() == \"\":\n",
    "            return \"\"\n",
    "        cleaned = re.sub(r\"[^a-zA-Z0-9\\s]\", \"\", text)\n",
    "        corrected = str(TextBlob(cleaned).correct())\n",
    "        return corrected\n",
    "    except Exception as e:\n",
    "        return f\"Error: {str(e)}\"\n",
    "\n",
    "# Apply correction to the DataFrame\n",
    "df['corrected_review'] = df['review'].apply(correct_spelling)\n",
    "\n",
    "# Display original and corrected reviews\n",
    "print(\"Original vs Corrected Reviews:\")\n",
    "print(df[['review', 'corrected_review']])\n",
    "\n",
    "# Unit tests to ensure reliability\n",
    "class TestSpellingCorrection(unittest.TestCase):\n",
    "    def test_typo(self):\n",
    "        self.assertEqual(correct_spelling(\"Gret job\"), \"Great job\")\n",
    "    def test_empty_string(self):\n",
    "        self.assertEqual(correct_spelling(\"\"), \"\")\n",
    "    def test_none_input(self):\n",
    "        self.assertTrue(\"Error:\" in correct_spelling(None))\n",
    "    def test_numeric_input(self):\n",
    "        self.assertTrue(\"Error:\" in correct_spelling(12345))\n",
    "    def test_clean_text(self):\n",
    "        self.assertEqual(correct_spelling(\"This is great\"), \"This is great\")\n",
    "    def test_punctuation_handling(self):\n",
    "        result = correct_spelling(\"I lovvvveee it!!!\")\n",
    "        self.assertIn(\"love\", result)\n",
    "\n",
    "# Run the tests\n",
    "print(\"\\nRunning Unit Tests...\")\n",
    "unittest.TextTestRunner(verbosity=2).run(unittest.TestLoader().loadTestsFromTestCase(TestSpellingCorrection))"
   ]
  }
 ],
 "metadata": {
  "kernelspec": {
   "display_name": "Python 3",
   "language": "python",
   "name": "python3"
  },
  "language_info": {
   "codemirror_mode": {
    "name": "ipython",
    "version": 3
   },
   "file_extension": ".py",
   "mimetype": "text/x-python",
   "name": "python",
   "nbconvert_exporter": "python",
   "pygments_lexer": "ipython3",
   "version": "3.10.12"
  }
 },
 "nbformat": 4,
 "nbformat_minor": 2
}
