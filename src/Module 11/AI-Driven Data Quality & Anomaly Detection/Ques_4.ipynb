{
 "cells": [
  {
   "cell_type": "markdown",
   "metadata": {},
   "source": [
    "# Data Deduplication using Clustering\n",
    "**Objective**: Learn and implement data deduplication techniques.\n",
    "\n",
    "**Task**: Deduplication Using K-means Clustering\n",
    "\n",
    "**Steps**:\n",
    "1. Data Set: Download a dataset containing duplicate customer records.\n",
    "2. Preprocess: Standardize the data to ensure better clustering.\n",
    "3. Apply K-means: Use K-means clustering to find and group similar customer records.\n",
    "4. Identify Duplicates: Identify and remove duplicates within clusters."
   ]
  },
  {
   "cell_type": "code",
   "execution_count": null,
   "metadata": {},
   "outputs": [],
   "source": [
    "# write your code from here\n",
    "import pandas as pd\n",
    "import numpy as np\n",
    "from sklearn.cluster import KMeans\n",
    "from sklearn.preprocessing import StandardScaler\n",
    "import matplotlib.pyplot as plt\n",
    "\n",
    "# Step 1: Generate a synthetic customer dataset with duplicates\n",
    "np.random.seed(42)\n",
    "customer_data = {\n",
    "    'CustomerID': np.arange(1, 21),\n",
    "    'Age': [25, 30, 25, 30, 35, 40, 35, 40, 25, 30, 50, 45, 50, 55, 50, 45, 60, 55, 60, 55],\n",
    "    'AnnualIncome': [50000, 60000, 50000, 60000, 70000, 80000, 70000, 80000, 50000, 60000, 100000, 95000, 100000, 105000, 100000, 95000, 120000, 115000, 120000, 115000],\n",
    "    'SpendingScore': [40, 45, 40, 45, 60, 65, 60, 65, 40, 45, 80, 75, 80, 85, 80, 75, 90, 85, 90, 85]\n",
    "}\n",
    "\n",
    "# Creating a DataFrame\n",
    "df = pd.DataFrame(customer_data)\n",
    "\n",
    "# Step 2: Preprocess the data by standardizing it\n",
    "features = ['Age', 'AnnualIncome', 'SpendingScore']\n",
    "scaler = StandardScaler()\n",
    "df_scaled = scaler.fit_transform(df[features])\n",
    "\n",
    "# Step 3: Apply K-means clustering to group similar customer records\n",
    "kmeans = KMeans(n_clusters=4, random_state=42)\n",
    "df['Cluster'] = kmeans.fit_predict(df_scaled)\n",
    "\n",
    "# Step 4: Identify and remove duplicates within each cluster\n",
    "# Since K-means clusters similar records together, we can deduplicate by selecting the first record in each cluster\n",
    "deduplicated_df = df.groupby('Cluster').first().reset_index(drop=True)\n",
    "\n",
    "# Step 5: Display the original and deduplicated data\n",
    "print(\"Original DataFrame:\")\n",
    "print(df[['CustomerID', 'Age', 'AnnualIncome', 'SpendingScore', 'Cluster']])\n",
    "\n",
    "print(\"\\nDeduplicated DataFrame:\")\n",
    "print(deduplicated_df[['CustomerID', 'Age', 'AnnualIncome', 'SpendingScore']])\n",
    "\n",
    "# Optional: Visualize the clusters to see how the K-means clustering worked\n",
    "plt.figure(figsize=(8, 6))\n",
    "plt.scatter(df['Age'], df['AnnualIncome'], c=df['Cluster'], cmap='viridis', label='Clusters')\n",
    "plt.title('K-means Clustering of Customer Data')\n",
    "plt.xlabel('Age')\n",
    "plt.ylabel('Annual Income')\n",
    "plt.colorbar(label='Cluster')\n",
    "plt.show()"
   ]
  }
 ],
 "metadata": {
  "kernelspec": {
   "display_name": "Python 3",
   "language": "python",
   "name": "python3"
  },
  "language_info": {
   "codemirror_mode": {
    "name": "ipython",
    "version": 3
   },
   "file_extension": ".py",
   "mimetype": "text/x-python",
   "name": "python",
   "nbconvert_exporter": "python",
   "pygments_lexer": "ipython3",
   "version": "3.10.12"
  }
 },
 "nbformat": 4,
 "nbformat_minor": 2
}
