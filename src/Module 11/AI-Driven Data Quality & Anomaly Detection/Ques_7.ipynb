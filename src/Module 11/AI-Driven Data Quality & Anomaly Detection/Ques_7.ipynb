{
 "cells": [
  {
   "cell_type": "markdown",
   "metadata": {},
   "source": [
    "### Using NLP for Text Data Quality\n",
    "**Objective**: Enhance text data quality using NLP techniques.\n",
    "\n",
    "**Task**: Handling Noisy Text Data\n",
    "\n",
    "**Steps**:\n",
    "1. Data Set: Obtain a dataset with customer reviews containing noise (e.g., random characters).\n",
    "2. Clean Data: Use regex patterns to clean the noise from text data.\n",
    "3. Evaluate: Compare the text before and after cleaning for noise."
   ]
  },
  {
   "cell_type": "code",
   "execution_count": 1,
   "metadata": {},
   "outputs": [
    {
     "name": "stdout",
     "output_type": "stream",
     "text": [
      "Original vs Cleaned Reviews:\n",
      "\n",
      "Original: Loooved it!!! 😍😍 will buy again...!!!$$$$\n",
      "Cleaned : loooved it will buy again\n",
      "------------------------------------------------------------\n",
      "Original: Terrible serv!ce@#%^. Never @coming again...\n",
      "Cleaned : terrible servce never coming again\n",
      "------------------------------------------------------------\n",
      "Original: 5 stars!!!*****     Awesome product \n",
      "\n",
      "\n",
      "\n",
      "Cleaned : stars awesome product\n",
      "------------------------------------------------------------\n",
      "Original: w0rst experienc3 eveR...!!! :(\n",
      "Cleaned : wrst experienc ever\n",
      "------------------------------------------------------------\n",
      "Original: Th1s pr0duct is S0000 G00D!!! <3 <3 <3\n",
      "Cleaned : ths prduct is s gd\n",
      "------------------------------------------------------------\n"
     ]
    }
   ],
   "source": [
    "# write your code from here\n",
    "import pandas as pd\n",
    "import re\n",
    "\n",
    "# Step 1: Create a sample dataset with noisy customer reviews\n",
    "data = {\n",
    "    'ReviewID': [1, 2, 3, 4, 5],\n",
    "    'CustomerReview': [\n",
    "        \"Loooved it!!! 😍😍 will buy again...!!!$$$$\",\n",
    "        \"Terrible serv!ce@#%^. Never @coming again...\",\n",
    "        \"5 stars!!!*****     Awesome product \\n\\n\\n\",\n",
    "        \"w0rst experienc3 eveR...!!! :(\",\n",
    "        \"Th1s pr0duct is S0000 G00D!!! <3 <3 <3\"\n",
    "    ]\n",
    "}\n",
    "\n",
    "df = pd.DataFrame(data)\n",
    "\n",
    "# Step 2: Define cleaning function using regex\n",
    "def clean_text(text):\n",
    "    text = text.lower()                             # Convert to lowercase\n",
    "    text = re.sub(r'[^a-z0-9\\s]', '', text)         # Remove punctuation/special chars\n",
    "    text = re.sub(r'\\d+', '', text)                 # Remove numbers\n",
    "    text = re.sub(r'\\s+', ' ', text).strip()        # Remove extra spaces\n",
    "    return text\n",
    "\n",
    "# Step 3: Apply cleaning function\n",
    "df['CleanedReview'] = df['CustomerReview'].apply(clean_text)\n",
    "\n",
    "# Step 4: Compare original and cleaned reviews\n",
    "print(\"Original vs Cleaned Reviews:\\n\")\n",
    "for idx, row in df.iterrows():\n",
    "    print(f\"Original: {row['CustomerReview']}\")\n",
    "    print(f\"Cleaned : {row['CleanedReview']}\")\n",
    "    print(\"-\" * 60)"
   ]
  }
 ],
 "metadata": {
  "kernelspec": {
   "display_name": "Python 3",
   "language": "python",
   "name": "python3"
  },
  "language_info": {
   "codemirror_mode": {
    "name": "ipython",
    "version": 3
   },
   "file_extension": ".py",
   "mimetype": "text/x-python",
   "name": "python",
   "nbconvert_exporter": "python",
   "pygments_lexer": "ipython3",
   "version": "3.10.12"
  }
 },
 "nbformat": 4,
 "nbformat_minor": 2
}
