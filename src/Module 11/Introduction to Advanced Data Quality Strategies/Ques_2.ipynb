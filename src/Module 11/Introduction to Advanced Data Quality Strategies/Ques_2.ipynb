{
 "cells": [
  {
   "cell_type": "markdown",
   "metadata": {},
   "source": [
    "### Handling Unstructured Data with Python\n",
    "**Description**: Extract structured data from unstructured text using Python.\n",
    "\n",
    "**Steps**:\n",
    "1. Load and analyze an unstructured text document.\n",
    "2. Extract information using regex."
   ]
  },
  {
   "cell_type": "code",
   "execution_count": 2,
   "metadata": {},
   "outputs": [
    {
     "name": "stdout",
     "output_type": "stream",
     "text": [
      "📧 Emails: ['john.doe@example.com', 'jane_smith92@company.org']\n",
      "📞 Phones: ['(123) 456-7890', '987-654-3210']\n",
      "👤 Names: ['John Doe', 'Jane Smith', 'Admin Team']\n",
      "📅 Dates: ['12/05/1990', '07-11-1985']\n"
     ]
    }
   ],
   "source": [
    "import re\n",
    "import logging\n",
    "\n",
    "# Setup logging\n",
    "logging.basicConfig(level=logging.INFO)\n",
    "\n",
    "# Sample unstructured text\n",
    "text = \"\"\"\n",
    "Hello,\n",
    "\n",
    "My name is John Doe. You can reach me at john.doe@example.com or call me at (123) 456-7890. \n",
    "I was born on 12/05/1990. My colleague Jane Smith (email: jane_smith92@company.org) was born on 07-11-1985. \n",
    "You can contact her at 987-654-3210. We both work at ExampleCorp.\n",
    "\n",
    "Regards,\n",
    "Admin Team\n",
    "\"\"\"\n",
    "\n",
    "# Extraction functions with error handling\n",
    "def extract_emails(text):\n",
    "    emails = re.findall(r'[a-zA-Z0-9_.+-]+@[a-zA-Z0-9-]+\\.[a-zA-Z0-9-.]+', text)\n",
    "    if not emails:\n",
    "        logging.warning(\"No emails found.\")\n",
    "    return emails\n",
    "\n",
    "def extract_phones(text):\n",
    "    phones = re.findall(r'\\(?\\d{3}\\)?[-.\\s]?\\d{3}[-.\\s]?\\d{4}', text)\n",
    "    if not phones:\n",
    "        logging.warning(\"No phone numbers found.\")\n",
    "    return phones\n",
    "\n",
    "def extract_names(text):\n",
    "    names = re.findall(r'[A-Z][a-z]+\\s[A-Z][a-z]+', text)\n",
    "    if not names:\n",
    "        logging.warning(\"No names found.\")\n",
    "    return names\n",
    "\n",
    "def extract_dates(text):\n",
    "    dates = re.findall(r'\\b\\d{2}[-/]\\d{2}[-/]\\d{4}\\b', text)\n",
    "    if not dates:\n",
    "        logging.warning(\"No dates found.\")\n",
    "    return dates\n",
    "\n",
    "# Run extractions\n",
    "emails = extract_emails(text)\n",
    "phones = extract_phones(text)\n",
    "names = extract_names(text)\n",
    "dates = extract_dates(text)\n",
    "\n",
    "# Print results\n",
    "print(\"📧 Emails:\", emails)\n",
    "print(\"📞 Phones:\", phones)\n",
    "print(\"👤 Names:\", names)\n",
    "print(\"📅 Dates:\", dates)"
   ]
  }
 ],
 "metadata": {
  "kernelspec": {
   "display_name": "Python 3",
   "language": "python",
   "name": "python3"
  },
  "language_info": {
   "codemirror_mode": {
    "name": "ipython",
    "version": 3
   },
   "file_extension": ".py",
   "mimetype": "text/x-python",
   "name": "python",
   "nbconvert_exporter": "python",
   "pygments_lexer": "ipython3",
   "version": "3.10.12"
  }
 },
 "nbformat": 4,
 "nbformat_minor": 2
}
