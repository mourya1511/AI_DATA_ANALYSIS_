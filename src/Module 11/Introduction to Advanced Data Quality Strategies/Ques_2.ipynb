{
 "cells": [
  {
   "cell_type": "markdown",
   "metadata": {},
   "source": [
    "### Handling Unstructured Data with Python\n",
    "**Description**: Extract structured data from unstructured text using Python.\n",
    "\n",
    "**Steps**:\n",
    "1. Load and analyze an unstructured text document.\n",
    "2. Extract information using regex."
   ]
  },
  {
   "cell_type": "code",
   "execution_count": 1,
   "metadata": {},
   "outputs": [
    {
     "name": "stdout",
     "output_type": "stream",
     "text": [
      "Original Unstructured Text:\n",
      "\n",
      "\n",
      "Hello,\n",
      "\n",
      "My name is John Doe. You can reach me at john.doe@example.com or call me at (123) 456-7890. \n",
      "I was born on 12/05/1990. My colleague Jane Smith (email: jane_smith92@company.org) was born on 07-11-1985. \n",
      "You can contact her at 987-654-3210. We both work at ExampleCorp.\n",
      "\n",
      "Regards,\n",
      "Admin Team\n",
      "\n",
      "\n",
      "📧 Emails Found: ['john.doe@example.com', 'jane_smith92@company.org']\n",
      "📞 Phone Numbers Found: ['(123) 456-7890', '987-654-3210']\n",
      "👤 Names Found: ['John Doe', 'Jane Smith', 'Admin Team']\n",
      "📅 Dates Found: ['12/05/1990', '07-11-1985']\n"
     ]
    }
   ],
   "source": [
    "# write your code from here\n",
    "\n",
    "import re\n",
    "\n",
    "# 1. Load and analyze unstructured text\n",
    "text = \"\"\"\n",
    "Hello,\n",
    "\n",
    "My name is John Doe. You can reach me at john.doe@example.com or call me at (123) 456-7890. \n",
    "I was born on 12/05/1990. My colleague Jane Smith (email: jane_smith92@company.org) was born on 07-11-1985. \n",
    "You can contact her at 987-654-3210. We both work at ExampleCorp.\n",
    "\n",
    "Regards,\n",
    "Admin Team\n",
    "\"\"\"\n",
    "\n",
    "print(\"Original Unstructured Text:\\n\")\n",
    "print(text)\n",
    "\n",
    "# 2. Extract structured information using regex\n",
    "\n",
    "# Extract emails\n",
    "emails = re.findall(r'[a-zA-Z0-9_.+-]+@[a-zA-Z0-9-]+\\.[a-zA-Z0-9-.]+', text)\n",
    "\n",
    "# Extract phone numbers\n",
    "phones = re.findall(r'\\(?\\d{3}\\)?[-.\\s]?\\d{3}[-.\\s]?\\d{4}', text)\n",
    "\n",
    "# Extract names (simple pattern: capitalized first and last name)\n",
    "names = re.findall(r'[A-Z][a-z]+\\s[A-Z][a-z]+', text)\n",
    "\n",
    "# Extract dates (dd/mm/yyyy or dd-mm-yyyy)\n",
    "dates = re.findall(r'\\b\\d{2}[-/]\\d{2}[-/]\\d{4}\\b', text)\n",
    "\n",
    "# 3. Display extracted structured data\n",
    "print(\"\\n📧 Emails Found:\", emails)\n",
    "print(\"📞 Phone Numbers Found:\", phones)\n",
    "print(\"👤 Names Found:\", names)\n",
    "print(\"📅 Dates Found:\", dates)"
   ]
  }
 ],
 "metadata": {
  "kernelspec": {
   "display_name": "Python 3",
   "language": "python",
   "name": "python3"
  },
  "language_info": {
   "codemirror_mode": {
    "name": "ipython",
    "version": 3
   },
   "file_extension": ".py",
   "mimetype": "text/x-python",
   "name": "python",
   "nbconvert_exporter": "python",
   "pygments_lexer": "ipython3",
   "version": "3.10.12"
  }
 },
 "nbformat": 4,
 "nbformat_minor": 2
}
