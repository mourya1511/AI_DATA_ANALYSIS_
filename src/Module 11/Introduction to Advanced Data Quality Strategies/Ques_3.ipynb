{
 "cells": [
  {
   "cell_type": "markdown",
   "metadata": {},
   "source": [
    "### Machine Learning for Data Quality Prediction\n",
    "**Description**: Use a machine learning model to predict data quality issues.\n",
    "\n",
    "**Steps**:\n",
    "1. Create a mock dataset with features and label (quality issue/label: 0: good, 1: issue).\n",
    "2. Train a machine learning model.\n",
    "3. Evaluate the model performance."
   ]
  },
  {
   "cell_type": "code",
   "execution_count": 3,
   "metadata": {},
   "outputs": [
    {
     "name": "stdout",
     "output_type": "stream",
     "text": [
      "\n",
      "✅ Classification Report:\n",
      "\n",
      "              precision    recall  f1-score   support\n",
      "\n",
      "           0       0.65      0.85      0.73        26\n",
      "           1       0.33      0.14      0.20        14\n",
      "\n",
      "    accuracy                           0.60        40\n",
      "   macro avg       0.49      0.49      0.47        40\n",
      "weighted avg       0.54      0.60      0.55        40\n",
      "\n",
      "🧩 Confusion Matrix:\n",
      "[[22  4]\n",
      " [12  2]]\n"
     ]
    }
   ],
   "source": [
    "# write your code from here\n",
    "import pandas as pd\n",
    "import numpy as np\n",
    "from sklearn.ensemble import RandomForestClassifier\n",
    "from sklearn.model_selection import train_test_split\n",
    "from sklearn.metrics import classification_report, confusion_matrix\n",
    "\n",
    "# 1. Create mock dataset with some features\n",
    "np.random.seed(42)\n",
    "n_samples = 200\n",
    "\n",
    "data = {\n",
    "    'missing_values_ratio': np.random.rand(n_samples),         # e.g. % of nulls in row\n",
    "    'outlier_score': np.random.rand(n_samples) * 5,            # e.g. some anomaly detection score\n",
    "    'duplicate_flag': np.random.randint(0, 2, size=n_samples), # binary: is_duplicate\n",
    "    'value_length_avg': np.random.normal(loc=10, scale=3, size=n_samples), # average text field length\n",
    "    'special_char_ratio': np.random.rand(n_samples),           # proportion of special characters\n",
    "    'quality_label': np.random.choice([0, 1], size=n_samples, p=[0.7, 0.3])  # 0 = good, 1 = issue\n",
    "}\n",
    "\n",
    "df = pd.DataFrame(data)\n",
    "\n",
    "# 2. Features and label\n",
    "X = df.drop('quality_label', axis=1)\n",
    "y = df['quality_label']\n",
    "\n",
    "# 3. Train/test split\n",
    "X_train, X_test, y_train, y_test = train_test_split(X, y, test_size=0.2, stratify=y, random_state=42)\n",
    "\n",
    "# 4. Train ML model (Random Forest)\n",
    "model = RandomForestClassifier(n_estimators=100, random_state=42)\n",
    "model.fit(X_train, y_train)\n",
    "\n",
    "# 5. Evaluate model\n",
    "y_pred = model.predict(X_test)\n",
    "\n",
    "print(\"\\n✅ Classification Report:\\n\")\n",
    "print(classification_report(y_test, y_pred))\n",
    "\n",
    "print(\"🧩 Confusion Matrix:\")\n",
    "print(confusion_matrix(y_test, y_pred))\n"
   ]
  }
 ],
 "metadata": {
  "kernelspec": {
   "display_name": "Python 3",
   "language": "python",
   "name": "python3"
  },
  "language_info": {
   "codemirror_mode": {
    "name": "ipython",
    "version": 3
   },
   "file_extension": ".py",
   "mimetype": "text/x-python",
   "name": "python",
   "nbconvert_exporter": "python",
   "pygments_lexer": "ipython3",
   "version": "3.10.12"
  }
 },
 "nbformat": 4,
 "nbformat_minor": 2
}
