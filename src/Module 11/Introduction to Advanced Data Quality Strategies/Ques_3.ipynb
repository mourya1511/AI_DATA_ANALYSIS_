{
 "cells": [
  {
   "cell_type": "markdown",
   "metadata": {},
   "source": [
    "### Machine Learning for Data Quality Prediction\n",
    "**Description**: Use a machine learning model to predict data quality issues.\n",
    "\n",
    "**Steps**:\n",
    "1. Create a mock dataset with features and label (quality issue/label: 0: good, 1: issue).\n",
    "2. Train a machine learning model.\n",
    "3. Evaluate the model performance."
   ]
  },
  {
   "cell_type": "code",
   "execution_count": 3,
   "metadata": {},
   "outputs": [
    {
     "name": "stderr",
     "output_type": "stream",
     "text": [
      "2025-05-15 06:29:01,943 - INFO - Model training and evaluation completed successfully.\n"
     ]
    },
    {
     "ename": "ValueError",
     "evalue": "The truth value of an array with more than one element is ambiguous. Use a.any() or a.all()",
     "output_type": "error",
     "traceback": [
      "\u001b[0;31m---------------------------------------------------------------------------\u001b[0m",
      "\u001b[0;31mValueError\u001b[0m                                Traceback (most recent call last)",
      "Cell \u001b[0;32mIn[3], line 77\u001b[0m\n\u001b[1;32m     74\u001b[0m \u001b[38;5;66;03m# Train and evaluate the model\u001b[39;00m\n\u001b[1;32m     75\u001b[0m classification_report_result, confusion_matrix_result \u001b[38;5;241m=\u001b[39m train_and_evaluate(data, \u001b[38;5;124m'\u001b[39m\u001b[38;5;124mtarget\u001b[39m\u001b[38;5;124m'\u001b[39m)\n\u001b[0;32m---> 77\u001b[0m \u001b[38;5;28;01mif\u001b[39;00m classification_report_result \u001b[38;5;129;01mand\u001b[39;00m confusion_matrix_result:\n\u001b[1;32m     78\u001b[0m     \u001b[38;5;28mprint\u001b[39m(\u001b[38;5;124m\"\u001b[39m\u001b[38;5;124mClassification Report:\u001b[39m\u001b[38;5;130;01m\\n\u001b[39;00m\u001b[38;5;124m\"\u001b[39m, classification_report_result)\n\u001b[1;32m     79\u001b[0m     \u001b[38;5;28mprint\u001b[39m(\u001b[38;5;124m\"\u001b[39m\u001b[38;5;124mConfusion Matrix:\u001b[39m\u001b[38;5;130;01m\\n\u001b[39;00m\u001b[38;5;124m\"\u001b[39m, confusion_matrix_result)\n",
      "\u001b[0;31mValueError\u001b[0m: The truth value of an array with more than one element is ambiguous. Use a.any() or a.all()"
     ]
    }
   ],
   "source": [
    "import pandas as pd\n",
    "from sklearn.model_selection import train_test_split\n",
    "from sklearn.ensemble import RandomForestClassifier\n",
    "from sklearn.metrics import classification_report, confusion_matrix\n",
    "import logging\n",
    "\n",
    "# Configure logging\n",
    "logging.basicConfig(level=logging.INFO, format='%(asctime)s - %(levelname)s - %(message)s')\n",
    "\n",
    "\n",
    "def train_and_evaluate(data, target_column):\n",
    "    \"\"\"\n",
    "    Trains a RandomForestClassifier model on the given data and evaluates its performance.\n",
    "\n",
    "    Args:\n",
    "        data (pd.DataFrame): The input data.\n",
    "        target_column (str): The name of the target column.\n",
    "\n",
    "    Returns:\n",
    "        tuple: A tuple containing the classification report and confusion matrix.  Returns None, None if an error occurs.\n",
    "    \"\"\"\n",
    "\n",
    "    try:\n",
    "        # Data validation\n",
    "        if not isinstance(data, pd.DataFrame):\n",
    "            raise TypeError(\"Input data must be a pandas DataFrame.\")\n",
    "        if data.empty:\n",
    "            raise ValueError(\"Input data cannot be empty.\")\n",
    "        if target_column not in data.columns:\n",
    "            raise ValueError(f\"Target column '{target_column}' not found in the data.\")\n",
    "        if data[target_column].isnull().any():\n",
    "            raise ValueError(f\"Target column '{target_column}' contains missing values.\")\n",
    "\n",
    "\n",
    "        # Prepare data\n",
    "        X = data.drop(target_column, axis=1)\n",
    "        y = data[target_column]\n",
    "\n",
    "        # Train-test split\n",
    "        X_train, X_test, y_train, y_test = train_test_split(X, y, test_size=0.3, random_state=42)\n",
    "\n",
    "        # Model training\n",
    "        model = RandomForestClassifier(random_state=42) #Add random_state for reproducibility\n",
    "        model.fit(X_train, y_train)\n",
    "\n",
    "        # Model prediction\n",
    "        y_pred = model.predict(X_test)\n",
    "\n",
    "        # Evaluation\n",
    "        classification_rep = classification_report(y_test, y_pred)\n",
    "        confusion_mat = confusion_matrix(y_test, y_pred)\n",
    "\n",
    "        logging.info(\"Model training and evaluation completed successfully.\")\n",
    "        return classification_rep, confusion_mat\n",
    "\n",
    "    except (TypeError, ValueError) as e:\n",
    "        logging.error(f\"Data validation error: {e}\")\n",
    "        return None, None  # Indicate failure\n",
    "\n",
    "    except Exception as e:\n",
    "        logging.error(f\"An unexpected error occurred: {e}\")\n",
    "        return None, None # Indicate failure\n",
    "\n",
    "\n",
    "if __name__ == '__main__':\n",
    "    # Example usage\n",
    "    # Create a sample dataset\n",
    "    data = pd.DataFrame({\n",
    "        'feature1': [1, 2, 3, 4, 5, 6, 7, 8, 9, 10],\n",
    "        'feature2': [10, 9, 8, 7, 6, 5, 4, 3, 2, 1],\n",
    "        'target': [0, 0, 0, 0, 0, 1, 1, 1, 1, 1]\n",
    "    })\n",
    "\n",
    "    # Train and evaluate the model\n",
    "    classification_report_result, confusion_matrix_result = train_and_evaluate(data, 'target')\n",
    "\n",
    "    if classification_report_result and confusion_matrix_result:\n",
    "        print(\"Classification Report:\\n\", classification_report_result)\n",
    "        print(\"Confusion Matrix:\\n\", confusion_matrix_result)\n",
    "    else:\n",
    "        print(\"Model training and evaluation failed. See logs for details.\")"
   ]
  }
 ],
 "metadata": {
  "kernelspec": {
   "display_name": "Python 3",
   "language": "python",
   "name": "python3"
  },
  "language_info": {
   "codemirror_mode": {
    "name": "ipython",
    "version": 3
   },
   "file_extension": ".py",
   "mimetype": "text/x-python",
   "name": "python",
   "nbconvert_exporter": "python",
   "pygments_lexer": "ipython3",
   "version": "3.10.12"
  }
 },
 "nbformat": 4,
 "nbformat_minor": 2
}
